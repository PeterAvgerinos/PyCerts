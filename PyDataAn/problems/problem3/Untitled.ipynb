{
 "cells": [
  {
   "cell_type": "code",
   "execution_count": null,
   "id": "430d70af",
   "metadata": {},
   "outputs": [],
   "source": [
    "import pandas as pd\n",
    "import seaborn as sns\n",
    "import matplotlib.pyplot as plt\n",
    "import numpy as np"
   ]
  },
  {
   "cell_type": "code",
   "execution_count": null,
   "id": "2c2ef864",
   "metadata": {},
   "outputs": [],
   "source": [
    "# Import data\n",
    "df = None"
   ]
  },
  {
   "cell_type": "code",
   "execution_count": null,
   "id": "c897addd",
   "metadata": {},
   "outputs": [],
   "source": [
    "# Add 'overweight' column\n",
    "df['overweight'] = None"
   ]
  },
  {
   "cell_type": "code",
   "execution_count": null,
   "id": "87f38231",
   "metadata": {},
   "outputs": [],
   "source": [
    "# Normalize data by making 0 always good and 1 always bad.\n",
    "# If the value of 'cholesterol' or 'gluc' is 1, make the value 0.\n",
    "# If the value is more than 1, make the value 1."
   ]
  },
  {
   "cell_type": "code",
   "execution_count": null,
   "id": "1898bc76",
   "metadata": {},
   "outputs": [],
   "source": [
    "# Draw Categorical Plot\n",
    "def draw_cat_plot():\n",
    "    # Create DataFrame for cat plot using `pd.melt` using just the values from 'cholesterol', 'gluc', 'smoke', 'alco', 'active', and 'overweight'.\n",
    "    df_cat = None\n",
    "\n",
    "\n",
    "    # Group and reformat the data to split it by 'cardio'. Show the counts of each feature. You will have to rename one of the columns for the catplot to work correctly.\n",
    "    df_cat = None\n",
    "    \n",
    "\n",
    "    # Draw the catplot with 'sns.catplot()'\n",
    "\n",
    "\n",
    "\n",
    "    # Get the figure for the output\n",
    "    fig = None\n",
    "\n",
    "\n",
    "    # Do not modify the next two lines\n",
    "    fig.savefig('catplot.png')\n",
    "    return fig\n",
    "\n",
    "\n",
    "# Draw Heat Map\n",
    "def draw_heat_map():\n",
    "    # Clean the data\n",
    "    df_heat = None\n",
    "\n",
    "    # Calculate the correlation matrix\n",
    "    corr = None\n",
    "\n",
    "    # Generate a mask for the upper triangle\n",
    "    mask = None\n",
    "\n",
    "\n",
    "\n",
    "    # Set up the matplotlib figure\n",
    "    fig, ax = None\n",
    "\n",
    "    # Draw the heatmap with 'sns.heatmap()'\n",
    "\n",
    "\n",
    "\n",
    "    # Do not modify the next two lines\n",
    "    fig.savefig('heatmap.png')\n",
    "    return fig"
   ]
  }
 ],
 "metadata": {
  "kernelspec": {
   "display_name": "Python 3 (ipykernel)",
   "language": "python",
   "name": "python3"
  },
  "language_info": {
   "codemirror_mode": {
    "name": "ipython",
    "version": 3
   },
   "file_extension": ".py",
   "mimetype": "text/x-python",
   "name": "python",
   "nbconvert_exporter": "python",
   "pygments_lexer": "ipython3",
   "version": "3.10.5"
  }
 },
 "nbformat": 4,
 "nbformat_minor": 5
}
