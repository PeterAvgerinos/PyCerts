{
 "cells": [
  {
   "cell_type": "code",
   "execution_count": 65,
   "id": "94bfdfa6",
   "metadata": {},
   "outputs": [],
   "source": [
    "import matplotlib.pyplot as plt\n",
    "import pandas as pd\n",
    "import seaborn as sns\n",
    "from pandas.plotting import register_matplotlib_converters\n",
    "\n",
    "df = pd.read_csv('fcc-forum-pageviews.csv', parse_dates = ['date'], index_col = 'date')"
   ]
  },
  {
   "cell_type": "code",
   "execution_count": 66,
   "id": "7ad39816",
   "metadata": {},
   "outputs": [],
   "source": [
    "df = df[(df['value'] >= df['value'].quantile(0.025)) &\n",
    "        (df['value'] <= df['value'].quantile(0.975))]"
   ]
  },
  {
   "cell_type": "code",
   "execution_count": 67,
   "id": "e3334ff1",
   "metadata": {},
   "outputs": [],
   "source": [
    "df['months'] = df.index.month_name()"
   ]
  },
  {
   "cell_type": "code",
   "execution_count": 64,
   "id": "81af1d87",
   "metadata": {},
   "outputs": [
    {
     "ename": "SyntaxError",
     "evalue": "positional argument follows keyword argument (2776217860.py, line 1)",
     "output_type": "error",
     "traceback": [
      "\u001b[0;36m  Cell \u001b[0;32mIn [64], line 1\u001b[0;36m\u001b[0m\n\u001b[0;31m    ax = df.plot(kind='bar', figsize(10,6), ylabel='Average Page Views', xlabel='Years', rot=0)\u001b[0m\n\u001b[0m                                                                                              ^\u001b[0m\n\u001b[0;31mSyntaxError\u001b[0m\u001b[0;31m:\u001b[0m positional argument follows keyword argument\n"
     ]
    }
   ],
   "source": [
    "ax = df.plot(kind='bar', figsize(10,6), ylabel='Average Page Views', xlabel='Years', rot=0)"
   ]
  }
 ],
 "metadata": {
  "kernelspec": {
   "display_name": "Python 3 (ipykernel)",
   "language": "python",
   "name": "python3"
  },
  "language_info": {
   "codemirror_mode": {
    "name": "ipython",
    "version": 3
   },
   "file_extension": ".py",
   "mimetype": "text/x-python",
   "name": "python",
   "nbconvert_exporter": "python",
   "pygments_lexer": "ipython3",
   "version": "3.10.5"
  }
 },
 "nbformat": 4,
 "nbformat_minor": 5
}
