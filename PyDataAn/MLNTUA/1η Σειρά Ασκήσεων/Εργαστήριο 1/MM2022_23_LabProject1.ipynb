{
 "cells": [
  {
   "cell_type": "markdown",
   "metadata": {
    "id": "Dv7UKdyCAnqD"
   },
   "source": [
    "###Μηχανική Μάθηση \n",
    "####1η ατομική εργασία \n",
    "ΣΗΜΜΥ- ΕΜΠ - 7ο εξάμηνο -Ακ. Έτος 2022-23\n",
    "\n"
   ]
  },
  {
   "cell_type": "markdown",
   "metadata": {
    "id": "hL5bHZx06KZc"
   },
   "source": [
    "# ⚠️\n",
    "`Επισημαίνεται ότι απαγορεύεται η ανάρτηση των λύσεων των εργαστηριακών ασκήσεων στο github, ή σε άλλες ιστοσελίδες. Η σχεδίαση και το περιεχόμενο των εργαστηριακών projects αποτελούν αντικείμενο πνευματικής ιδιοκτησίας της διδακτικής ομάδας του μαθήματος.`"
   ]
  },
  {
   "cell_type": "markdown",
   "metadata": {
    "id": "vqmQiAojwM3Z"
   },
   "source": [
    " `⚠️  Το σύνολο δεδομένων που σας δόθηκε δεν πρέπει να εμπλουτισθεί με οποιοδήποτε τρόπο. Η εργασία στην οποία θα χρησιμοποιηθεί εμπλουτισμένο σύνολο δεδομένων, δεν θα διορθωθεί.`"
   ]
  },
  {
   "cell_type": "code",
   "execution_count": 1,
   "metadata": {
    "id": "B9TD8ZUOdswo"
   },
   "outputs": [],
   "source": [
    "import pandas as pd\n",
    "import numpy as np\n",
    "import scipy as sc\n",
    "import seaborn as sns\n",
    "import matplotlib.pyplot as plt"
   ]
  },
  {
   "cell_type": "markdown",
   "metadata": {
    "id": "oAx-ib_pBrq9"
   },
   "source": [
    "Ονοματεπώνυμο φοιτητή:\n",
    "\n",
    "Α.Μ.:"
   ]
  },
  {
   "cell_type": "markdown",
   "metadata": {
    "id": "M7IkqlgaGLr2"
   },
   "source": [
    "### 1. Εισαγωγή συνόλου δεδομένων\n",
    "\n",
    "Tο σύνολο δεδομένων για το training-validation μπορείτε να το κατεβάσετε από [εδώ](https://drive.google.com/file/d/1-L7QQEfLWCsqiBClxUlg4yzquf1G_Ga-/view?usp=sharing) και για το testing από [εδώ](https://drive.google.com/file/d/1-6l-NL3wwKGKJpVjxjUrOdFbcnKo-PwW/view?usp=sharing).\n",
    "\n"
   ]
  },
  {
   "cell_type": "markdown",
   "metadata": {
    "id": "Qe4uFFcv9XF3"
   },
   "source": [
    "1.α. Φορτώστε το σύνολο δεδομένων \"train-val.csv\"  στο notebook σας."
   ]
  },
  {
   "cell_type": "code",
   "execution_count": 2,
   "metadata": {
    "colab": {
     "base_uri": "https://localhost:8080/",
     "height": 341
    },
    "id": "fbQtw6iYBrJk",
    "outputId": "e03034d6-2ef5-4da2-97db-527de7e716e4"
   },
   "outputs": [],
   "source": [
    "df = pd.read_csv('train-val.csv')\n",
    "y = df['RainTomorrow']\n",
    "df.drop(['RainTomorrow'], axis=1, inplace=True)"
   ]
  },
  {
   "cell_type": "code",
   "execution_count": 3,
   "metadata": {
    "id": "_NNUYLqvD8fV"
   },
   "outputs": [
    {
     "data": {
      "text/plain": [
       "id                   0\n",
       "Date                 0\n",
       "Location             0\n",
       "MinTemp            160\n",
       "MaxTemp            101\n",
       "Rainfall             0\n",
       "Evaporation      20384\n",
       "Sunshine         22997\n",
       "WindGustDir       3121\n",
       "WindGustSpeed     3093\n",
       "WindDir9am        3821\n",
       "WindDir3pm        1328\n",
       "WindSpeed9am       357\n",
       "WindSpeed3pm       857\n",
       "Humidity9am        558\n",
       "Humidity3pm       1259\n",
       "Pressure9am       4780\n",
       "Pressure3pm       4789\n",
       "Cloud9am         17890\n",
       "Cloud3pm         18981\n",
       "Temp9am            226\n",
       "Temp3pm            913\n",
       "RainToday            0\n",
       "dtype: int64"
      ]
     },
     "execution_count": 3,
     "metadata": {},
     "output_type": "execute_result"
    }
   ],
   "source": [
    "df.isnull().sum()"
   ]
  },
  {
   "cell_type": "markdown",
   "metadata": {
    "id": "lSlCmshW9ZfS"
   },
   "source": [
    "1.β. Φορτώστε το σύνολο δεδομένων \"test.csv\" στο notebook σας"
   ]
  },
  {
   "cell_type": "code",
   "execution_count": 4,
   "metadata": {
    "id": "zRabPOXI9iAi"
   },
   "outputs": [
    {
     "data": {
      "text/html": [
       "<div>\n",
       "<style scoped>\n",
       "    .dataframe tbody tr th:only-of-type {\n",
       "        vertical-align: middle;\n",
       "    }\n",
       "\n",
       "    .dataframe tbody tr th {\n",
       "        vertical-align: top;\n",
       "    }\n",
       "\n",
       "    .dataframe thead th {\n",
       "        text-align: right;\n",
       "    }\n",
       "</style>\n",
       "<table border=\"1\" class=\"dataframe\">\n",
       "  <thead>\n",
       "    <tr style=\"text-align: right;\">\n",
       "      <th></th>\n",
       "      <th>id</th>\n",
       "      <th>Date</th>\n",
       "      <th>Location</th>\n",
       "      <th>MinTemp</th>\n",
       "      <th>MaxTemp</th>\n",
       "      <th>Rainfall</th>\n",
       "      <th>Evaporation</th>\n",
       "      <th>Sunshine</th>\n",
       "      <th>WindGustDir</th>\n",
       "      <th>WindGustSpeed</th>\n",
       "      <th>...</th>\n",
       "      <th>WindSpeed3pm</th>\n",
       "      <th>Humidity9am</th>\n",
       "      <th>Humidity3pm</th>\n",
       "      <th>Pressure9am</th>\n",
       "      <th>Pressure3pm</th>\n",
       "      <th>Cloud9am</th>\n",
       "      <th>Cloud3pm</th>\n",
       "      <th>Temp9am</th>\n",
       "      <th>Temp3pm</th>\n",
       "      <th>RainToday</th>\n",
       "    </tr>\n",
       "  </thead>\n",
       "  <tbody>\n",
       "    <tr>\n",
       "      <th>0</th>\n",
       "      <td>1</td>\n",
       "      <td>2009-03-02</td>\n",
       "      <td>Albury</td>\n",
       "      <td>13.2</td>\n",
       "      <td>31.9</td>\n",
       "      <td>0.0</td>\n",
       "      <td>NaN</td>\n",
       "      <td>NaN</td>\n",
       "      <td>NNW</td>\n",
       "      <td>35.0</td>\n",
       "      <td>...</td>\n",
       "      <td>9.0</td>\n",
       "      <td>53.0</td>\n",
       "      <td>25.0</td>\n",
       "      <td>1014.1</td>\n",
       "      <td>1011.6</td>\n",
       "      <td>NaN</td>\n",
       "      <td>NaN</td>\n",
       "      <td>18.0</td>\n",
       "      <td>29.8</td>\n",
       "      <td>0.0</td>\n",
       "    </tr>\n",
       "    <tr>\n",
       "      <th>1</th>\n",
       "      <td>2</td>\n",
       "      <td>2009-03-07</td>\n",
       "      <td>Albury</td>\n",
       "      <td>8.3</td>\n",
       "      <td>27.9</td>\n",
       "      <td>0.0</td>\n",
       "      <td>NaN</td>\n",
       "      <td>NaN</td>\n",
       "      <td>W</td>\n",
       "      <td>37.0</td>\n",
       "      <td>...</td>\n",
       "      <td>20.0</td>\n",
       "      <td>58.0</td>\n",
       "      <td>22.0</td>\n",
       "      <td>1015.2</td>\n",
       "      <td>1012.4</td>\n",
       "      <td>NaN</td>\n",
       "      <td>NaN</td>\n",
       "      <td>13.3</td>\n",
       "      <td>27.0</td>\n",
       "      <td>0.0</td>\n",
       "    </tr>\n",
       "    <tr>\n",
       "      <th>2</th>\n",
       "      <td>3</td>\n",
       "      <td>2009-04-02</td>\n",
       "      <td>Albury</td>\n",
       "      <td>14.3</td>\n",
       "      <td>32.1</td>\n",
       "      <td>0.0</td>\n",
       "      <td>NaN</td>\n",
       "      <td>NaN</td>\n",
       "      <td>NE</td>\n",
       "      <td>28.0</td>\n",
       "      <td>...</td>\n",
       "      <td>11.0</td>\n",
       "      <td>59.0</td>\n",
       "      <td>30.0</td>\n",
       "      <td>1022.6</td>\n",
       "      <td>1018.4</td>\n",
       "      <td>NaN</td>\n",
       "      <td>NaN</td>\n",
       "      <td>18.4</td>\n",
       "      <td>30.9</td>\n",
       "      <td>0.0</td>\n",
       "    </tr>\n",
       "    <tr>\n",
       "      <th>3</th>\n",
       "      <td>4</td>\n",
       "      <td>2009-04-04</td>\n",
       "      <td>Albury</td>\n",
       "      <td>10.7</td>\n",
       "      <td>21.4</td>\n",
       "      <td>12.6</td>\n",
       "      <td>NaN</td>\n",
       "      <td>NaN</td>\n",
       "      <td>W</td>\n",
       "      <td>43.0</td>\n",
       "      <td>...</td>\n",
       "      <td>13.0</td>\n",
       "      <td>60.0</td>\n",
       "      <td>33.0</td>\n",
       "      <td>1019.8</td>\n",
       "      <td>1019.3</td>\n",
       "      <td>NaN</td>\n",
       "      <td>NaN</td>\n",
       "      <td>13.9</td>\n",
       "      <td>20.3</td>\n",
       "      <td>1.0</td>\n",
       "    </tr>\n",
       "    <tr>\n",
       "      <th>4</th>\n",
       "      <td>5</td>\n",
       "      <td>2009-05-03</td>\n",
       "      <td>Albury</td>\n",
       "      <td>4.6</td>\n",
       "      <td>18.9</td>\n",
       "      <td>0.0</td>\n",
       "      <td>NaN</td>\n",
       "      <td>NaN</td>\n",
       "      <td>S</td>\n",
       "      <td>15.0</td>\n",
       "      <td>...</td>\n",
       "      <td>7.0</td>\n",
       "      <td>75.0</td>\n",
       "      <td>51.0</td>\n",
       "      <td>1028.7</td>\n",
       "      <td>1025.9</td>\n",
       "      <td>NaN</td>\n",
       "      <td>NaN</td>\n",
       "      <td>10.6</td>\n",
       "      <td>18.5</td>\n",
       "      <td>0.0</td>\n",
       "    </tr>\n",
       "    <tr>\n",
       "      <th>...</th>\n",
       "      <td>...</td>\n",
       "      <td>...</td>\n",
       "      <td>...</td>\n",
       "      <td>...</td>\n",
       "      <td>...</td>\n",
       "      <td>...</td>\n",
       "      <td>...</td>\n",
       "      <td>...</td>\n",
       "      <td>...</td>\n",
       "      <td>...</td>\n",
       "      <td>...</td>\n",
       "      <td>...</td>\n",
       "      <td>...</td>\n",
       "      <td>...</td>\n",
       "      <td>...</td>\n",
       "      <td>...</td>\n",
       "      <td>...</td>\n",
       "      <td>...</td>\n",
       "      <td>...</td>\n",
       "      <td>...</td>\n",
       "      <td>...</td>\n",
       "    </tr>\n",
       "    <tr>\n",
       "      <th>9674</th>\n",
       "      <td>9675</td>\n",
       "      <td>2017-05-12</td>\n",
       "      <td>Uluru</td>\n",
       "      <td>5.6</td>\n",
       "      <td>27.0</td>\n",
       "      <td>0.0</td>\n",
       "      <td>NaN</td>\n",
       "      <td>NaN</td>\n",
       "      <td>NNW</td>\n",
       "      <td>28.0</td>\n",
       "      <td>...</td>\n",
       "      <td>15.0</td>\n",
       "      <td>31.0</td>\n",
       "      <td>17.0</td>\n",
       "      <td>1018.8</td>\n",
       "      <td>1014.5</td>\n",
       "      <td>NaN</td>\n",
       "      <td>NaN</td>\n",
       "      <td>13.3</td>\n",
       "      <td>26.2</td>\n",
       "      <td>0.0</td>\n",
       "    </tr>\n",
       "    <tr>\n",
       "      <th>9675</th>\n",
       "      <td>9676</td>\n",
       "      <td>2017-05-14</td>\n",
       "      <td>Uluru</td>\n",
       "      <td>6.8</td>\n",
       "      <td>27.0</td>\n",
       "      <td>0.0</td>\n",
       "      <td>NaN</td>\n",
       "      <td>NaN</td>\n",
       "      <td>WNW</td>\n",
       "      <td>24.0</td>\n",
       "      <td>...</td>\n",
       "      <td>11.0</td>\n",
       "      <td>43.0</td>\n",
       "      <td>20.0</td>\n",
       "      <td>1018.9</td>\n",
       "      <td>1015.4</td>\n",
       "      <td>NaN</td>\n",
       "      <td>NaN</td>\n",
       "      <td>14.6</td>\n",
       "      <td>26.2</td>\n",
       "      <td>0.0</td>\n",
       "    </tr>\n",
       "    <tr>\n",
       "      <th>9676</th>\n",
       "      <td>9677</td>\n",
       "      <td>2017-06-07</td>\n",
       "      <td>Uluru</td>\n",
       "      <td>0.5</td>\n",
       "      <td>21.7</td>\n",
       "      <td>0.0</td>\n",
       "      <td>NaN</td>\n",
       "      <td>NaN</td>\n",
       "      <td>E</td>\n",
       "      <td>43.0</td>\n",
       "      <td>...</td>\n",
       "      <td>20.0</td>\n",
       "      <td>27.0</td>\n",
       "      <td>19.0</td>\n",
       "      <td>1029.0</td>\n",
       "      <td>1025.0</td>\n",
       "      <td>NaN</td>\n",
       "      <td>NaN</td>\n",
       "      <td>9.5</td>\n",
       "      <td>20.5</td>\n",
       "      <td>0.0</td>\n",
       "    </tr>\n",
       "    <tr>\n",
       "      <th>9677</th>\n",
       "      <td>9678</td>\n",
       "      <td>2017-06-13</td>\n",
       "      <td>Uluru</td>\n",
       "      <td>2.5</td>\n",
       "      <td>21.2</td>\n",
       "      <td>0.0</td>\n",
       "      <td>NaN</td>\n",
       "      <td>NaN</td>\n",
       "      <td>ENE</td>\n",
       "      <td>35.0</td>\n",
       "      <td>...</td>\n",
       "      <td>19.0</td>\n",
       "      <td>57.0</td>\n",
       "      <td>32.0</td>\n",
       "      <td>1027.2</td>\n",
       "      <td>1023.0</td>\n",
       "      <td>NaN</td>\n",
       "      <td>NaN</td>\n",
       "      <td>10.3</td>\n",
       "      <td>20.3</td>\n",
       "      <td>0.0</td>\n",
       "    </tr>\n",
       "    <tr>\n",
       "      <th>9678</th>\n",
       "      <td>9679</td>\n",
       "      <td>2017-06-15</td>\n",
       "      <td>Uluru</td>\n",
       "      <td>2.6</td>\n",
       "      <td>22.5</td>\n",
       "      <td>0.0</td>\n",
       "      <td>NaN</td>\n",
       "      <td>NaN</td>\n",
       "      <td>S</td>\n",
       "      <td>19.0</td>\n",
       "      <td>...</td>\n",
       "      <td>7.0</td>\n",
       "      <td>59.0</td>\n",
       "      <td>24.0</td>\n",
       "      <td>1025.0</td>\n",
       "      <td>1021.4</td>\n",
       "      <td>NaN</td>\n",
       "      <td>NaN</td>\n",
       "      <td>8.8</td>\n",
       "      <td>22.1</td>\n",
       "      <td>0.0</td>\n",
       "    </tr>\n",
       "  </tbody>\n",
       "</table>\n",
       "<p>9679 rows × 23 columns</p>\n",
       "</div>"
      ],
      "text/plain": [
       "        id        Date Location  MinTemp  MaxTemp  Rainfall  Evaporation  \\\n",
       "0        1  2009-03-02   Albury     13.2     31.9       0.0          NaN   \n",
       "1        2  2009-03-07   Albury      8.3     27.9       0.0          NaN   \n",
       "2        3  2009-04-02   Albury     14.3     32.1       0.0          NaN   \n",
       "3        4  2009-04-04   Albury     10.7     21.4      12.6          NaN   \n",
       "4        5  2009-05-03   Albury      4.6     18.9       0.0          NaN   \n",
       "...    ...         ...      ...      ...      ...       ...          ...   \n",
       "9674  9675  2017-05-12    Uluru      5.6     27.0       0.0          NaN   \n",
       "9675  9676  2017-05-14    Uluru      6.8     27.0       0.0          NaN   \n",
       "9676  9677  2017-06-07    Uluru      0.5     21.7       0.0          NaN   \n",
       "9677  9678  2017-06-13    Uluru      2.5     21.2       0.0          NaN   \n",
       "9678  9679  2017-06-15    Uluru      2.6     22.5       0.0          NaN   \n",
       "\n",
       "      Sunshine WindGustDir  WindGustSpeed  ... WindSpeed3pm Humidity9am  \\\n",
       "0          NaN         NNW           35.0  ...          9.0        53.0   \n",
       "1          NaN           W           37.0  ...         20.0        58.0   \n",
       "2          NaN          NE           28.0  ...         11.0        59.0   \n",
       "3          NaN           W           43.0  ...         13.0        60.0   \n",
       "4          NaN           S           15.0  ...          7.0        75.0   \n",
       "...        ...         ...            ...  ...          ...         ...   \n",
       "9674       NaN         NNW           28.0  ...         15.0        31.0   \n",
       "9675       NaN         WNW           24.0  ...         11.0        43.0   \n",
       "9676       NaN           E           43.0  ...         20.0        27.0   \n",
       "9677       NaN         ENE           35.0  ...         19.0        57.0   \n",
       "9678       NaN           S           19.0  ...          7.0        59.0   \n",
       "\n",
       "      Humidity3pm  Pressure9am  Pressure3pm  Cloud9am  Cloud3pm  Temp9am  \\\n",
       "0            25.0       1014.1       1011.6       NaN       NaN     18.0   \n",
       "1            22.0       1015.2       1012.4       NaN       NaN     13.3   \n",
       "2            30.0       1022.6       1018.4       NaN       NaN     18.4   \n",
       "3            33.0       1019.8       1019.3       NaN       NaN     13.9   \n",
       "4            51.0       1028.7       1025.9       NaN       NaN     10.6   \n",
       "...           ...          ...          ...       ...       ...      ...   \n",
       "9674         17.0       1018.8       1014.5       NaN       NaN     13.3   \n",
       "9675         20.0       1018.9       1015.4       NaN       NaN     14.6   \n",
       "9676         19.0       1029.0       1025.0       NaN       NaN      9.5   \n",
       "9677         32.0       1027.2       1023.0       NaN       NaN     10.3   \n",
       "9678         24.0       1025.0       1021.4       NaN       NaN      8.8   \n",
       "\n",
       "      Temp3pm  RainToday  \n",
       "0        29.8        0.0  \n",
       "1        27.0        0.0  \n",
       "2        30.9        0.0  \n",
       "3        20.3        1.0  \n",
       "4        18.5        0.0  \n",
       "...       ...        ...  \n",
       "9674     26.2        0.0  \n",
       "9675     26.2        0.0  \n",
       "9676     20.5        0.0  \n",
       "9677     20.3        0.0  \n",
       "9678     22.1        0.0  \n",
       "\n",
       "[9679 rows x 23 columns]"
      ]
     },
     "execution_count": 4,
     "metadata": {},
     "output_type": "execute_result"
    }
   ],
   "source": [
    "test = pd.read_csv('test.csv')\n",
    "test"
   ]
  },
  {
   "cell_type": "markdown",
   "metadata": {
    "id": "wrxF1hO1HPpJ"
   },
   "source": [
    "### 2. Διερευνητική ανάλυση δεδομένων -Exploratory Data Analysis (EDA) \n",
    "Χρησιμοποιήστε code cells  με τις κατάλληλες τεχνικές EDA για την κατανόηση του συνόλου δεδομένων και text cells για επεξήγηση των αποτελεσμάτων. "
   ]
  },
  {
   "cell_type": "markdown",
   "metadata": {
    "id": "fT33H0HPJ7Hg"
   },
   "source": [
    "Χρησιμοποιώντας τις κατάλληλες μεθόδους παρουσιάστε με χρήση κώδικα πληροφορίες για τα εξής:\n",
    "\n",
    "2α. το πλήθος των δειγμάτων και των χαρακτηριστικών του συνόλου δεδομένων, \n",
    "\n",
    "2β. το είδος των χαρακτηριστικών του συνόλου δεδομένων,  \n",
    "\n",
    "2γ. τις ετικέτες των χαρακτηριστικών,\n",
    "\n",
    "2δ. το πλήθος των κατηγοριών, \n",
    "\n",
    "2ε. πόσα δείγματα ανήκουν σε κάθε κατηγορία,\n",
    "\n",
    "2στ. τη συσχέτιση μεταξύ των δεδομένων,\n",
    "\n",
    "2ζ. οποιαδήποτε άλλη πληροφορία πιστεύετε ότι είναι χρήσιμη για την κατανόηση του συνόλου δεδομένων."
   ]
  },
  {
   "cell_type": "code",
   "execution_count": 5,
   "metadata": {
    "id": "dnd0K49PNK1T"
   },
   "outputs": [
    {
     "data": {
      "text/plain": [
       "48423"
      ]
     },
     "execution_count": 5,
     "metadata": {},
     "output_type": "execute_result"
    }
   ],
   "source": [
    "df['id'].count()"
   ]
  },
  {
   "cell_type": "code",
   "execution_count": 6,
   "metadata": {
    "id": "dnd0K49PNK1T"
   },
   "outputs": [],
   "source": [
    "#test['id'].count()"
   ]
  },
  {
   "cell_type": "code",
   "execution_count": 7,
   "metadata": {
    "id": "l_xKl3dQgYe9"
   },
   "outputs": [
    {
     "data": {
      "text/plain": [
       "23"
      ]
     },
     "execution_count": 7,
     "metadata": {},
     "output_type": "execute_result"
    }
   ],
   "source": [
    "len(df.columns)"
   ]
  },
  {
   "cell_type": "code",
   "execution_count": 8,
   "metadata": {
    "id": "l_xKl3dQgYe9"
   },
   "outputs": [],
   "source": [
    "#len(test.columns)"
   ]
  },
  {
   "cell_type": "code",
   "execution_count": 9,
   "metadata": {
    "id": "MFWiNtLVjXqa"
   },
   "outputs": [
    {
     "data": {
      "text/plain": [
       "id                 int64\n",
       "Date              object\n",
       "Location          object\n",
       "MinTemp          float64\n",
       "MaxTemp          float64\n",
       "Rainfall         float64\n",
       "Evaporation      float64\n",
       "Sunshine         float64\n",
       "WindGustDir       object\n",
       "WindGustSpeed    float64\n",
       "WindDir9am        object\n",
       "WindDir3pm        object\n",
       "WindSpeed9am     float64\n",
       "WindSpeed3pm     float64\n",
       "Humidity9am      float64\n",
       "Humidity3pm      float64\n",
       "Pressure9am      float64\n",
       "Pressure3pm      float64\n",
       "Cloud9am         float64\n",
       "Cloud3pm         float64\n",
       "Temp9am          float64\n",
       "Temp3pm          float64\n",
       "RainToday        float64\n",
       "dtype: object"
      ]
     },
     "execution_count": 9,
     "metadata": {},
     "output_type": "execute_result"
    }
   ],
   "source": [
    "df.dtypes"
   ]
  },
  {
   "cell_type": "code",
   "execution_count": 10,
   "metadata": {
    "id": "MFWiNtLVjXqa",
    "scrolled": true
   },
   "outputs": [],
   "source": [
    "#test.dtypes"
   ]
  },
  {
   "cell_type": "code",
   "execution_count": 11,
   "metadata": {
    "id": "gfGTCsl8jYeW"
   },
   "outputs": [
    {
     "data": {
      "text/plain": [
       "Index(['id', 'Date', 'Location', 'MinTemp', 'MaxTemp', 'Rainfall',\n",
       "       'Evaporation', 'Sunshine', 'WindGustDir', 'WindGustSpeed', 'WindDir9am',\n",
       "       'WindDir3pm', 'WindSpeed9am', 'WindSpeed3pm', 'Humidity9am',\n",
       "       'Humidity3pm', 'Pressure9am', 'Pressure3pm', 'Cloud9am', 'Cloud3pm',\n",
       "       'Temp9am', 'Temp3pm', 'RainToday'],\n",
       "      dtype='object')"
      ]
     },
     "execution_count": 11,
     "metadata": {},
     "output_type": "execute_result"
    }
   ],
   "source": [
    "df.columns"
   ]
  },
  {
   "cell_type": "code",
   "execution_count": 12,
   "metadata": {
    "id": "KOX7BLtZmu6b"
   },
   "outputs": [
    {
     "data": {
      "text/plain": [
       "0          W\n",
       "1        WSW\n",
       "2        SSE\n",
       "3        ESE\n",
       "4         NE\n",
       "        ... \n",
       "48418    ESE\n",
       "48419     SE\n",
       "48420    ESE\n",
       "48421     SE\n",
       "48422    SSE\n",
       "Name: WindDir9am, Length: 48423, dtype: object"
      ]
     },
     "execution_count": 12,
     "metadata": {},
     "output_type": "execute_result"
    }
   ],
   "source": [
    "df['WindDir9am']"
   ]
  },
  {
   "cell_type": "code",
   "execution_count": 13,
   "metadata": {
    "id": "hx5_096Ek_Kt"
   },
   "outputs": [
    {
     "name": "stdout",
     "output_type": "stream",
     "text": [
      "<class 'pandas.core.frame.DataFrame'>\n",
      "RangeIndex: 48423 entries, 0 to 48422\n",
      "Data columns (total 23 columns):\n",
      " #   Column         Non-Null Count  Dtype  \n",
      "---  ------         --------------  -----  \n",
      " 0   id             48423 non-null  int64  \n",
      " 1   Date           48423 non-null  object \n",
      " 2   Location       48423 non-null  object \n",
      " 3   MinTemp        48263 non-null  float64\n",
      " 4   MaxTemp        48322 non-null  float64\n",
      " 5   Rainfall       48423 non-null  float64\n",
      " 6   Evaporation    28039 non-null  float64\n",
      " 7   Sunshine       25426 non-null  float64\n",
      " 8   WindGustDir    45302 non-null  object \n",
      " 9   WindGustSpeed  45330 non-null  float64\n",
      " 10  WindDir9am     44602 non-null  object \n",
      " 11  WindDir3pm     47095 non-null  object \n",
      " 12  WindSpeed9am   48066 non-null  float64\n",
      " 13  WindSpeed3pm   47566 non-null  float64\n",
      " 14  Humidity9am    47865 non-null  float64\n",
      " 15  Humidity3pm    47164 non-null  float64\n",
      " 16  Pressure9am    43643 non-null  float64\n",
      " 17  Pressure3pm    43634 non-null  float64\n",
      " 18  Cloud9am       30533 non-null  float64\n",
      " 19  Cloud3pm       29442 non-null  float64\n",
      " 20  Temp9am        48197 non-null  float64\n",
      " 21  Temp3pm        47510 non-null  float64\n",
      " 22  RainToday      48423 non-null  float64\n",
      "dtypes: float64(17), int64(1), object(5)\n",
      "memory usage: 8.5+ MB\n"
     ]
    }
   ],
   "source": [
    "df.info()"
   ]
  },
  {
   "cell_type": "code",
   "execution_count": 14,
   "metadata": {
    "id": "Zv3-UxoSmYVk"
   },
   "outputs": [],
   "source": [
    "#test.info()"
   ]
  },
  {
   "cell_type": "code",
   "execution_count": 15,
   "metadata": {
    "id": "A_jjeWbpoXuO"
   },
   "outputs": [
    {
     "data": {
      "text/plain": [
       "11225"
      ]
     },
     "execution_count": 15,
     "metadata": {},
     "output_type": "execute_result"
    }
   ],
   "source": [
    "df[df['RainToday']==1.0]['RainToday'].count()"
   ]
  },
  {
   "cell_type": "code",
   "execution_count": 16,
   "metadata": {
    "id": "DB-poTZQjYpS"
   },
   "outputs": [
    {
     "data": {
      "text/plain": [
       "id               48423\n",
       "Date             48423\n",
       "Location         48423\n",
       "MinTemp          48263\n",
       "MaxTemp          48322\n",
       "Rainfall         48423\n",
       "Evaporation      28039\n",
       "Sunshine         25426\n",
       "WindGustDir      45302\n",
       "WindGustSpeed    45330\n",
       "WindDir9am       44602\n",
       "WindDir3pm       47095\n",
       "WindSpeed9am     48066\n",
       "WindSpeed3pm     47566\n",
       "Humidity9am      47865\n",
       "Humidity3pm      47164\n",
       "Pressure9am      43643\n",
       "Pressure3pm      43634\n",
       "Cloud9am         30533\n",
       "Cloud3pm         29442\n",
       "Temp9am          48197\n",
       "Temp3pm          47510\n",
       "RainToday        48423\n",
       "dtype: int64"
      ]
     },
     "execution_count": 16,
     "metadata": {},
     "output_type": "execute_result"
    }
   ],
   "source": [
    "df.count()"
   ]
  },
  {
   "cell_type": "code",
   "execution_count": 17,
   "metadata": {
    "id": "Hpv1aw9jjZBG"
   },
   "outputs": [
    {
     "data": {
      "text/plain": [
       "2"
      ]
     },
     "execution_count": 17,
     "metadata": {},
     "output_type": "execute_result"
    }
   ],
   "source": [
    "len(y.unique())"
   ]
  },
  {
   "cell_type": "code",
   "execution_count": 18,
   "metadata": {
    "id": "Hpv1aw9jjZBG"
   },
   "outputs": [
    {
     "data": {
      "text/plain": [
       "0        0.0\n",
       "1        0.0\n",
       "2        0.0\n",
       "3        1.0\n",
       "4        0.0\n",
       "        ... \n",
       "48418    0.0\n",
       "48419    0.0\n",
       "48420    0.0\n",
       "48421    0.0\n",
       "48422    0.0\n",
       "Name: RainTomorrow, Length: 48423, dtype: float64"
      ]
     },
     "execution_count": 18,
     "metadata": {},
     "output_type": "execute_result"
    }
   ],
   "source": [
    "y"
   ]
  },
  {
   "cell_type": "code",
   "execution_count": 19,
   "metadata": {
    "id": "QTyt5DWFs82s"
   },
   "outputs": [
    {
     "data": {
      "text/plain": [
       "11059"
      ]
     },
     "execution_count": 19,
     "metadata": {},
     "output_type": "execute_result"
    }
   ],
   "source": [
    "y[y==1.0].count()"
   ]
  },
  {
   "cell_type": "code",
   "execution_count": 20,
   "metadata": {
    "id": "g9XDvzmjs9pw"
   },
   "outputs": [
    {
     "data": {
      "text/plain": [
       "37364"
      ]
     },
     "execution_count": 20,
     "metadata": {},
     "output_type": "execute_result"
    }
   ],
   "source": [
    "y[y==0.0].count()"
   ]
  },
  {
   "cell_type": "code",
   "execution_count": 21,
   "metadata": {
    "id": "k_6lgafttIU0"
   },
   "outputs": [
    {
     "data": {
      "text/plain": [
       "11059"
      ]
     },
     "execution_count": 21,
     "metadata": {},
     "output_type": "execute_result"
    }
   ],
   "source": [
    "len(y[y==1.0])"
   ]
  },
  {
   "cell_type": "code",
   "execution_count": 22,
   "metadata": {
    "id": "LscNunZntVCr"
   },
   "outputs": [
    {
     "name": "stdout",
     "output_type": "stream",
     "text": [
      "37364\n",
      "11059\n"
     ]
    }
   ],
   "source": [
    "for i in range(0, len(y.unique())):\n",
    "    print(y[y==y.unique()[i]].count())"
   ]
  },
  {
   "cell_type": "code",
   "execution_count": 23,
   "metadata": {
    "id": "wz1lY_q5wNXP"
   },
   "outputs": [
    {
     "name": "stderr",
     "output_type": "stream",
     "text": [
      "/var/folders/m8/41547t_d4vbb207z7w8gbgyr0000gn/T/ipykernel_3074/3081124502.py:1: FutureWarning: The default value of numeric_only in DataFrame.corr is deprecated. In a future version, it will default to False. Select only valid columns or specify the value of numeric_only to silence this warning.\n",
      "  corr_df = df.corr()\n"
     ]
    },
    {
     "data": {
      "image/png": "[encoded data removed]",
      "text/plain": [
       "<Figure size 1500x1500 with 2 Axes>"
      ]
     },
     "metadata": {},
     "output_type": "display_data"
    }
   ],
   "source": [
    "corr_df = df.corr()\n",
    "fig, ax = plt.subplots(figsize=(15,15)) \n",
    "sns.heatmap(corr_df, annot = True, ax = ax);"
   ]
  },
  {
   "cell_type": "markdown",
   "metadata": {
    "id": "EbK3in0hNMeI"
   },
   "source": [
    "### 3. Προεπεξεργασία συνόλου δεδομένων\n",
    "💡`Χρησιμοποιήστε το Column Transformer για τη δημιουργία και την εφαρμογή χωριστών μετασχηματιστών για αριθμητικά και κατηγορικά δεδομένα.`\n",
    "\n",
    "\n"
   ]
  },
  {
   "cell_type": "markdown",
   "metadata": {
    "id": "mKsQVCnLQZ30"
   },
   "source": [
    "3.α.  Θα χρησιμοποιήσετε όλα τα χαρακτηριστικά του συνόλου δεδομένων για την εκπαίδευση των ταξινομητών ή θα επιλέξετε κάποια από αυτά;  Θα κάνετε κάποια συνένωση κάποιων χαρακτηριστικών για δημιουργία νέων χαρακτηριστικών για το μοντέλο σας; \n"
   ]
  },
  {
   "cell_type": "code",
   "execution_count": 24,
   "metadata": {
    "id": "Eqb25dcKNMvg"
   },
   "outputs": [
    {
     "data": {
      "text/html": [
       "<div>\n",
       "<style scoped>\n",
       "    .dataframe tbody tr th:only-of-type {\n",
       "        vertical-align: middle;\n",
       "    }\n",
       "\n",
       "    .dataframe tbody tr th {\n",
       "        vertical-align: top;\n",
       "    }\n",
       "\n",
       "    .dataframe thead th {\n",
       "        text-align: right;\n",
       "    }\n",
       "</style>\n",
       "<table border=\"1\" class=\"dataframe\">\n",
       "  <thead>\n",
       "    <tr style=\"text-align: right;\">\n",
       "      <th></th>\n",
       "      <th>id</th>\n",
       "      <th>Date</th>\n",
       "      <th>Location</th>\n",
       "      <th>MinTemp</th>\n",
       "      <th>MaxTemp</th>\n",
       "      <th>Rainfall</th>\n",
       "      <th>Evaporation</th>\n",
       "      <th>Sunshine</th>\n",
       "      <th>WindGustDir</th>\n",
       "      <th>WindGustSpeed</th>\n",
       "      <th>RainToday</th>\n",
       "      <th>HumidityChange</th>\n",
       "      <th>PressureChange</th>\n",
       "      <th>WindSpeedChange</th>\n",
       "      <th>WindDirChange</th>\n",
       "      <th>CloudChange</th>\n",
       "      <th>TempChange</th>\n",
       "    </tr>\n",
       "  </thead>\n",
       "  <tbody>\n",
       "    <tr>\n",
       "      <th>0</th>\n",
       "      <td>1</td>\n",
       "      <td>2009-03-04</td>\n",
       "      <td>Albury</td>\n",
       "      <td>13.8</td>\n",
       "      <td>22.1</td>\n",
       "      <td>0.2</td>\n",
       "      <td>NaN</td>\n",
       "      <td>NaN</td>\n",
       "      <td>WNW</td>\n",
       "      <td>57.0</td>\n",
       "      <td>0.0</td>\n",
       "      <td>31.0</td>\n",
       "      <td>1.4</td>\n",
       "      <td>-7.0</td>\n",
       "      <td>1</td>\n",
       "      <td>NaN</td>\n",
       "      <td>-6.3</td>\n",
       "    </tr>\n",
       "    <tr>\n",
       "      <th>1</th>\n",
       "      <td>2</td>\n",
       "      <td>2009-03-05</td>\n",
       "      <td>Albury</td>\n",
       "      <td>11.5</td>\n",
       "      <td>22.0</td>\n",
       "      <td>0.0</td>\n",
       "      <td>NaN</td>\n",
       "      <td>NaN</td>\n",
       "      <td>SW</td>\n",
       "      <td>50.0</td>\n",
       "      <td>0.0</td>\n",
       "      <td>27.0</td>\n",
       "      <td>1.9</td>\n",
       "      <td>-14.0</td>\n",
       "      <td>1</td>\n",
       "      <td>NaN</td>\n",
       "      <td>-7.5</td>\n",
       "    </tr>\n",
       "    <tr>\n",
       "      <th>2</th>\n",
       "      <td>3</td>\n",
       "      <td>2009-03-09</td>\n",
       "      <td>Albury</td>\n",
       "      <td>13.8</td>\n",
       "      <td>31.8</td>\n",
       "      <td>0.0</td>\n",
       "      <td>NaN</td>\n",
       "      <td>NaN</td>\n",
       "      <td>NNE</td>\n",
       "      <td>24.0</td>\n",
       "      <td>0.0</td>\n",
       "      <td>21.0</td>\n",
       "      <td>3.8</td>\n",
       "      <td>-11.0</td>\n",
       "      <td>1</td>\n",
       "      <td>NaN</td>\n",
       "      <td>-11.9</td>\n",
       "    </tr>\n",
       "    <tr>\n",
       "      <th>3</th>\n",
       "      <td>4</td>\n",
       "      <td>2009-03-10</td>\n",
       "      <td>Albury</td>\n",
       "      <td>15.5</td>\n",
       "      <td>32.0</td>\n",
       "      <td>0.0</td>\n",
       "      <td>NaN</td>\n",
       "      <td>NaN</td>\n",
       "      <td>NE</td>\n",
       "      <td>50.0</td>\n",
       "      <td>0.0</td>\n",
       "      <td>26.0</td>\n",
       "      <td>3.3</td>\n",
       "      <td>-2.0</td>\n",
       "      <td>1</td>\n",
       "      <td>NaN</td>\n",
       "      <td>-10.7</td>\n",
       "    </tr>\n",
       "    <tr>\n",
       "      <th>4</th>\n",
       "      <td>5</td>\n",
       "      <td>2009-03-11</td>\n",
       "      <td>Albury</td>\n",
       "      <td>18.4</td>\n",
       "      <td>30.5</td>\n",
       "      <td>1.2</td>\n",
       "      <td>NaN</td>\n",
       "      <td>NaN</td>\n",
       "      <td>NE</td>\n",
       "      <td>44.0</td>\n",
       "      <td>1.0</td>\n",
       "      <td>34.0</td>\n",
       "      <td>3.3</td>\n",
       "      <td>-4.0</td>\n",
       "      <td>1</td>\n",
       "      <td>NaN</td>\n",
       "      <td>-8.1</td>\n",
       "    </tr>\n",
       "    <tr>\n",
       "      <th>...</th>\n",
       "      <td>...</td>\n",
       "      <td>...</td>\n",
       "      <td>...</td>\n",
       "      <td>...</td>\n",
       "      <td>...</td>\n",
       "      <td>...</td>\n",
       "      <td>...</td>\n",
       "      <td>...</td>\n",
       "      <td>...</td>\n",
       "      <td>...</td>\n",
       "      <td>...</td>\n",
       "      <td>...</td>\n",
       "      <td>...</td>\n",
       "      <td>...</td>\n",
       "      <td>...</td>\n",
       "      <td>...</td>\n",
       "      <td>...</td>\n",
       "    </tr>\n",
       "    <tr>\n",
       "      <th>48418</th>\n",
       "      <td>48419</td>\n",
       "      <td>2017-06-12</td>\n",
       "      <td>Uluru</td>\n",
       "      <td>5.1</td>\n",
       "      <td>19.7</td>\n",
       "      <td>0.0</td>\n",
       "      <td>NaN</td>\n",
       "      <td>NaN</td>\n",
       "      <td>E</td>\n",
       "      <td>46.0</td>\n",
       "      <td>0.0</td>\n",
       "      <td>27.0</td>\n",
       "      <td>2.7</td>\n",
       "      <td>-4.0</td>\n",
       "      <td>1</td>\n",
       "      <td>NaN</td>\n",
       "      <td>-10.7</td>\n",
       "    </tr>\n",
       "    <tr>\n",
       "      <th>48419</th>\n",
       "      <td>48420</td>\n",
       "      <td>2017-06-16</td>\n",
       "      <td>Uluru</td>\n",
       "      <td>5.2</td>\n",
       "      <td>24.3</td>\n",
       "      <td>0.0</td>\n",
       "      <td>NaN</td>\n",
       "      <td>NaN</td>\n",
       "      <td>E</td>\n",
       "      <td>24.0</td>\n",
       "      <td>0.0</td>\n",
       "      <td>29.0</td>\n",
       "      <td>3.8</td>\n",
       "      <td>0.0</td>\n",
       "      <td>1</td>\n",
       "      <td>NaN</td>\n",
       "      <td>-11.0</td>\n",
       "    </tr>\n",
       "    <tr>\n",
       "      <th>48420</th>\n",
       "      <td>48421</td>\n",
       "      <td>2017-06-20</td>\n",
       "      <td>Uluru</td>\n",
       "      <td>3.5</td>\n",
       "      <td>21.8</td>\n",
       "      <td>0.0</td>\n",
       "      <td>NaN</td>\n",
       "      <td>NaN</td>\n",
       "      <td>E</td>\n",
       "      <td>31.0</td>\n",
       "      <td>0.0</td>\n",
       "      <td>32.0</td>\n",
       "      <td>3.5</td>\n",
       "      <td>2.0</td>\n",
       "      <td>1</td>\n",
       "      <td>NaN</td>\n",
       "      <td>-11.5</td>\n",
       "    </tr>\n",
       "    <tr>\n",
       "      <th>48421</th>\n",
       "      <td>48422</td>\n",
       "      <td>2017-06-23</td>\n",
       "      <td>Uluru</td>\n",
       "      <td>5.4</td>\n",
       "      <td>26.9</td>\n",
       "      <td>0.0</td>\n",
       "      <td>NaN</td>\n",
       "      <td>NaN</td>\n",
       "      <td>N</td>\n",
       "      <td>37.0</td>\n",
       "      <td>0.0</td>\n",
       "      <td>29.0</td>\n",
       "      <td>4.2</td>\n",
       "      <td>0.0</td>\n",
       "      <td>1</td>\n",
       "      <td>NaN</td>\n",
       "      <td>-13.6</td>\n",
       "    </tr>\n",
       "    <tr>\n",
       "      <th>48422</th>\n",
       "      <td>48423</td>\n",
       "      <td>2017-06-24</td>\n",
       "      <td>Uluru</td>\n",
       "      <td>7.8</td>\n",
       "      <td>27.0</td>\n",
       "      <td>0.0</td>\n",
       "      <td>NaN</td>\n",
       "      <td>NaN</td>\n",
       "      <td>SE</td>\n",
       "      <td>28.0</td>\n",
       "      <td>0.0</td>\n",
       "      <td>27.0</td>\n",
       "      <td>2.9</td>\n",
       "      <td>6.0</td>\n",
       "      <td>1</td>\n",
       "      <td>1.0</td>\n",
       "      <td>-10.9</td>\n",
       "    </tr>\n",
       "  </tbody>\n",
       "</table>\n",
       "<p>48423 rows × 17 columns</p>\n",
       "</div>"
      ],
      "text/plain": [
       "          id        Date Location  MinTemp  MaxTemp  Rainfall  Evaporation  \\\n",
       "0          1  2009-03-04   Albury     13.8     22.1       0.2          NaN   \n",
       "1          2  2009-03-05   Albury     11.5     22.0       0.0          NaN   \n",
       "2          3  2009-03-09   Albury     13.8     31.8       0.0          NaN   \n",
       "3          4  2009-03-10   Albury     15.5     32.0       0.0          NaN   \n",
       "4          5  2009-03-11   Albury     18.4     30.5       1.2          NaN   \n",
       "...      ...         ...      ...      ...      ...       ...          ...   \n",
       "48418  48419  2017-06-12    Uluru      5.1     19.7       0.0          NaN   \n",
       "48419  48420  2017-06-16    Uluru      5.2     24.3       0.0          NaN   \n",
       "48420  48421  2017-06-20    Uluru      3.5     21.8       0.0          NaN   \n",
       "48421  48422  2017-06-23    Uluru      5.4     26.9       0.0          NaN   \n",
       "48422  48423  2017-06-24    Uluru      7.8     27.0       0.0          NaN   \n",
       "\n",
       "       Sunshine WindGustDir  WindGustSpeed  RainToday  HumidityChange  \\\n",
       "0           NaN         WNW           57.0        0.0            31.0   \n",
       "1           NaN          SW           50.0        0.0            27.0   \n",
       "2           NaN         NNE           24.0        0.0            21.0   \n",
       "3           NaN          NE           50.0        0.0            26.0   \n",
       "4           NaN          NE           44.0        1.0            34.0   \n",
       "...         ...         ...            ...        ...             ...   \n",
       "48418       NaN           E           46.0        0.0            27.0   \n",
       "48419       NaN           E           24.0        0.0            29.0   \n",
       "48420       NaN           E           31.0        0.0            32.0   \n",
       "48421       NaN           N           37.0        0.0            29.0   \n",
       "48422       NaN          SE           28.0        0.0            27.0   \n",
       "\n",
       "       PressureChange  WindSpeedChange  WindDirChange  CloudChange  TempChange  \n",
       "0                 1.4             -7.0              1          NaN        -6.3  \n",
       "1                 1.9            -14.0              1          NaN        -7.5  \n",
       "2                 3.8            -11.0              1          NaN       -11.9  \n",
       "3                 3.3             -2.0              1          NaN       -10.7  \n",
       "4                 3.3             -4.0              1          NaN        -8.1  \n",
       "...               ...              ...            ...          ...         ...  \n",
       "48418             2.7             -4.0              1          NaN       -10.7  \n",
       "48419             3.8              0.0              1          NaN       -11.0  \n",
       "48420             3.5              2.0              1          NaN       -11.5  \n",
       "48421             4.2              0.0              1          NaN       -13.6  \n",
       "48422             2.9              6.0              1          1.0       -10.9  \n",
       "\n",
       "[48423 rows x 17 columns]"
      ]
     },
     "execution_count": 24,
     "metadata": {},
     "output_type": "execute_result"
    }
   ],
   "source": [
    "df['HumidityChange'] = df['Humidity9am'] - df['Humidity3pm']\n",
    "df['PressureChange'] = df['Pressure9am'] - df['Pressure3pm']\n",
    "df['WindSpeedChange'] = df['WindSpeed9am'] - df['WindSpeed3pm']\n",
    "df['WindDirChange'] = (df['WindDir9am'] != df['WindDir3pm']).apply(lambda x: 1 if x == True else 0)\n",
    "df['CloudChange'] = df['Cloud9am'] - df['Cloud3pm']\n",
    "df['TempChange'] = df['Temp9am'] - df['Temp3pm']\n",
    "df.drop(['Humidity9am', 'Humidity3pm', 'Pressure9am', 'Pressure3pm', 'WindSpeed9am', 'WindSpeed3pm', 'WindDir9am', 'WindDir3pm', 'Cloud9am', 'Cloud3pm', 'Temp9am', 'Temp3pm'], axis=1, inplace=True)\n",
    "df"
   ]
  },
  {
   "cell_type": "code",
   "execution_count": 25,
   "metadata": {
    "id": "Eqb25dcKNMvg"
   },
   "outputs": [
    {
     "data": {
      "text/html": [
       "<div>\n",
       "<style scoped>\n",
       "    .dataframe tbody tr th:only-of-type {\n",
       "        vertical-align: middle;\n",
       "    }\n",
       "\n",
       "    .dataframe tbody tr th {\n",
       "        vertical-align: top;\n",
       "    }\n",
       "\n",
       "    .dataframe thead th {\n",
       "        text-align: right;\n",
       "    }\n",
       "</style>\n",
       "<table border=\"1\" class=\"dataframe\">\n",
       "  <thead>\n",
       "    <tr style=\"text-align: right;\">\n",
       "      <th></th>\n",
       "      <th>id</th>\n",
       "      <th>Date</th>\n",
       "      <th>Location</th>\n",
       "      <th>MinTemp</th>\n",
       "      <th>MaxTemp</th>\n",
       "      <th>Rainfall</th>\n",
       "      <th>Evaporation</th>\n",
       "      <th>Sunshine</th>\n",
       "      <th>WindGustDir</th>\n",
       "      <th>WindGustSpeed</th>\n",
       "      <th>RainToday</th>\n",
       "      <th>HumidityChange</th>\n",
       "      <th>PressureChange</th>\n",
       "      <th>WindSpeedChange</th>\n",
       "      <th>WindDirChange</th>\n",
       "      <th>CloudChange</th>\n",
       "      <th>TempChange</th>\n",
       "    </tr>\n",
       "  </thead>\n",
       "  <tbody>\n",
       "    <tr>\n",
       "      <th>0</th>\n",
       "      <td>1</td>\n",
       "      <td>2009-03-02</td>\n",
       "      <td>Albury</td>\n",
       "      <td>13.2</td>\n",
       "      <td>31.9</td>\n",
       "      <td>0.0</td>\n",
       "      <td>NaN</td>\n",
       "      <td>NaN</td>\n",
       "      <td>NNW</td>\n",
       "      <td>35.0</td>\n",
       "      <td>0.0</td>\n",
       "      <td>28.0</td>\n",
       "      <td>2.5</td>\n",
       "      <td>-3.0</td>\n",
       "      <td>1</td>\n",
       "      <td>NaN</td>\n",
       "      <td>-11.8</td>\n",
       "    </tr>\n",
       "    <tr>\n",
       "      <th>1</th>\n",
       "      <td>2</td>\n",
       "      <td>2009-03-07</td>\n",
       "      <td>Albury</td>\n",
       "      <td>8.3</td>\n",
       "      <td>27.9</td>\n",
       "      <td>0.0</td>\n",
       "      <td>NaN</td>\n",
       "      <td>NaN</td>\n",
       "      <td>W</td>\n",
       "      <td>37.0</td>\n",
       "      <td>0.0</td>\n",
       "      <td>36.0</td>\n",
       "      <td>2.8</td>\n",
       "      <td>-16.0</td>\n",
       "      <td>1</td>\n",
       "      <td>NaN</td>\n",
       "      <td>-13.7</td>\n",
       "    </tr>\n",
       "    <tr>\n",
       "      <th>2</th>\n",
       "      <td>3</td>\n",
       "      <td>2009-04-02</td>\n",
       "      <td>Albury</td>\n",
       "      <td>14.3</td>\n",
       "      <td>32.1</td>\n",
       "      <td>0.0</td>\n",
       "      <td>NaN</td>\n",
       "      <td>NaN</td>\n",
       "      <td>NE</td>\n",
       "      <td>28.0</td>\n",
       "      <td>0.0</td>\n",
       "      <td>29.0</td>\n",
       "      <td>4.2</td>\n",
       "      <td>-11.0</td>\n",
       "      <td>1</td>\n",
       "      <td>NaN</td>\n",
       "      <td>-12.5</td>\n",
       "    </tr>\n",
       "    <tr>\n",
       "      <th>3</th>\n",
       "      <td>4</td>\n",
       "      <td>2009-04-04</td>\n",
       "      <td>Albury</td>\n",
       "      <td>10.7</td>\n",
       "      <td>21.4</td>\n",
       "      <td>12.6</td>\n",
       "      <td>NaN</td>\n",
       "      <td>NaN</td>\n",
       "      <td>W</td>\n",
       "      <td>43.0</td>\n",
       "      <td>1.0</td>\n",
       "      <td>27.0</td>\n",
       "      <td>0.5</td>\n",
       "      <td>-13.0</td>\n",
       "      <td>1</td>\n",
       "      <td>NaN</td>\n",
       "      <td>-6.4</td>\n",
       "    </tr>\n",
       "    <tr>\n",
       "      <th>4</th>\n",
       "      <td>5</td>\n",
       "      <td>2009-05-03</td>\n",
       "      <td>Albury</td>\n",
       "      <td>4.6</td>\n",
       "      <td>18.9</td>\n",
       "      <td>0.0</td>\n",
       "      <td>NaN</td>\n",
       "      <td>NaN</td>\n",
       "      <td>S</td>\n",
       "      <td>15.0</td>\n",
       "      <td>0.0</td>\n",
       "      <td>24.0</td>\n",
       "      <td>2.8</td>\n",
       "      <td>-3.0</td>\n",
       "      <td>1</td>\n",
       "      <td>NaN</td>\n",
       "      <td>-7.9</td>\n",
       "    </tr>\n",
       "    <tr>\n",
       "      <th>...</th>\n",
       "      <td>...</td>\n",
       "      <td>...</td>\n",
       "      <td>...</td>\n",
       "      <td>...</td>\n",
       "      <td>...</td>\n",
       "      <td>...</td>\n",
       "      <td>...</td>\n",
       "      <td>...</td>\n",
       "      <td>...</td>\n",
       "      <td>...</td>\n",
       "      <td>...</td>\n",
       "      <td>...</td>\n",
       "      <td>...</td>\n",
       "      <td>...</td>\n",
       "      <td>...</td>\n",
       "      <td>...</td>\n",
       "      <td>...</td>\n",
       "    </tr>\n",
       "    <tr>\n",
       "      <th>9674</th>\n",
       "      <td>9675</td>\n",
       "      <td>2017-05-12</td>\n",
       "      <td>Uluru</td>\n",
       "      <td>5.6</td>\n",
       "      <td>27.0</td>\n",
       "      <td>0.0</td>\n",
       "      <td>NaN</td>\n",
       "      <td>NaN</td>\n",
       "      <td>NNW</td>\n",
       "      <td>28.0</td>\n",
       "      <td>0.0</td>\n",
       "      <td>14.0</td>\n",
       "      <td>4.3</td>\n",
       "      <td>-6.0</td>\n",
       "      <td>1</td>\n",
       "      <td>NaN</td>\n",
       "      <td>-12.9</td>\n",
       "    </tr>\n",
       "    <tr>\n",
       "      <th>9675</th>\n",
       "      <td>9676</td>\n",
       "      <td>2017-05-14</td>\n",
       "      <td>Uluru</td>\n",
       "      <td>6.8</td>\n",
       "      <td>27.0</td>\n",
       "      <td>0.0</td>\n",
       "      <td>NaN</td>\n",
       "      <td>NaN</td>\n",
       "      <td>WNW</td>\n",
       "      <td>24.0</td>\n",
       "      <td>0.0</td>\n",
       "      <td>23.0</td>\n",
       "      <td>3.5</td>\n",
       "      <td>-2.0</td>\n",
       "      <td>1</td>\n",
       "      <td>NaN</td>\n",
       "      <td>-11.6</td>\n",
       "    </tr>\n",
       "    <tr>\n",
       "      <th>9676</th>\n",
       "      <td>9677</td>\n",
       "      <td>2017-06-07</td>\n",
       "      <td>Uluru</td>\n",
       "      <td>0.5</td>\n",
       "      <td>21.7</td>\n",
       "      <td>0.0</td>\n",
       "      <td>NaN</td>\n",
       "      <td>NaN</td>\n",
       "      <td>E</td>\n",
       "      <td>43.0</td>\n",
       "      <td>0.0</td>\n",
       "      <td>8.0</td>\n",
       "      <td>4.0</td>\n",
       "      <td>-7.0</td>\n",
       "      <td>1</td>\n",
       "      <td>NaN</td>\n",
       "      <td>-11.0</td>\n",
       "    </tr>\n",
       "    <tr>\n",
       "      <th>9677</th>\n",
       "      <td>9678</td>\n",
       "      <td>2017-06-13</td>\n",
       "      <td>Uluru</td>\n",
       "      <td>2.5</td>\n",
       "      <td>21.2</td>\n",
       "      <td>0.0</td>\n",
       "      <td>NaN</td>\n",
       "      <td>NaN</td>\n",
       "      <td>ENE</td>\n",
       "      <td>35.0</td>\n",
       "      <td>0.0</td>\n",
       "      <td>25.0</td>\n",
       "      <td>4.2</td>\n",
       "      <td>-2.0</td>\n",
       "      <td>1</td>\n",
       "      <td>NaN</td>\n",
       "      <td>-10.0</td>\n",
       "    </tr>\n",
       "    <tr>\n",
       "      <th>9678</th>\n",
       "      <td>9679</td>\n",
       "      <td>2017-06-15</td>\n",
       "      <td>Uluru</td>\n",
       "      <td>2.6</td>\n",
       "      <td>22.5</td>\n",
       "      <td>0.0</td>\n",
       "      <td>NaN</td>\n",
       "      <td>NaN</td>\n",
       "      <td>S</td>\n",
       "      <td>19.0</td>\n",
       "      <td>0.0</td>\n",
       "      <td>35.0</td>\n",
       "      <td>3.6</td>\n",
       "      <td>2.0</td>\n",
       "      <td>1</td>\n",
       "      <td>NaN</td>\n",
       "      <td>-13.3</td>\n",
       "    </tr>\n",
       "  </tbody>\n",
       "</table>\n",
       "<p>9679 rows × 17 columns</p>\n",
       "</div>"
      ],
      "text/plain": [
       "        id        Date Location  MinTemp  MaxTemp  Rainfall  Evaporation  \\\n",
       "0        1  2009-03-02   Albury     13.2     31.9       0.0          NaN   \n",
       "1        2  2009-03-07   Albury      8.3     27.9       0.0          NaN   \n",
       "2        3  2009-04-02   Albury     14.3     32.1       0.0          NaN   \n",
       "3        4  2009-04-04   Albury     10.7     21.4      12.6          NaN   \n",
       "4        5  2009-05-03   Albury      4.6     18.9       0.0          NaN   \n",
       "...    ...         ...      ...      ...      ...       ...          ...   \n",
       "9674  9675  2017-05-12    Uluru      5.6     27.0       0.0          NaN   \n",
       "9675  9676  2017-05-14    Uluru      6.8     27.0       0.0          NaN   \n",
       "9676  9677  2017-06-07    Uluru      0.5     21.7       0.0          NaN   \n",
       "9677  9678  2017-06-13    Uluru      2.5     21.2       0.0          NaN   \n",
       "9678  9679  2017-06-15    Uluru      2.6     22.5       0.0          NaN   \n",
       "\n",
       "      Sunshine WindGustDir  WindGustSpeed  RainToday  HumidityChange  \\\n",
       "0          NaN         NNW           35.0        0.0            28.0   \n",
       "1          NaN           W           37.0        0.0            36.0   \n",
       "2          NaN          NE           28.0        0.0            29.0   \n",
       "3          NaN           W           43.0        1.0            27.0   \n",
       "4          NaN           S           15.0        0.0            24.0   \n",
       "...        ...         ...            ...        ...             ...   \n",
       "9674       NaN         NNW           28.0        0.0            14.0   \n",
       "9675       NaN         WNW           24.0        0.0            23.0   \n",
       "9676       NaN           E           43.0        0.0             8.0   \n",
       "9677       NaN         ENE           35.0        0.0            25.0   \n",
       "9678       NaN           S           19.0        0.0            35.0   \n",
       "\n",
       "      PressureChange  WindSpeedChange  WindDirChange  CloudChange  TempChange  \n",
       "0                2.5             -3.0              1          NaN       -11.8  \n",
       "1                2.8            -16.0              1          NaN       -13.7  \n",
       "2                4.2            -11.0              1          NaN       -12.5  \n",
       "3                0.5            -13.0              1          NaN        -6.4  \n",
       "4                2.8             -3.0              1          NaN        -7.9  \n",
       "...              ...              ...            ...          ...         ...  \n",
       "9674             4.3             -6.0              1          NaN       -12.9  \n",
       "9675             3.5             -2.0              1          NaN       -11.6  \n",
       "9676             4.0             -7.0              1          NaN       -11.0  \n",
       "9677             4.2             -2.0              1          NaN       -10.0  \n",
       "9678             3.6              2.0              1          NaN       -13.3  \n",
       "\n",
       "[9679 rows x 17 columns]"
      ]
     },
     "execution_count": 25,
     "metadata": {},
     "output_type": "execute_result"
    }
   ],
   "source": [
    "test['HumidityChange'] = test['Humidity9am'] - test['Humidity3pm']\n",
    "test['PressureChange'] = test['Pressure9am'] - test['Pressure3pm']\n",
    "test['WindSpeedChange'] = test['WindSpeed9am'] - test['WindSpeed3pm']\n",
    "test['WindDirChange'] = (test['WindDir9am'] != test['WindDir3pm']).apply(lambda x: 1 if x == True else 0)\n",
    "test['CloudChange'] = test['Cloud9am'] - test['Cloud3pm']\n",
    "test['TempChange'] = test['Temp9am'] - test['Temp3pm']\n",
    "test.drop(['Humidity9am', 'Humidity3pm', 'Pressure9am', 'Pressure3pm', 'WindSpeed9am', 'WindSpeed3pm', 'WindDir9am', 'WindDir3pm', 'Cloud9am', 'Cloud3pm', 'Temp9am', 'Temp3pm'], axis=1, inplace=True)\n",
    "test"
   ]
  },
  {
   "cell_type": "code",
   "execution_count": 26,
   "metadata": {
    "id": "W9xaMw4q72LB"
   },
   "outputs": [
    {
     "name": "stderr",
     "output_type": "stream",
     "text": [
      "/var/folders/m8/41547t_d4vbb207z7w8gbgyr0000gn/T/ipykernel_3074/2019243131.py:1: FutureWarning: The default value of numeric_only in DataFrame.corr is deprecated. In a future version, it will default to False. Select only valid columns or specify the value of numeric_only to silence this warning.\n",
      "  df_corr_new = df.corr()\n"
     ]
    },
    {
     "data": {
      "image/png": "[encoded data removed]",
      "text/plain": [
       "<Figure size 1500x1500 with 2 Axes>"
      ]
     },
     "metadata": {},
     "output_type": "display_data"
    }
   ],
   "source": [
    "df_corr_new = df.corr()\n",
    "fig, ax = plt.subplots(figsize=(15,15)) \n",
    "sns.heatmap(df_corr_new, annot = True, ax = ax);"
   ]
  },
  {
   "cell_type": "markdown",
   "metadata": {
    "id": "GPCa3SklNmBe"
   },
   "source": [
    "3.β. Υπάρχουν απουσιάζουσες τιμές; Γράψτε κατάλληλο κώδικα ώστε να χειριστείτε αυτές τις τιμές."
   ]
  },
  {
   "cell_type": "code",
   "execution_count": 27,
   "metadata": {
    "id": "1e_E53VJN8a2"
   },
   "outputs": [
    {
     "data": {
      "text/plain": [
       "id                     0\n",
       "Date                   0\n",
       "Location               0\n",
       "MinTemp              160\n",
       "MaxTemp              101\n",
       "Rainfall               0\n",
       "Evaporation        20384\n",
       "Sunshine           22997\n",
       "WindGustDir         3121\n",
       "WindGustSpeed       3093\n",
       "RainToday              0\n",
       "HumidityChange      1444\n",
       "PressureChange      4852\n",
       "WindSpeedChange      952\n",
       "WindDirChange          0\n",
       "CloudChange        20300\n",
       "TempChange          1056\n",
       "dtype: int64"
      ]
     },
     "execution_count": 27,
     "metadata": {},
     "output_type": "execute_result"
    }
   ],
   "source": [
    "df.isnull().sum()"
   ]
  },
  {
   "cell_type": "code",
   "execution_count": 28,
   "metadata": {
    "id": "1e_E53VJN8a2"
   },
   "outputs": [],
   "source": [
    "#test.isnull().sum()"
   ]
  },
  {
   "cell_type": "code",
   "execution_count": 29,
   "metadata": {},
   "outputs": [
    {
     "data": {
      "text/plain": [
       "id                 0.000000\n",
       "Date               0.000000\n",
       "Location           0.000000\n",
       "MinTemp            0.003304\n",
       "MaxTemp            0.002086\n",
       "Rainfall           0.000000\n",
       "Evaporation        0.420957\n",
       "Sunshine           0.474919\n",
       "WindGustDir        0.064453\n",
       "WindGustSpeed      0.063875\n",
       "RainToday          0.000000\n",
       "HumidityChange     0.029821\n",
       "PressureChange     0.100200\n",
       "WindSpeedChange    0.019660\n",
       "WindDirChange      0.000000\n",
       "CloudChange        0.419222\n",
       "TempChange         0.021808\n",
       "dtype: float64"
      ]
     },
     "execution_count": 29,
     "metadata": {},
     "output_type": "execute_result"
    }
   ],
   "source": [
    "big_mistakes = df.isna().mean(axis=0)\n",
    "big_mistakes"
   ]
  },
  {
   "cell_type": "code",
   "execution_count": 30,
   "metadata": {},
   "outputs": [
    {
     "data": {
      "text/plain": [
       "id                 0.000000\n",
       "Date               0.000000\n",
       "Location           0.000000\n",
       "MinTemp            0.003099\n",
       "MaxTemp            0.003409\n",
       "Rainfall           0.000000\n",
       "Evaporation        0.421944\n",
       "Sunshine           0.470400\n",
       "WindGustDir        0.064986\n",
       "WindGustSpeed      0.064573\n",
       "RainToday          0.000000\n",
       "HumidityChange     0.027379\n",
       "PressureChange     0.095878\n",
       "WindSpeedChange    0.018184\n",
       "WindDirChange      0.000000\n",
       "CloudChange        0.414816\n",
       "TempChange         0.020457\n",
       "dtype: float64"
      ]
     },
     "execution_count": 30,
     "metadata": {},
     "output_type": "execute_result"
    }
   ],
   "source": [
    "big_mistakes_test = test.isna().mean(axis=0)\n",
    "big_mistakes_test"
   ]
  },
  {
   "cell_type": "code",
   "execution_count": 31,
   "metadata": {},
   "outputs": [
    {
     "data": {
      "text/plain": [
       "Evaporation    0.420957\n",
       "Sunshine       0.474919\n",
       "CloudChange    0.419222\n",
       "dtype: float64"
      ]
     },
     "execution_count": 31,
     "metadata": {},
     "output_type": "execute_result"
    }
   ],
   "source": [
    "bm_list = big_mistakes[big_mistakes >= 0.4]\n",
    "bm_list"
   ]
  },
  {
   "cell_type": "code",
   "execution_count": 32,
   "metadata": {},
   "outputs": [
    {
     "data": {
      "text/plain": [
       "Evaporation    0.421944\n",
       "Sunshine       0.470400\n",
       "CloudChange    0.414816\n",
       "dtype: float64"
      ]
     },
     "execution_count": 32,
     "metadata": {},
     "output_type": "execute_result"
    }
   ],
   "source": [
    "bm_list_test = big_mistakes_test[big_mistakes_test >= 0.4]\n",
    "bm_list_test"
   ]
  },
  {
   "cell_type": "code",
   "execution_count": 33,
   "metadata": {},
   "outputs": [],
   "source": [
    "df.drop(bm_list.index, axis=1, inplace=True)\n",
    "test.drop(bm_list_test.index, axis=1, inplace=True)"
   ]
  },
  {
   "cell_type": "code",
   "execution_count": 34,
   "metadata": {
    "id": "PdnMmQuhAADm",
    "scrolled": true
   },
   "outputs": [
    {
     "name": "stdout",
     "output_type": "stream",
     "text": [
      "<class 'pandas.core.frame.DataFrame'>\n",
      "RangeIndex: 48423 entries, 0 to 48422\n",
      "Data columns (total 14 columns):\n",
      " #   Column           Non-Null Count  Dtype  \n",
      "---  ------           --------------  -----  \n",
      " 0   id               48423 non-null  int64  \n",
      " 1   Date             48423 non-null  object \n",
      " 2   Location         48423 non-null  object \n",
      " 3   MinTemp          48263 non-null  float64\n",
      " 4   MaxTemp          48322 non-null  float64\n",
      " 5   Rainfall         48423 non-null  float64\n",
      " 6   WindGustDir      45302 non-null  object \n",
      " 7   WindGustSpeed    45330 non-null  float64\n",
      " 8   RainToday        48423 non-null  float64\n",
      " 9   HumidityChange   46979 non-null  float64\n",
      " 10  PressureChange   43571 non-null  float64\n",
      " 11  WindSpeedChange  47471 non-null  float64\n",
      " 12  WindDirChange    48423 non-null  int64  \n",
      " 13  TempChange       47367 non-null  float64\n",
      "dtypes: float64(9), int64(2), object(3)\n",
      "memory usage: 5.2+ MB\n"
     ]
    }
   ],
   "source": [
    "from sklearn.compose import ColumnTransformer\n",
    "from sklearn.impute import SimpleImputer\n",
    "from sklearn.preprocessing import MinMaxScaler\n",
    "from sklearn.preprocessing import StandardScaler\n",
    "from sklearn.preprocessing import OneHotEncoder\n",
    "from sklearn.pipeline import Pipeline\n",
    "from sklearn.feature_selection import SelectKBest,chi2\n",
    "\n",
    "df.info()\n",
    "X = df"
   ]
  },
  {
   "cell_type": "code",
   "execution_count": 35,
   "metadata": {
    "id": "kVg21kC8ABsY"
   },
   "outputs": [],
   "source": [
    "# handle numeric features\n",
    "numeric_features = ['MinTemp','MaxTemp', 'Rainfall', 'WindGustSpeed', 'RainToday', 'HumidityChange', 'PressureChange', 'WindSpeedChange', 'WindDirChange', 'TempChange']\n",
    "numeric_transformer = Pipeline(steps=[\n",
    "    ('imputer', SimpleImputer(strategy='mean')),\n",
    "    ('scaler', StandardScaler())]) "
   ]
  },
  {
   "cell_type": "markdown",
   "metadata": {
    "id": "ZRq1eHYfNoEO"
   },
   "source": [
    "3.γ. Γράψτε κώδικα για την κατάλληλη μετατροπή των κατηγορικών μεταβλητών ώστε να μπορούν να τους διαχειριστούν οι ταξινομητές που θα χρησιμοποιήσετε."
   ]
  },
  {
   "cell_type": "code",
   "execution_count": 36,
   "metadata": {
    "id": "NxRunryNQiXa"
   },
   "outputs": [],
   "source": [
    "# handle categorical features\n",
    "categorical_features = ['Date', 'Location', 'WindGustDir']\n",
    "categorical_transformer = Pipeline(steps=[\n",
    "    ('imputer', SimpleImputer(strategy='most_frequent')),\n",
    "    ('scaler', OneHotEncoder(handle_unknown='ignore'))]) "
   ]
  },
  {
   "cell_type": "markdown",
   "metadata": {
    "id": "KWsb4KQmQiFc"
   },
   "source": [
    "3.δ. Γράψτε κώδικα για την κλιμάκωση των χαρακτηριστικών, αν την θεωρείτε απαραίτητη"
   ]
  },
  {
   "cell_type": "code",
   "execution_count": 37,
   "metadata": {
    "id": "EXkL_EFfNom-"
   },
   "outputs": [],
   "source": [
    "preprocessor = ColumnTransformer(\n",
    "    transformers=[\n",
    "        ('num', numeric_transformer, numeric_features),\n",
    "        ('cat', categorical_transformer, categorical_features)])"
   ]
  },
  {
   "cell_type": "markdown",
   "metadata": {
    "id": "_S2tynpfhaOu"
   },
   "source": [
    "3.ε. Εκτελέστε όλα τα προηγούμενα βήμα προεκπαίδευσης (χρήση μετασχηματιστών) ώστε να είναι \"καθαρό\" το αρχικό σύνολο για να χρησιμοποιηθεί για την εκπαίδευση των ταξινομητών."
   ]
  },
  {
   "cell_type": "code",
   "execution_count": 38,
   "metadata": {
    "id": "_LdteolxhZfi"
   },
   "outputs": [],
   "source": [
    "#έγινε πιο πάνω"
   ]
  },
  {
   "cell_type": "markdown",
   "metadata": {
    "id": "OeD8amKKLJFr"
   },
   "source": [
    "3.στ. Αφού έχετε \"καθαρίσει\" το αρχικό σύνολο εκπαίδευσης, γράψτε τον κατάλληλο κώδικα ώστε από το αρχικό σύνολο εκπαίδευσης να δημιουργήσετε τα σύνολα Χ και y.\n",
    "\n",
    "💡 `Η στήλη 'RainTomorrow' είναι η τιμή που θέλουμε να προβλέψει ο ταξινομητής μας.` \n",
    "\n"
   ]
  },
  {
   "cell_type": "code",
   "execution_count": 39,
   "metadata": {
    "id": "FysfIb93LJxS"
   },
   "outputs": [],
   "source": [
    "#έγινε πιο πάνω"
   ]
  },
  {
   "cell_type": "markdown",
   "metadata": {
    "id": "8oU_se4UT0JF"
   },
   "source": [
    "3.ζ. Διαχωρίστε το σύνολο δεδομένων σε σύνολο εκπαίδευσης (train set) και σε σύνολο επικύρωσης (validation set) (ο διαχωρισμός να είναι train set 70% και validation set 30%).\n"
   ]
  },
  {
   "cell_type": "code",
   "execution_count": 40,
   "metadata": {
    "id": "wcwB_TK1ixvl"
   },
   "outputs": [],
   "source": [
    "from sklearn.model_selection import train_test_split\n",
    " \n",
    "RAND_STATE = 42\n",
    "X_train, X_test, y_train, y_test = train_test_split(X, y, test_size=0.3, random_state=RAND_STATE)"
   ]
  },
  {
   "cell_type": "markdown",
   "metadata": {
    "id": "xhITyhMuSslH"
   },
   "source": [
    "### 4. Εκπαίδευση μοντέλου με default τιμές στις παραμέτρους των ταξινομητών\n",
    "\n",
    "Θα εκπαιδεύσουμε τους ακόλουθους ταξινομητές με το σύνολο εκπαίδευσης των δεδομένων μας: \n",
    "1. Naive Bayes\n",
    "2. KNeighborsClassifier\n",
    "3. LogisticRegression\n",
    "4. MLP με ένα κρυφό επίπεδο\n",
    "5. SVC\n",
    "6. Decision Tree\n",
    "7. Random Forest\n"
   ]
  },
  {
   "cell_type": "markdown",
   "metadata": {
    "id": "-r3kEVgkU0OF"
   },
   "source": [
    "from sklearn.linear_model import LogisticRegression\n",
    "from sklearn.neighbors import KNeighborsClassifier\n",
    "from sklearn.svm import SVC\n",
    "from sklearn.ensemble import RandomForestClassifier\n",
    "from sklearn.tree import DecisionTreeClassifier\n",
    "from sklearn.neural_network import MLPClassifier\n",
    "from sklearn.naive_bayes import BernoulliNB\n",
    "\n",
    "from sklearn.model_selection import GridSearchCV"
   ]
  },
  {
   "cell_type": "markdown",
   "metadata": {
    "id": "a49EG4Z9U0yD"
   },
   "source": [
    " 4.α. Εκπαιδεύστε (fit)  και τους  7 ταξινομητές που προαναφέρθηκαν (εμφανίστε τα δείγματα από το train set μαζί με την ετικέτα τους στην είσοδο του κάθε ταξινομητή), χρησιμοποιώντας τις default τιμές για όλες τις παραμέτρους τους."
   ]
  },
  {
   "cell_type": "markdown",
   "metadata": {
    "id": "dkv21zidSgNX"
   },
   "source": [
    "4.β. Εφαρμόστε στα εκπαιδευμένα μοντέλα από το validation set μόνο τα δείγματα χωρίς την ετικέτα τους (predict).\n"
   ]
  },
  {
   "cell_type": "markdown",
   "metadata": {},
   "source": [
    "\n",
    "4.γ. Συγκρίνετε την έξοδο του κάθε μοντέλου σε σχέση με τις αντίστοιχες ετικέτες του validation set και αξιολογήστε την επιδοσή τους χρησιμοποιώντας το F1 score.\n"
   ]
  },
  {
   "cell_type": "markdown",
   "metadata": {},
   "source": [
    "4.δ.  Αξιολογήστε συνολικά την επίδοση των μοντέλων χρησιμοποιώντας κάποιο γράφημα (π.χ. ιστόγραμμα, bar plot) και σχολιάστε ποιο μοντέλο είχε την καλύτερη επίδοση.\n"
   ]
  },
  {
   "cell_type": "code",
   "execution_count": 41,
   "metadata": {
    "scrolled": true
   },
   "outputs": [
    {
     "name": "stdout",
     "output_type": "stream",
     "text": [
      "LogisticRegression()\n",
      "Model score: {model.score(X_test, y_test)}\n",
      "              precision    recall  f1-score   support\n",
      "\n",
      "         0.0       0.86      0.94      0.90     11184\n",
      "         1.0       0.70      0.47      0.56      3343\n",
      "\n",
      "    accuracy                           0.83     14527\n",
      "   macro avg       0.78      0.70      0.73     14527\n",
      "weighted avg       0.82      0.83      0.82     14527\n",
      "\n",
      "RandomForestClassifier()\n",
      "Model score: {model.score(X_test, y_test)}\n",
      "              precision    recall  f1-score   support\n",
      "\n",
      "         0.0       0.84      0.96      0.90     11184\n",
      "         1.0       0.76      0.40      0.52      3343\n",
      "\n",
      "    accuracy                           0.83     14527\n",
      "   macro avg       0.80      0.68      0.71     14527\n",
      "weighted avg       0.82      0.83      0.81     14527\n",
      "\n",
      "SVC()\n",
      "Model score: {model.score(X_test, y_test)}\n",
      "              precision    recall  f1-score   support\n",
      "\n",
      "         0.0       0.85      0.96      0.90     11184\n",
      "         1.0       0.76      0.43      0.55      3343\n",
      "\n",
      "    accuracy                           0.84     14527\n",
      "   macro avg       0.80      0.70      0.73     14527\n",
      "weighted avg       0.83      0.84      0.82     14527\n",
      "\n",
      "KNeighborsClassifier()\n",
      "Model score: {model.score(X_test, y_test)}\n",
      "              precision    recall  f1-score   support\n",
      "\n",
      "         0.0       0.84      0.93      0.88     11184\n",
      "         1.0       0.64      0.42      0.51      3343\n",
      "\n",
      "    accuracy                           0.81     14527\n",
      "   macro avg       0.74      0.67      0.69     14527\n",
      "weighted avg       0.80      0.81      0.80     14527\n",
      "\n",
      "MLPClassifier()\n",
      "Model score: {model.score(X_test, y_test)}\n",
      "              precision    recall  f1-score   support\n",
      "\n",
      "         0.0       0.88      0.91      0.90     11184\n",
      "         1.0       0.66      0.59      0.62      3343\n",
      "\n",
      "    accuracy                           0.84     14527\n",
      "   macro avg       0.77      0.75      0.76     14527\n",
      "weighted avg       0.83      0.84      0.83     14527\n",
      "\n",
      "BernoulliNB()\n",
      "Model score: {model.score(X_test, y_test)}\n",
      "              precision    recall  f1-score   support\n",
      "\n",
      "         0.0       0.86      0.86      0.86     11184\n",
      "         1.0       0.53      0.54      0.53      3343\n",
      "\n",
      "    accuracy                           0.78     14527\n",
      "   macro avg       0.70      0.70      0.70     14527\n",
      "weighted avg       0.79      0.78      0.78     14527\n",
      "\n",
      "DecisionTreeClassifier()\n",
      "Model score: {model.score(X_test, y_test)}\n",
      "              precision    recall  f1-score   support\n",
      "\n",
      "         0.0       0.85      0.88      0.87     11184\n",
      "         1.0       0.55      0.49      0.51      3343\n",
      "\n",
      "    accuracy                           0.79     14527\n",
      "   macro avg       0.70      0.68      0.69     14527\n",
      "weighted avg       0.78      0.79      0.78     14527\n",
      "\n"
     ]
    }
   ],
   "source": [
    "from sklearn.metrics import classification_report\n",
    "from sklearn.metrics import accuracy_score\n",
    "\n",
    "from sklearn.linear_model import LogisticRegression\n",
    "from sklearn.neighbors import KNeighborsClassifier\n",
    "from sklearn.svm import SVC\n",
    "from sklearn.ensemble import RandomForestClassifier\n",
    "from sklearn.tree import DecisionTreeClassifier\n",
    "from sklearn.neural_network import MLPClassifier\n",
    "from sklearn.naive_bayes import BernoulliNB\n",
    "\n",
    "from sklearn.model_selection import GridSearchCV\n",
    "\n",
    "import warnings\n",
    "warnings.filterwarnings(\"ignore\")\n",
    "from sklearn.exceptions import FitFailedWarning \n",
    "\n",
    "results = []\n",
    "models = []\n",
    "\n",
    "classifiers = [LogisticRegression(), RandomForestClassifier(), SVC(), KNeighborsClassifier(), MLPClassifier(), BernoulliNB(), DecisionTreeClassifier()]\n",
    "for classifier in classifiers:\n",
    "    model = Pipeline(steps=[('preprocessor', preprocessor),\n",
    "                        ('classifier', classifier)])\n",
    "    model.fit(X_train, y_train)\n",
    "    y_pred = model.predict(X_test)\n",
    "    results.append(accuracy_score(y_test, y_pred))\n",
    "    models.append(model)\n",
    "    \n",
    "    print(classifier)\n",
    "    print('Model score: {model.score(X_test, y_test)}')\n",
    "    print(classification_report(y_test, y_pred))"
   ]
  },
  {
   "cell_type": "code",
   "execution_count": 42,
   "metadata": {},
   "outputs": [
    {
     "data": {
      "text/plain": [
       "[0.8310043367522544,\n",
       " 0.8333448062228953,\n",
       " 0.8380945825015489,\n",
       " 0.8117298822881531,\n",
       " 0.8362359743925105,\n",
       " 0.7844702966889241,\n",
       " 0.7892889103049494]"
      ]
     },
     "execution_count": 42,
     "metadata": {},
     "output_type": "execute_result"
    }
   ],
   "source": [
    "results"
   ]
  },
  {
   "cell_type": "code",
   "execution_count": 43,
   "metadata": {},
   "outputs": [
    {
     "data": {
      "text/plain": [
       "0.8380945825015489"
      ]
     },
     "execution_count": 43,
     "metadata": {},
     "output_type": "execute_result"
    }
   ],
   "source": [
    "max(results)"
   ]
  },
  {
   "cell_type": "code",
   "execution_count": 44,
   "metadata": {},
   "outputs": [
    {
     "name": "stdout",
     "output_type": "stream",
     "text": [
      "2 SVC()\n"
     ]
    }
   ],
   "source": [
    "for i, result in enumerate(results):\n",
    "    if max(results) == result:\n",
    "        imax = i\n",
    "        print(i, classifiers[i])\n",
    "        \n",
    "classifiers_list = ['LRegr', 'RandForestCl', 'SVC', 'KNCl', 'MLP', 'BNB', 'DTCl']"
   ]
  },
  {
   "cell_type": "code",
   "execution_count": 45,
   "metadata": {},
   "outputs": [
    {
     "data": {
      "image/png": "[encoded data removed]",
      "text/plain": [
       "<Figure size 1000x500 with 1 Axes>"
      ]
     },
     "metadata": {},
     "output_type": "display_data"
    }
   ],
   "source": [
    "fig = plt.figure(figsize=(10,5))\n",
    "plt.bar(classifiers_list, results)\n",
    "plt.ylim(0.74, 0.87)\n",
    "plt.show;"
   ]
  },
  {
   "cell_type": "markdown",
   "metadata": {
    "id": "f1ZWds7ekAsL"
   },
   "source": [
    "### 5. Προετοιμασία αρχείου για την πρώτη υποβολή στο kaggle"
   ]
  },
  {
   "cell_type": "markdown",
   "metadata": {
    "id": "atEnldNpkSTG"
   },
   "source": [
    "5.α. Χρησιμοποιήστε **ΜΟΝΟ** το μοντέλο σας με την καλύτερη επίδοση για να κάνετε προβλέψεις, χρησιμοποιώντας το δοθέν σύνολο εκπαίδευσης (test set)"
   ]
  },
  {
   "cell_type": "markdown",
   "metadata": {},
   "source": [
    "5.β. Αποθηκεύστε τις προβλέψεις από το καλύτερο μοντέλο σας σε ένα csv αρχείο. To csv αρχείο θα πρέπει να είναι περιέχει 2 στήλες: η πρώτη στήλη να περιέχει την στήλη id του test set file και η δεύτερη στήλη τις αντίστοιχες προβλέψεις που έκανε το καλύτερα εκπαιδευμένο μοντέλο σας (βήμα 5α)."
   ]
  },
  {
   "cell_type": "code",
   "execution_count": 46,
   "metadata": {
    "id": "UM0B638pkBLC"
   },
   "outputs": [
    {
     "name": "stdout",
     "output_type": "stream",
     "text": [
      "SVC()\n",
      "Model score: {model.score(X_test, y_test)}\n",
      "              precision    recall  f1-score   support\n",
      "\n",
      "         0.0       0.85      0.88      0.87     11184\n",
      "         1.0       0.55      0.49      0.51      3343\n",
      "\n",
      "    accuracy                           0.79     14527\n",
      "   macro avg       0.70      0.68      0.69     14527\n",
      "weighted avg       0.78      0.79      0.78     14527\n",
      "\n"
     ]
    }
   ],
   "source": [
    "preds = models[imax].predict(test)\n",
    "preds = pd.DataFrame(preds.astype('int32'))\n",
    "preds.to_csv('submission.csv', index=False)\n",
    "\n",
    "print(classifiers[imax])\n",
    "print('Model score: {model.score(X_test, y_test)}')\n",
    "print(classification_report(y_test, y_pred))"
   ]
  },
  {
   "cell_type": "markdown",
   "metadata": {
    "id": "j6OoLlxrYILN"
   },
   "source": [
    "### 6. Βελτιστοποίηση μοντέλων με εύρεση καλύτερων υπερπαραμέτρων των ταξινομητών\n",
    "\n",
    "6.α. Για τους 7 ταξινομητές βελτιστοποιήστε την επίδοσή τους χρησιμοποιώντας αναζήτηση πλέγματος με διασταυρούμενη επικύρωση (k-fold 5)  με σκοπό την εύρεση των βέλτιστων υπερπαραμέτρων. "
   ]
  },
  {
   "cell_type": "markdown",
   "metadata": {},
   "source": [
    "6.β. Εφαρμόστε στα εκπαιδευμένα μοντέλα από το validation set μόνο τα δείγματα χωρίς την ετικέτα τους (predict).\n"
   ]
  },
  {
   "cell_type": "markdown",
   "metadata": {},
   "source": [
    "\n",
    "6.γ. Συγκρίνετε την έξοδο του κάθε μοντέλου σε σχέση με τις αντίστοιχες ετικέτες του validation set και αξιολογήστε την επιδοσή τους χρησιμοποιώντας το F1 score.\n"
   ]
  },
  {
   "cell_type": "markdown",
   "metadata": {},
   "source": [
    "6.δ.  Αξιολογήστε συνολικά την επίδοση των μοντέλων χρησιμοποιώντας κάποιο γράφημα (π.χ. ιστόγραμμα, bar plot) και σχολιάστε ποιο μοντέλο είχε την καλύτερη επίδοση.\n"
   ]
  },
  {
   "cell_type": "code",
   "execution_count": 47,
   "metadata": {
    "id": "FK_zetZLlOeV"
   },
   "outputs": [],
   "source": [
    "search_space =[{'classifier': [LogisticRegression()],\n",
    "                 'classifier__penalty': ['l1', 'l2']},\n",
    "                {'classifier': [RandomForestClassifier()]},\n",
    "                {'classifier': [SVC()],\n",
    "                 'classifier__kernel': ['rbf','linear'], \n",
    "                 'classifier__gamma': [1e-3, 1e-4]\n",
    "                },\n",
    "                {'classifier': [KNeighborsClassifier()],\n",
    "                 'classifier__n_neighbors': [1, 3, 5],\n",
    "                 'classifier__metric':['euclidean','manhattan']\n",
    "                },\n",
    "                {'classifier': [MLPClassifier()],\n",
    "                 'classifier__solver': ['lbfgs'],\n",
    "                 'classifier__alpha':[1e-5],\n",
    "                 'classifier__hidden_layer_sizes': [5,1,10],\n",
    "                 'classifier__random_state': [1]\n",
    "                },\n",
    "               {'classifier': [BernoulliNB()]},\n",
    "               {'classifier': [DecisionTreeClassifier()],\n",
    "                 'classifier__max_depth': [2],\n",
    "                 'classifier__criterion':['entropy'],\n",
    "                 'classifier__random_state': [42]\n",
    "                }\n",
    "              ]"
   ]
  },
  {
   "cell_type": "code",
   "execution_count": 48,
   "metadata": {
    "id": "FK_zetZLlOeV"
   },
   "outputs": [
    {
     "data": {
      "text/plain": [
       "['LRegr', 'RandForestCl', 'SVC', 'KNCl', 'MLP', 'BNB', 'DTCl']"
      ]
     },
     "execution_count": 48,
     "metadata": {},
     "output_type": "execute_result"
    }
   ],
   "source": [
    "classifiers_list"
   ]
  },
  {
   "cell_type": "code",
   "execution_count": 49,
   "metadata": {
    "id": "FK_zetZLlOeV"
   },
   "outputs": [],
   "source": [
    "search_space_1 = [{'classifier': [LogisticRegression()]},\n",
    "                {'classifier': [RandomForestClassifier()]},\n",
    "                {'classifier': [SVC()]},\n",
    "                {'classifier': [KNeighborsClassifier()]},\n",
    "                {'classifier': [MLPClassifier()]},\n",
    "               {'classifier': [BernoulliNB()]},\n",
    "               {'classifier': [DecisionTreeClassifier()]}\n",
    "              ]\n",
    "\n",
    "grid = GridSearchCV(model, search_space, cv=5, verbose=0)"
   ]
  },
  {
   "cell_type": "code",
   "execution_count": 50,
   "metadata": {
    "id": "FK_zetZLlOeV"
   },
   "outputs": [],
   "source": [
    "import warnings\n",
    "warnings.filterwarnings(\"ignore\")\n",
    "from sklearn.exceptions import FitFailedWarning "
   ]
  },
  {
   "cell_type": "code",
   "execution_count": 51,
   "metadata": {
    "id": "FK_zetZLlOeV"
   },
   "outputs": [],
   "source": [
    "# Fit grid search\n",
    "best_model = grid.fit(X, y)"
   ]
  },
  {
   "cell_type": "code",
   "execution_count": 80,
   "metadata": {
    "id": "FK_zetZLlOeV"
   },
   "outputs": [
    {
     "data": {
      "text/html": [
       "<div>\n",
       "<style scoped>\n",
       "    .dataframe tbody tr th:only-of-type {\n",
       "        vertical-align: middle;\n",
       "    }\n",
       "\n",
       "    .dataframe tbody tr th {\n",
       "        vertical-align: top;\n",
       "    }\n",
       "\n",
       "    .dataframe thead th {\n",
       "        text-align: right;\n",
       "    }\n",
       "</style>\n",
       "<table border=\"1\" class=\"dataframe\">\n",
       "  <thead>\n",
       "    <tr style=\"text-align: right;\">\n",
       "      <th></th>\n",
       "      <th>mean_fit_time</th>\n",
       "      <th>std_fit_time</th>\n",
       "      <th>mean_score_time</th>\n",
       "      <th>std_score_time</th>\n",
       "      <th>param_classifier</th>\n",
       "      <th>param_classifier__penalty</th>\n",
       "      <th>param_classifier__gamma</th>\n",
       "      <th>param_classifier__kernel</th>\n",
       "      <th>param_classifier__metric</th>\n",
       "      <th>param_classifier__n_neighbors</th>\n",
       "      <th>...</th>\n",
       "      <th>param_classifier__max_depth</th>\n",
       "      <th>params</th>\n",
       "      <th>split0_test_score</th>\n",
       "      <th>split1_test_score</th>\n",
       "      <th>split2_test_score</th>\n",
       "      <th>split3_test_score</th>\n",
       "      <th>split4_test_score</th>\n",
       "      <th>mean_test_score</th>\n",
       "      <th>std_test_score</th>\n",
       "      <th>rank_test_score</th>\n",
       "    </tr>\n",
       "  </thead>\n",
       "  <tbody>\n",
       "    <tr>\n",
       "      <th>0</th>\n",
       "      <td>0.046351</td>\n",
       "      <td>0.004150</td>\n",
       "      <td>0.000000</td>\n",
       "      <td>0.000000</td>\n",
       "      <td>LogisticRegression()</td>\n",
       "      <td>l1</td>\n",
       "      <td>NaN</td>\n",
       "      <td>NaN</td>\n",
       "      <td>NaN</td>\n",
       "      <td>NaN</td>\n",
       "      <td>...</td>\n",
       "      <td>NaN</td>\n",
       "      <td>{'classifier': LogisticRegression(), 'classifi...</td>\n",
       "      <td>NaN</td>\n",
       "      <td>NaN</td>\n",
       "      <td>NaN</td>\n",
       "      <td>NaN</td>\n",
       "      <td>NaN</td>\n",
       "      <td>NaN</td>\n",
       "      <td>NaN</td>\n",
       "      <td>18</td>\n",
       "    </tr>\n",
       "    <tr>\n",
       "      <th>1</th>\n",
       "      <td>0.182673</td>\n",
       "      <td>0.003226</td>\n",
       "      <td>0.011693</td>\n",
       "      <td>0.000110</td>\n",
       "      <td>LogisticRegression()</td>\n",
       "      <td>l2</td>\n",
       "      <td>NaN</td>\n",
       "      <td>NaN</td>\n",
       "      <td>NaN</td>\n",
       "      <td>NaN</td>\n",
       "      <td>...</td>\n",
       "      <td>NaN</td>\n",
       "      <td>{'classifier': LogisticRegression(), 'classifi...</td>\n",
       "      <td>0.808880</td>\n",
       "      <td>0.732679</td>\n",
       "      <td>0.730924</td>\n",
       "      <td>0.685151</td>\n",
       "      <td>0.806795</td>\n",
       "      <td>0.752886</td>\n",
       "      <td>0.048000</td>\n",
       "      <td>9</td>\n",
       "    </tr>\n",
       "    <tr>\n",
       "      <th>2</th>\n",
       "      <td>13.800740</td>\n",
       "      <td>0.046407</td>\n",
       "      <td>0.310687</td>\n",
       "      <td>0.016644</td>\n",
       "      <td>RandomForestClassifier()</td>\n",
       "      <td>NaN</td>\n",
       "      <td>NaN</td>\n",
       "      <td>NaN</td>\n",
       "      <td>NaN</td>\n",
       "      <td>NaN</td>\n",
       "      <td>...</td>\n",
       "      <td>NaN</td>\n",
       "      <td>{'classifier': RandomForestClassifier()}</td>\n",
       "      <td>0.811151</td>\n",
       "      <td>0.757976</td>\n",
       "      <td>0.743314</td>\n",
       "      <td>0.697233</td>\n",
       "      <td>0.812681</td>\n",
       "      <td>0.764471</td>\n",
       "      <td>0.043621</td>\n",
       "      <td>8</td>\n",
       "    </tr>\n",
       "    <tr>\n",
       "      <th>3</th>\n",
       "      <td>17.550688</td>\n",
       "      <td>0.451263</td>\n",
       "      <td>2.698009</td>\n",
       "      <td>0.038852</td>\n",
       "      <td>SVC(gamma=0.001)</td>\n",
       "      <td>NaN</td>\n",
       "      <td>0.001</td>\n",
       "      <td>rbf</td>\n",
       "      <td>NaN</td>\n",
       "      <td>NaN</td>\n",
       "      <td>...</td>\n",
       "      <td>NaN</td>\n",
       "      <td>{'classifier': SVC(gamma=0.001), 'classifier__...</td>\n",
       "      <td>0.807537</td>\n",
       "      <td>0.812494</td>\n",
       "      <td>0.802788</td>\n",
       "      <td>0.812164</td>\n",
       "      <td>0.802561</td>\n",
       "      <td>0.807509</td>\n",
       "      <td>0.004320</td>\n",
       "      <td>1</td>\n",
       "    </tr>\n",
       "    <tr>\n",
       "      <th>4</th>\n",
       "      <td>49.327262</td>\n",
       "      <td>1.382676</td>\n",
       "      <td>2.079150</td>\n",
       "      <td>0.018904</td>\n",
       "      <td>SVC(gamma=0.001)</td>\n",
       "      <td>NaN</td>\n",
       "      <td>0.001</td>\n",
       "      <td>linear</td>\n",
       "      <td>NaN</td>\n",
       "      <td>NaN</td>\n",
       "      <td>...</td>\n",
       "      <td>NaN</td>\n",
       "      <td>{'classifier': SVC(gamma=0.001), 'classifier__...</td>\n",
       "      <td>0.808776</td>\n",
       "      <td>0.734331</td>\n",
       "      <td>0.729892</td>\n",
       "      <td>0.686803</td>\n",
       "      <td>0.802871</td>\n",
       "      <td>0.752535</td>\n",
       "      <td>0.046608</td>\n",
       "      <td>10</td>\n",
       "    </tr>\n",
       "    <tr>\n",
       "      <th>5</th>\n",
       "      <td>18.038681</td>\n",
       "      <td>0.359140</td>\n",
       "      <td>2.788525</td>\n",
       "      <td>0.026331</td>\n",
       "      <td>SVC(gamma=0.001)</td>\n",
       "      <td>NaN</td>\n",
       "      <td>0.0001</td>\n",
       "      <td>rbf</td>\n",
       "      <td>NaN</td>\n",
       "      <td>NaN</td>\n",
       "      <td>...</td>\n",
       "      <td>NaN</td>\n",
       "      <td>{'classifier': SVC(gamma=0.001), 'classifier__...</td>\n",
       "      <td>0.781208</td>\n",
       "      <td>0.786164</td>\n",
       "      <td>0.773567</td>\n",
       "      <td>0.779223</td>\n",
       "      <td>0.776126</td>\n",
       "      <td>0.779258</td>\n",
       "      <td>0.004329</td>\n",
       "      <td>5</td>\n",
       "    </tr>\n",
       "    <tr>\n",
       "      <th>6</th>\n",
       "      <td>48.514613</td>\n",
       "      <td>0.725291</td>\n",
       "      <td>2.074104</td>\n",
       "      <td>0.011951</td>\n",
       "      <td>SVC(gamma=0.001)</td>\n",
       "      <td>NaN</td>\n",
       "      <td>0.0001</td>\n",
       "      <td>linear</td>\n",
       "      <td>NaN</td>\n",
       "      <td>NaN</td>\n",
       "      <td>...</td>\n",
       "      <td>NaN</td>\n",
       "      <td>{'classifier': SVC(gamma=0.001), 'classifier__...</td>\n",
       "      <td>0.808776</td>\n",
       "      <td>0.734331</td>\n",
       "      <td>0.729892</td>\n",
       "      <td>0.686803</td>\n",
       "      <td>0.802871</td>\n",
       "      <td>0.752535</td>\n",
       "      <td>0.046608</td>\n",
       "      <td>10</td>\n",
       "    </tr>\n",
       "    <tr>\n",
       "      <th>7</th>\n",
       "      <td>0.044572</td>\n",
       "      <td>0.002890</td>\n",
       "      <td>8.882985</td>\n",
       "      <td>0.055689</td>\n",
       "      <td>KNeighborsClassifier()</td>\n",
       "      <td>NaN</td>\n",
       "      <td>NaN</td>\n",
       "      <td>NaN</td>\n",
       "      <td>euclidean</td>\n",
       "      <td>1</td>\n",
       "      <td>...</td>\n",
       "      <td>NaN</td>\n",
       "      <td>{'classifier': KNeighborsClassifier(), 'classi...</td>\n",
       "      <td>0.741249</td>\n",
       "      <td>0.707796</td>\n",
       "      <td>0.711513</td>\n",
       "      <td>0.721809</td>\n",
       "      <td>0.766522</td>\n",
       "      <td>0.729778</td>\n",
       "      <td>0.021735</td>\n",
       "      <td>13</td>\n",
       "    </tr>\n",
       "    <tr>\n",
       "      <th>8</th>\n",
       "      <td>0.047329</td>\n",
       "      <td>0.001653</td>\n",
       "      <td>12.552138</td>\n",
       "      <td>0.051837</td>\n",
       "      <td>KNeighborsClassifier()</td>\n",
       "      <td>NaN</td>\n",
       "      <td>NaN</td>\n",
       "      <td>NaN</td>\n",
       "      <td>euclidean</td>\n",
       "      <td>3</td>\n",
       "      <td>...</td>\n",
       "      <td>NaN</td>\n",
       "      <td>{'classifier': KNeighborsClassifier(), 'classi...</td>\n",
       "      <td>0.780485</td>\n",
       "      <td>0.746205</td>\n",
       "      <td>0.753330</td>\n",
       "      <td>0.765386</td>\n",
       "      <td>0.799979</td>\n",
       "      <td>0.769077</td>\n",
       "      <td>0.019338</td>\n",
       "      <td>6</td>\n",
       "    </tr>\n",
       "    <tr>\n",
       "      <th>9</th>\n",
       "      <td>0.047027</td>\n",
       "      <td>0.001007</td>\n",
       "      <td>9.487101</td>\n",
       "      <td>0.147255</td>\n",
       "      <td>KNeighborsClassifier()</td>\n",
       "      <td>NaN</td>\n",
       "      <td>NaN</td>\n",
       "      <td>NaN</td>\n",
       "      <td>euclidean</td>\n",
       "      <td>5</td>\n",
       "      <td>...</td>\n",
       "      <td>NaN</td>\n",
       "      <td>{'classifier': KNeighborsClassifier(), 'classi...</td>\n",
       "      <td>0.793289</td>\n",
       "      <td>0.761693</td>\n",
       "      <td>0.770160</td>\n",
       "      <td>0.784800</td>\n",
       "      <td>0.804316</td>\n",
       "      <td>0.782852</td>\n",
       "      <td>0.015377</td>\n",
       "      <td>3</td>\n",
       "    </tr>\n",
       "    <tr>\n",
       "      <th>10</th>\n",
       "      <td>0.045883</td>\n",
       "      <td>0.003729</td>\n",
       "      <td>3.783408</td>\n",
       "      <td>0.070198</td>\n",
       "      <td>KNeighborsClassifier()</td>\n",
       "      <td>NaN</td>\n",
       "      <td>NaN</td>\n",
       "      <td>NaN</td>\n",
       "      <td>manhattan</td>\n",
       "      <td>1</td>\n",
       "      <td>...</td>\n",
       "      <td>NaN</td>\n",
       "      <td>{'classifier': KNeighborsClassifier(), 'classi...</td>\n",
       "      <td>0.749510</td>\n",
       "      <td>0.712339</td>\n",
       "      <td>0.714920</td>\n",
       "      <td>0.720673</td>\n",
       "      <td>0.758571</td>\n",
       "      <td>0.731202</td>\n",
       "      <td>0.019058</td>\n",
       "      <td>12</td>\n",
       "    </tr>\n",
       "    <tr>\n",
       "      <th>11</th>\n",
       "      <td>0.043781</td>\n",
       "      <td>0.001474</td>\n",
       "      <td>7.592052</td>\n",
       "      <td>0.026031</td>\n",
       "      <td>KNeighborsClassifier()</td>\n",
       "      <td>NaN</td>\n",
       "      <td>NaN</td>\n",
       "      <td>NaN</td>\n",
       "      <td>manhattan</td>\n",
       "      <td>3</td>\n",
       "      <td>...</td>\n",
       "      <td>NaN</td>\n",
       "      <td>{'classifier': KNeighborsClassifier(), 'classi...</td>\n",
       "      <td>0.785338</td>\n",
       "      <td>0.749510</td>\n",
       "      <td>0.750955</td>\n",
       "      <td>0.764457</td>\n",
       "      <td>0.793784</td>\n",
       "      <td>0.768809</td>\n",
       "      <td>0.017928</td>\n",
       "      <td>7</td>\n",
       "    </tr>\n",
       "    <tr>\n",
       "      <th>12</th>\n",
       "      <td>0.046470</td>\n",
       "      <td>0.004962</td>\n",
       "      <td>4.406069</td>\n",
       "      <td>0.198850</td>\n",
       "      <td>KNeighborsClassifier()</td>\n",
       "      <td>NaN</td>\n",
       "      <td>NaN</td>\n",
       "      <td>NaN</td>\n",
       "      <td>manhattan</td>\n",
       "      <td>5</td>\n",
       "      <td>...</td>\n",
       "      <td>NaN</td>\n",
       "      <td>{'classifier': KNeighborsClassifier(), 'classi...</td>\n",
       "      <td>0.793598</td>\n",
       "      <td>0.764688</td>\n",
       "      <td>0.768301</td>\n",
       "      <td>0.783767</td>\n",
       "      <td>0.803697</td>\n",
       "      <td>0.782810</td>\n",
       "      <td>0.014782</td>\n",
       "      <td>4</td>\n",
       "    </tr>\n",
       "    <tr>\n",
       "      <th>13</th>\n",
       "      <td>2.895546</td>\n",
       "      <td>0.051446</td>\n",
       "      <td>0.020495</td>\n",
       "      <td>0.000987</td>\n",
       "      <td>MLPClassifier()</td>\n",
       "      <td>NaN</td>\n",
       "      <td>NaN</td>\n",
       "      <td>NaN</td>\n",
       "      <td>NaN</td>\n",
       "      <td>NaN</td>\n",
       "      <td>...</td>\n",
       "      <td>NaN</td>\n",
       "      <td>{'classifier': MLPClassifier(), 'classifier__a...</td>\n",
       "      <td>0.786784</td>\n",
       "      <td>0.656582</td>\n",
       "      <td>0.730511</td>\n",
       "      <td>0.590975</td>\n",
       "      <td>0.793267</td>\n",
       "      <td>0.711624</td>\n",
       "      <td>0.077791</td>\n",
       "      <td>17</td>\n",
       "    </tr>\n",
       "    <tr>\n",
       "      <th>14</th>\n",
       "      <td>0.457636</td>\n",
       "      <td>0.047316</td>\n",
       "      <td>0.012297</td>\n",
       "      <td>0.000676</td>\n",
       "      <td>MLPClassifier()</td>\n",
       "      <td>NaN</td>\n",
       "      <td>NaN</td>\n",
       "      <td>NaN</td>\n",
       "      <td>NaN</td>\n",
       "      <td>NaN</td>\n",
       "      <td>...</td>\n",
       "      <td>NaN</td>\n",
       "      <td>{'classifier': MLPClassifier(), 'classifier__a...</td>\n",
       "      <td>0.805576</td>\n",
       "      <td>0.710893</td>\n",
       "      <td>0.710067</td>\n",
       "      <td>0.603160</td>\n",
       "      <td>0.797811</td>\n",
       "      <td>0.725501</td>\n",
       "      <td>0.073566</td>\n",
       "      <td>15</td>\n",
       "    </tr>\n",
       "    <tr>\n",
       "      <th>15</th>\n",
       "      <td>3.169298</td>\n",
       "      <td>0.067293</td>\n",
       "      <td>0.019086</td>\n",
       "      <td>0.000673</td>\n",
       "      <td>MLPClassifier()</td>\n",
       "      <td>NaN</td>\n",
       "      <td>NaN</td>\n",
       "      <td>NaN</td>\n",
       "      <td>NaN</td>\n",
       "      <td>NaN</td>\n",
       "      <td>...</td>\n",
       "      <td>NaN</td>\n",
       "      <td>{'classifier': MLPClassifier(), 'classifier__a...</td>\n",
       "      <td>0.807847</td>\n",
       "      <td>0.677336</td>\n",
       "      <td>0.709757</td>\n",
       "      <td>0.610492</td>\n",
       "      <td>0.795849</td>\n",
       "      <td>0.720256</td>\n",
       "      <td>0.074010</td>\n",
       "      <td>16</td>\n",
       "    </tr>\n",
       "    <tr>\n",
       "      <th>16</th>\n",
       "      <td>0.063381</td>\n",
       "      <td>0.011985</td>\n",
       "      <td>0.016195</td>\n",
       "      <td>0.001994</td>\n",
       "      <td>BernoulliNB()</td>\n",
       "      <td>NaN</td>\n",
       "      <td>NaN</td>\n",
       "      <td>NaN</td>\n",
       "      <td>NaN</td>\n",
       "      <td>NaN</td>\n",
       "      <td>...</td>\n",
       "      <td>NaN</td>\n",
       "      <td>{'classifier': BernoulliNB()}</td>\n",
       "      <td>0.775013</td>\n",
       "      <td>0.713474</td>\n",
       "      <td>0.704491</td>\n",
       "      <td>0.672346</td>\n",
       "      <td>0.779223</td>\n",
       "      <td>0.728910</td>\n",
       "      <td>0.041692</td>\n",
       "      <td>14</td>\n",
       "    </tr>\n",
       "    <tr>\n",
       "      <th>17</th>\n",
       "      <td>0.068117</td>\n",
       "      <td>0.000454</td>\n",
       "      <td>0.012950</td>\n",
       "      <td>0.000171</td>\n",
       "      <td>DecisionTreeClassifier()</td>\n",
       "      <td>NaN</td>\n",
       "      <td>NaN</td>\n",
       "      <td>NaN</td>\n",
       "      <td>NaN</td>\n",
       "      <td>NaN</td>\n",
       "      <td>...</td>\n",
       "      <td>2</td>\n",
       "      <td>{'classifier': DecisionTreeClassifier(), 'clas...</td>\n",
       "      <td>0.794528</td>\n",
       "      <td>0.800516</td>\n",
       "      <td>0.799484</td>\n",
       "      <td>0.788620</td>\n",
       "      <td>0.793887</td>\n",
       "      <td>0.795407</td>\n",
       "      <td>0.004286</td>\n",
       "      <td>2</td>\n",
       "    </tr>\n",
       "  </tbody>\n",
       "</table>\n",
       "<p>18 rows × 25 columns</p>\n",
       "</div>"
      ],
      "text/plain": [
       "    mean_fit_time  std_fit_time  mean_score_time  std_score_time  \\\n",
       "0        0.046351      0.004150         0.000000        0.000000   \n",
       "1        0.182673      0.003226         0.011693        0.000110   \n",
       "2       13.800740      0.046407         0.310687        0.016644   \n",
       "3       17.550688      0.451263         2.698009        0.038852   \n",
       "4       49.327262      1.382676         2.079150        0.018904   \n",
       "5       18.038681      0.359140         2.788525        0.026331   \n",
       "6       48.514613      0.725291         2.074104        0.011951   \n",
       "7        0.044572      0.002890         8.882985        0.055689   \n",
       "8        0.047329      0.001653        12.552138        0.051837   \n",
       "9        0.047027      0.001007         9.487101        0.147255   \n",
       "10       0.045883      0.003729         3.783408        0.070198   \n",
       "11       0.043781      0.001474         7.592052        0.026031   \n",
       "12       0.046470      0.004962         4.406069        0.198850   \n",
       "13       2.895546      0.051446         0.020495        0.000987   \n",
       "14       0.457636      0.047316         0.012297        0.000676   \n",
       "15       3.169298      0.067293         0.019086        0.000673   \n",
       "16       0.063381      0.011985         0.016195        0.001994   \n",
       "17       0.068117      0.000454         0.012950        0.000171   \n",
       "\n",
       "            param_classifier param_classifier__penalty  \\\n",
       "0       LogisticRegression()                        l1   \n",
       "1       LogisticRegression()                        l2   \n",
       "2   RandomForestClassifier()                       NaN   \n",
       "3           SVC(gamma=0.001)                       NaN   \n",
       "4           SVC(gamma=0.001)                       NaN   \n",
       "5           SVC(gamma=0.001)                       NaN   \n",
       "6           SVC(gamma=0.001)                       NaN   \n",
       "7     KNeighborsClassifier()                       NaN   \n",
       "8     KNeighborsClassifier()                       NaN   \n",
       "9     KNeighborsClassifier()                       NaN   \n",
       "10    KNeighborsClassifier()                       NaN   \n",
       "11    KNeighborsClassifier()                       NaN   \n",
       "12    KNeighborsClassifier()                       NaN   \n",
       "13           MLPClassifier()                       NaN   \n",
       "14           MLPClassifier()                       NaN   \n",
       "15           MLPClassifier()                       NaN   \n",
       "16             BernoulliNB()                       NaN   \n",
       "17  DecisionTreeClassifier()                       NaN   \n",
       "\n",
       "   param_classifier__gamma param_classifier__kernel param_classifier__metric  \\\n",
       "0                      NaN                      NaN                      NaN   \n",
       "1                      NaN                      NaN                      NaN   \n",
       "2                      NaN                      NaN                      NaN   \n",
       "3                    0.001                      rbf                      NaN   \n",
       "4                    0.001                   linear                      NaN   \n",
       "5                   0.0001                      rbf                      NaN   \n",
       "6                   0.0001                   linear                      NaN   \n",
       "7                      NaN                      NaN                euclidean   \n",
       "8                      NaN                      NaN                euclidean   \n",
       "9                      NaN                      NaN                euclidean   \n",
       "10                     NaN                      NaN                manhattan   \n",
       "11                     NaN                      NaN                manhattan   \n",
       "12                     NaN                      NaN                manhattan   \n",
       "13                     NaN                      NaN                      NaN   \n",
       "14                     NaN                      NaN                      NaN   \n",
       "15                     NaN                      NaN                      NaN   \n",
       "16                     NaN                      NaN                      NaN   \n",
       "17                     NaN                      NaN                      NaN   \n",
       "\n",
       "   param_classifier__n_neighbors  ... param_classifier__max_depth  \\\n",
       "0                            NaN  ...                         NaN   \n",
       "1                            NaN  ...                         NaN   \n",
       "2                            NaN  ...                         NaN   \n",
       "3                            NaN  ...                         NaN   \n",
       "4                            NaN  ...                         NaN   \n",
       "5                            NaN  ...                         NaN   \n",
       "6                            NaN  ...                         NaN   \n",
       "7                              1  ...                         NaN   \n",
       "8                              3  ...                         NaN   \n",
       "9                              5  ...                         NaN   \n",
       "10                             1  ...                         NaN   \n",
       "11                             3  ...                         NaN   \n",
       "12                             5  ...                         NaN   \n",
       "13                           NaN  ...                         NaN   \n",
       "14                           NaN  ...                         NaN   \n",
       "15                           NaN  ...                         NaN   \n",
       "16                           NaN  ...                         NaN   \n",
       "17                           NaN  ...                           2   \n",
       "\n",
       "                                               params split0_test_score  \\\n",
       "0   {'classifier': LogisticRegression(), 'classifi...               NaN   \n",
       "1   {'classifier': LogisticRegression(), 'classifi...          0.808880   \n",
       "2            {'classifier': RandomForestClassifier()}          0.811151   \n",
       "3   {'classifier': SVC(gamma=0.001), 'classifier__...          0.807537   \n",
       "4   {'classifier': SVC(gamma=0.001), 'classifier__...          0.808776   \n",
       "5   {'classifier': SVC(gamma=0.001), 'classifier__...          0.781208   \n",
       "6   {'classifier': SVC(gamma=0.001), 'classifier__...          0.808776   \n",
       "7   {'classifier': KNeighborsClassifier(), 'classi...          0.741249   \n",
       "8   {'classifier': KNeighborsClassifier(), 'classi...          0.780485   \n",
       "9   {'classifier': KNeighborsClassifier(), 'classi...          0.793289   \n",
       "10  {'classifier': KNeighborsClassifier(), 'classi...          0.749510   \n",
       "11  {'classifier': KNeighborsClassifier(), 'classi...          0.785338   \n",
       "12  {'classifier': KNeighborsClassifier(), 'classi...          0.793598   \n",
       "13  {'classifier': MLPClassifier(), 'classifier__a...          0.786784   \n",
       "14  {'classifier': MLPClassifier(), 'classifier__a...          0.805576   \n",
       "15  {'classifier': MLPClassifier(), 'classifier__a...          0.807847   \n",
       "16                      {'classifier': BernoulliNB()}          0.775013   \n",
       "17  {'classifier': DecisionTreeClassifier(), 'clas...          0.794528   \n",
       "\n",
       "   split1_test_score split2_test_score split3_test_score split4_test_score  \\\n",
       "0                NaN               NaN               NaN               NaN   \n",
       "1           0.732679          0.730924          0.685151          0.806795   \n",
       "2           0.757976          0.743314          0.697233          0.812681   \n",
       "3           0.812494          0.802788          0.812164          0.802561   \n",
       "4           0.734331          0.729892          0.686803          0.802871   \n",
       "5           0.786164          0.773567          0.779223          0.776126   \n",
       "6           0.734331          0.729892          0.686803          0.802871   \n",
       "7           0.707796          0.711513          0.721809          0.766522   \n",
       "8           0.746205          0.753330          0.765386          0.799979   \n",
       "9           0.761693          0.770160          0.784800          0.804316   \n",
       "10          0.712339          0.714920          0.720673          0.758571   \n",
       "11          0.749510          0.750955          0.764457          0.793784   \n",
       "12          0.764688          0.768301          0.783767          0.803697   \n",
       "13          0.656582          0.730511          0.590975          0.793267   \n",
       "14          0.710893          0.710067          0.603160          0.797811   \n",
       "15          0.677336          0.709757          0.610492          0.795849   \n",
       "16          0.713474          0.704491          0.672346          0.779223   \n",
       "17          0.800516          0.799484          0.788620          0.793887   \n",
       "\n",
       "    mean_test_score  std_test_score  rank_test_score  \n",
       "0               NaN             NaN               18  \n",
       "1          0.752886        0.048000                9  \n",
       "2          0.764471        0.043621                8  \n",
       "3          0.807509        0.004320                1  \n",
       "4          0.752535        0.046608               10  \n",
       "5          0.779258        0.004329                5  \n",
       "6          0.752535        0.046608               10  \n",
       "7          0.729778        0.021735               13  \n",
       "8          0.769077        0.019338                6  \n",
       "9          0.782852        0.015377                3  \n",
       "10         0.731202        0.019058               12  \n",
       "11         0.768809        0.017928                7  \n",
       "12         0.782810        0.014782                4  \n",
       "13         0.711624        0.077791               17  \n",
       "14         0.725501        0.073566               15  \n",
       "15         0.720256        0.074010               16  \n",
       "16         0.728910        0.041692               14  \n",
       "17         0.795407        0.004286                2  \n",
       "\n",
       "[18 rows x 25 columns]"
      ]
     },
     "execution_count": 80,
     "metadata": {},
     "output_type": "execute_result"
    }
   ],
   "source": [
    "results = pd.DataFrame(grid.cv_results_)\n",
    "results"
   ]
  },
  {
   "cell_type": "code",
   "execution_count": 86,
   "metadata": {
    "id": "FK_zetZLlOeV"
   },
   "outputs": [
    {
     "data": {
      "text/html": [
       "<div>\n",
       "<style scoped>\n",
       "    .dataframe tbody tr th:only-of-type {\n",
       "        vertical-align: middle;\n",
       "    }\n",
       "\n",
       "    .dataframe tbody tr th {\n",
       "        vertical-align: top;\n",
       "    }\n",
       "\n",
       "    .dataframe thead th {\n",
       "        text-align: right;\n",
       "    }\n",
       "</style>\n",
       "<table border=\"1\" class=\"dataframe\">\n",
       "  <thead>\n",
       "    <tr style=\"text-align: right;\">\n",
       "      <th></th>\n",
       "      <th>mean_fit_time</th>\n",
       "      <th>std_fit_time</th>\n",
       "      <th>mean_score_time</th>\n",
       "      <th>std_score_time</th>\n",
       "      <th>param_classifier</th>\n",
       "      <th>param_classifier__penalty</th>\n",
       "      <th>param_classifier__gamma</th>\n",
       "      <th>param_classifier__kernel</th>\n",
       "      <th>param_classifier__metric</th>\n",
       "      <th>param_classifier__n_neighbors</th>\n",
       "      <th>...</th>\n",
       "      <th>param_classifier__max_depth</th>\n",
       "      <th>params</th>\n",
       "      <th>split0_test_score</th>\n",
       "      <th>split1_test_score</th>\n",
       "      <th>split2_test_score</th>\n",
       "      <th>split3_test_score</th>\n",
       "      <th>split4_test_score</th>\n",
       "      <th>mean_test_score</th>\n",
       "      <th>std_test_score</th>\n",
       "      <th>rank_test_score</th>\n",
       "    </tr>\n",
       "  </thead>\n",
       "  <tbody>\n",
       "    <tr>\n",
       "      <th>0</th>\n",
       "      <td>0.046351</td>\n",
       "      <td>0.004150</td>\n",
       "      <td>0.000000</td>\n",
       "      <td>0.000000</td>\n",
       "      <td>LogisticRegression()</td>\n",
       "      <td>l1</td>\n",
       "      <td>NaN</td>\n",
       "      <td>NaN</td>\n",
       "      <td>NaN</td>\n",
       "      <td>NaN</td>\n",
       "      <td>...</td>\n",
       "      <td>NaN</td>\n",
       "      <td>{'classifier': LogisticRegression(), 'classifi...</td>\n",
       "      <td>NaN</td>\n",
       "      <td>NaN</td>\n",
       "      <td>NaN</td>\n",
       "      <td>NaN</td>\n",
       "      <td>NaN</td>\n",
       "      <td>NaN</td>\n",
       "      <td>NaN</td>\n",
       "      <td>18</td>\n",
       "    </tr>\n",
       "    <tr>\n",
       "      <th>1</th>\n",
       "      <td>0.182673</td>\n",
       "      <td>0.003226</td>\n",
       "      <td>0.011693</td>\n",
       "      <td>0.000110</td>\n",
       "      <td>LogisticRegression()</td>\n",
       "      <td>l2</td>\n",
       "      <td>NaN</td>\n",
       "      <td>NaN</td>\n",
       "      <td>NaN</td>\n",
       "      <td>NaN</td>\n",
       "      <td>...</td>\n",
       "      <td>NaN</td>\n",
       "      <td>{'classifier': LogisticRegression(), 'classifi...</td>\n",
       "      <td>0.808880</td>\n",
       "      <td>0.732679</td>\n",
       "      <td>0.730924</td>\n",
       "      <td>0.685151</td>\n",
       "      <td>0.806795</td>\n",
       "      <td>0.752886</td>\n",
       "      <td>0.048000</td>\n",
       "      <td>9</td>\n",
       "    </tr>\n",
       "    <tr>\n",
       "      <th>2</th>\n",
       "      <td>13.800740</td>\n",
       "      <td>0.046407</td>\n",
       "      <td>0.310687</td>\n",
       "      <td>0.016644</td>\n",
       "      <td>RandomForestClassifier()</td>\n",
       "      <td>NaN</td>\n",
       "      <td>NaN</td>\n",
       "      <td>NaN</td>\n",
       "      <td>NaN</td>\n",
       "      <td>NaN</td>\n",
       "      <td>...</td>\n",
       "      <td>NaN</td>\n",
       "      <td>{'classifier': RandomForestClassifier()}</td>\n",
       "      <td>0.811151</td>\n",
       "      <td>0.757976</td>\n",
       "      <td>0.743314</td>\n",
       "      <td>0.697233</td>\n",
       "      <td>0.812681</td>\n",
       "      <td>0.764471</td>\n",
       "      <td>0.043621</td>\n",
       "      <td>8</td>\n",
       "    </tr>\n",
       "    <tr>\n",
       "      <th>3</th>\n",
       "      <td>17.550688</td>\n",
       "      <td>0.451263</td>\n",
       "      <td>2.698009</td>\n",
       "      <td>0.038852</td>\n",
       "      <td>SVC(gamma=0.001)</td>\n",
       "      <td>NaN</td>\n",
       "      <td>0.001</td>\n",
       "      <td>rbf</td>\n",
       "      <td>NaN</td>\n",
       "      <td>NaN</td>\n",
       "      <td>...</td>\n",
       "      <td>NaN</td>\n",
       "      <td>{'classifier': SVC(gamma=0.001), 'classifier__...</td>\n",
       "      <td>0.807537</td>\n",
       "      <td>0.812494</td>\n",
       "      <td>0.802788</td>\n",
       "      <td>0.812164</td>\n",
       "      <td>0.802561</td>\n",
       "      <td>0.807509</td>\n",
       "      <td>0.004320</td>\n",
       "      <td>1</td>\n",
       "    </tr>\n",
       "    <tr>\n",
       "      <th>4</th>\n",
       "      <td>49.327262</td>\n",
       "      <td>1.382676</td>\n",
       "      <td>2.079150</td>\n",
       "      <td>0.018904</td>\n",
       "      <td>SVC(gamma=0.001)</td>\n",
       "      <td>NaN</td>\n",
       "      <td>0.001</td>\n",
       "      <td>linear</td>\n",
       "      <td>NaN</td>\n",
       "      <td>NaN</td>\n",
       "      <td>...</td>\n",
       "      <td>NaN</td>\n",
       "      <td>{'classifier': SVC(gamma=0.001), 'classifier__...</td>\n",
       "      <td>0.808776</td>\n",
       "      <td>0.734331</td>\n",
       "      <td>0.729892</td>\n",
       "      <td>0.686803</td>\n",
       "      <td>0.802871</td>\n",
       "      <td>0.752535</td>\n",
       "      <td>0.046608</td>\n",
       "      <td>10</td>\n",
       "    </tr>\n",
       "    <tr>\n",
       "      <th>5</th>\n",
       "      <td>18.038681</td>\n",
       "      <td>0.359140</td>\n",
       "      <td>2.788525</td>\n",
       "      <td>0.026331</td>\n",
       "      <td>SVC(gamma=0.001)</td>\n",
       "      <td>NaN</td>\n",
       "      <td>0.0001</td>\n",
       "      <td>rbf</td>\n",
       "      <td>NaN</td>\n",
       "      <td>NaN</td>\n",
       "      <td>...</td>\n",
       "      <td>NaN</td>\n",
       "      <td>{'classifier': SVC(gamma=0.001), 'classifier__...</td>\n",
       "      <td>0.781208</td>\n",
       "      <td>0.786164</td>\n",
       "      <td>0.773567</td>\n",
       "      <td>0.779223</td>\n",
       "      <td>0.776126</td>\n",
       "      <td>0.779258</td>\n",
       "      <td>0.004329</td>\n",
       "      <td>5</td>\n",
       "    </tr>\n",
       "    <tr>\n",
       "      <th>6</th>\n",
       "      <td>48.514613</td>\n",
       "      <td>0.725291</td>\n",
       "      <td>2.074104</td>\n",
       "      <td>0.011951</td>\n",
       "      <td>SVC(gamma=0.001)</td>\n",
       "      <td>NaN</td>\n",
       "      <td>0.0001</td>\n",
       "      <td>linear</td>\n",
       "      <td>NaN</td>\n",
       "      <td>NaN</td>\n",
       "      <td>...</td>\n",
       "      <td>NaN</td>\n",
       "      <td>{'classifier': SVC(gamma=0.001), 'classifier__...</td>\n",
       "      <td>0.808776</td>\n",
       "      <td>0.734331</td>\n",
       "      <td>0.729892</td>\n",
       "      <td>0.686803</td>\n",
       "      <td>0.802871</td>\n",
       "      <td>0.752535</td>\n",
       "      <td>0.046608</td>\n",
       "      <td>10</td>\n",
       "    </tr>\n",
       "    <tr>\n",
       "      <th>7</th>\n",
       "      <td>0.044572</td>\n",
       "      <td>0.002890</td>\n",
       "      <td>8.882985</td>\n",
       "      <td>0.055689</td>\n",
       "      <td>KNeighborsClassifier()</td>\n",
       "      <td>NaN</td>\n",
       "      <td>NaN</td>\n",
       "      <td>NaN</td>\n",
       "      <td>euclidean</td>\n",
       "      <td>1</td>\n",
       "      <td>...</td>\n",
       "      <td>NaN</td>\n",
       "      <td>{'classifier': KNeighborsClassifier(), 'classi...</td>\n",
       "      <td>0.741249</td>\n",
       "      <td>0.707796</td>\n",
       "      <td>0.711513</td>\n",
       "      <td>0.721809</td>\n",
       "      <td>0.766522</td>\n",
       "      <td>0.729778</td>\n",
       "      <td>0.021735</td>\n",
       "      <td>13</td>\n",
       "    </tr>\n",
       "    <tr>\n",
       "      <th>8</th>\n",
       "      <td>0.047329</td>\n",
       "      <td>0.001653</td>\n",
       "      <td>12.552138</td>\n",
       "      <td>0.051837</td>\n",
       "      <td>KNeighborsClassifier()</td>\n",
       "      <td>NaN</td>\n",
       "      <td>NaN</td>\n",
       "      <td>NaN</td>\n",
       "      <td>euclidean</td>\n",
       "      <td>3</td>\n",
       "      <td>...</td>\n",
       "      <td>NaN</td>\n",
       "      <td>{'classifier': KNeighborsClassifier(), 'classi...</td>\n",
       "      <td>0.780485</td>\n",
       "      <td>0.746205</td>\n",
       "      <td>0.753330</td>\n",
       "      <td>0.765386</td>\n",
       "      <td>0.799979</td>\n",
       "      <td>0.769077</td>\n",
       "      <td>0.019338</td>\n",
       "      <td>6</td>\n",
       "    </tr>\n",
       "    <tr>\n",
       "      <th>9</th>\n",
       "      <td>0.047027</td>\n",
       "      <td>0.001007</td>\n",
       "      <td>9.487101</td>\n",
       "      <td>0.147255</td>\n",
       "      <td>KNeighborsClassifier()</td>\n",
       "      <td>NaN</td>\n",
       "      <td>NaN</td>\n",
       "      <td>NaN</td>\n",
       "      <td>euclidean</td>\n",
       "      <td>5</td>\n",
       "      <td>...</td>\n",
       "      <td>NaN</td>\n",
       "      <td>{'classifier': KNeighborsClassifier(), 'classi...</td>\n",
       "      <td>0.793289</td>\n",
       "      <td>0.761693</td>\n",
       "      <td>0.770160</td>\n",
       "      <td>0.784800</td>\n",
       "      <td>0.804316</td>\n",
       "      <td>0.782852</td>\n",
       "      <td>0.015377</td>\n",
       "      <td>3</td>\n",
       "    </tr>\n",
       "    <tr>\n",
       "      <th>10</th>\n",
       "      <td>0.045883</td>\n",
       "      <td>0.003729</td>\n",
       "      <td>3.783408</td>\n",
       "      <td>0.070198</td>\n",
       "      <td>KNeighborsClassifier()</td>\n",
       "      <td>NaN</td>\n",
       "      <td>NaN</td>\n",
       "      <td>NaN</td>\n",
       "      <td>manhattan</td>\n",
       "      <td>1</td>\n",
       "      <td>...</td>\n",
       "      <td>NaN</td>\n",
       "      <td>{'classifier': KNeighborsClassifier(), 'classi...</td>\n",
       "      <td>0.749510</td>\n",
       "      <td>0.712339</td>\n",
       "      <td>0.714920</td>\n",
       "      <td>0.720673</td>\n",
       "      <td>0.758571</td>\n",
       "      <td>0.731202</td>\n",
       "      <td>0.019058</td>\n",
       "      <td>12</td>\n",
       "    </tr>\n",
       "    <tr>\n",
       "      <th>11</th>\n",
       "      <td>0.043781</td>\n",
       "      <td>0.001474</td>\n",
       "      <td>7.592052</td>\n",
       "      <td>0.026031</td>\n",
       "      <td>KNeighborsClassifier()</td>\n",
       "      <td>NaN</td>\n",
       "      <td>NaN</td>\n",
       "      <td>NaN</td>\n",
       "      <td>manhattan</td>\n",
       "      <td>3</td>\n",
       "      <td>...</td>\n",
       "      <td>NaN</td>\n",
       "      <td>{'classifier': KNeighborsClassifier(), 'classi...</td>\n",
       "      <td>0.785338</td>\n",
       "      <td>0.749510</td>\n",
       "      <td>0.750955</td>\n",
       "      <td>0.764457</td>\n",
       "      <td>0.793784</td>\n",
       "      <td>0.768809</td>\n",
       "      <td>0.017928</td>\n",
       "      <td>7</td>\n",
       "    </tr>\n",
       "    <tr>\n",
       "      <th>12</th>\n",
       "      <td>0.046470</td>\n",
       "      <td>0.004962</td>\n",
       "      <td>4.406069</td>\n",
       "      <td>0.198850</td>\n",
       "      <td>KNeighborsClassifier()</td>\n",
       "      <td>NaN</td>\n",
       "      <td>NaN</td>\n",
       "      <td>NaN</td>\n",
       "      <td>manhattan</td>\n",
       "      <td>5</td>\n",
       "      <td>...</td>\n",
       "      <td>NaN</td>\n",
       "      <td>{'classifier': KNeighborsClassifier(), 'classi...</td>\n",
       "      <td>0.793598</td>\n",
       "      <td>0.764688</td>\n",
       "      <td>0.768301</td>\n",
       "      <td>0.783767</td>\n",
       "      <td>0.803697</td>\n",
       "      <td>0.782810</td>\n",
       "      <td>0.014782</td>\n",
       "      <td>4</td>\n",
       "    </tr>\n",
       "    <tr>\n",
       "      <th>13</th>\n",
       "      <td>2.895546</td>\n",
       "      <td>0.051446</td>\n",
       "      <td>0.020495</td>\n",
       "      <td>0.000987</td>\n",
       "      <td>MLPClassifier()</td>\n",
       "      <td>NaN</td>\n",
       "      <td>NaN</td>\n",
       "      <td>NaN</td>\n",
       "      <td>NaN</td>\n",
       "      <td>NaN</td>\n",
       "      <td>...</td>\n",
       "      <td>NaN</td>\n",
       "      <td>{'classifier': MLPClassifier(), 'classifier__a...</td>\n",
       "      <td>0.786784</td>\n",
       "      <td>0.656582</td>\n",
       "      <td>0.730511</td>\n",
       "      <td>0.590975</td>\n",
       "      <td>0.793267</td>\n",
       "      <td>0.711624</td>\n",
       "      <td>0.077791</td>\n",
       "      <td>17</td>\n",
       "    </tr>\n",
       "    <tr>\n",
       "      <th>14</th>\n",
       "      <td>0.457636</td>\n",
       "      <td>0.047316</td>\n",
       "      <td>0.012297</td>\n",
       "      <td>0.000676</td>\n",
       "      <td>MLPClassifier()</td>\n",
       "      <td>NaN</td>\n",
       "      <td>NaN</td>\n",
       "      <td>NaN</td>\n",
       "      <td>NaN</td>\n",
       "      <td>NaN</td>\n",
       "      <td>...</td>\n",
       "      <td>NaN</td>\n",
       "      <td>{'classifier': MLPClassifier(), 'classifier__a...</td>\n",
       "      <td>0.805576</td>\n",
       "      <td>0.710893</td>\n",
       "      <td>0.710067</td>\n",
       "      <td>0.603160</td>\n",
       "      <td>0.797811</td>\n",
       "      <td>0.725501</td>\n",
       "      <td>0.073566</td>\n",
       "      <td>15</td>\n",
       "    </tr>\n",
       "    <tr>\n",
       "      <th>15</th>\n",
       "      <td>3.169298</td>\n",
       "      <td>0.067293</td>\n",
       "      <td>0.019086</td>\n",
       "      <td>0.000673</td>\n",
       "      <td>MLPClassifier()</td>\n",
       "      <td>NaN</td>\n",
       "      <td>NaN</td>\n",
       "      <td>NaN</td>\n",
       "      <td>NaN</td>\n",
       "      <td>NaN</td>\n",
       "      <td>...</td>\n",
       "      <td>NaN</td>\n",
       "      <td>{'classifier': MLPClassifier(), 'classifier__a...</td>\n",
       "      <td>0.807847</td>\n",
       "      <td>0.677336</td>\n",
       "      <td>0.709757</td>\n",
       "      <td>0.610492</td>\n",
       "      <td>0.795849</td>\n",
       "      <td>0.720256</td>\n",
       "      <td>0.074010</td>\n",
       "      <td>16</td>\n",
       "    </tr>\n",
       "    <tr>\n",
       "      <th>16</th>\n",
       "      <td>0.063381</td>\n",
       "      <td>0.011985</td>\n",
       "      <td>0.016195</td>\n",
       "      <td>0.001994</td>\n",
       "      <td>BernoulliNB()</td>\n",
       "      <td>NaN</td>\n",
       "      <td>NaN</td>\n",
       "      <td>NaN</td>\n",
       "      <td>NaN</td>\n",
       "      <td>NaN</td>\n",
       "      <td>...</td>\n",
       "      <td>NaN</td>\n",
       "      <td>{'classifier': BernoulliNB()}</td>\n",
       "      <td>0.775013</td>\n",
       "      <td>0.713474</td>\n",
       "      <td>0.704491</td>\n",
       "      <td>0.672346</td>\n",
       "      <td>0.779223</td>\n",
       "      <td>0.728910</td>\n",
       "      <td>0.041692</td>\n",
       "      <td>14</td>\n",
       "    </tr>\n",
       "    <tr>\n",
       "      <th>17</th>\n",
       "      <td>0.068117</td>\n",
       "      <td>0.000454</td>\n",
       "      <td>0.012950</td>\n",
       "      <td>0.000171</td>\n",
       "      <td>DecisionTreeClassifier()</td>\n",
       "      <td>NaN</td>\n",
       "      <td>NaN</td>\n",
       "      <td>NaN</td>\n",
       "      <td>NaN</td>\n",
       "      <td>NaN</td>\n",
       "      <td>...</td>\n",
       "      <td>2</td>\n",
       "      <td>{'classifier': DecisionTreeClassifier(), 'clas...</td>\n",
       "      <td>0.794528</td>\n",
       "      <td>0.800516</td>\n",
       "      <td>0.799484</td>\n",
       "      <td>0.788620</td>\n",
       "      <td>0.793887</td>\n",
       "      <td>0.795407</td>\n",
       "      <td>0.004286</td>\n",
       "      <td>2</td>\n",
       "    </tr>\n",
       "  </tbody>\n",
       "</table>\n",
       "<p>18 rows × 25 columns</p>\n",
       "</div>"
      ],
      "text/plain": [
       "    mean_fit_time  std_fit_time  mean_score_time  std_score_time  \\\n",
       "0        0.046351      0.004150         0.000000        0.000000   \n",
       "1        0.182673      0.003226         0.011693        0.000110   \n",
       "2       13.800740      0.046407         0.310687        0.016644   \n",
       "3       17.550688      0.451263         2.698009        0.038852   \n",
       "4       49.327262      1.382676         2.079150        0.018904   \n",
       "5       18.038681      0.359140         2.788525        0.026331   \n",
       "6       48.514613      0.725291         2.074104        0.011951   \n",
       "7        0.044572      0.002890         8.882985        0.055689   \n",
       "8        0.047329      0.001653        12.552138        0.051837   \n",
       "9        0.047027      0.001007         9.487101        0.147255   \n",
       "10       0.045883      0.003729         3.783408        0.070198   \n",
       "11       0.043781      0.001474         7.592052        0.026031   \n",
       "12       0.046470      0.004962         4.406069        0.198850   \n",
       "13       2.895546      0.051446         0.020495        0.000987   \n",
       "14       0.457636      0.047316         0.012297        0.000676   \n",
       "15       3.169298      0.067293         0.019086        0.000673   \n",
       "16       0.063381      0.011985         0.016195        0.001994   \n",
       "17       0.068117      0.000454         0.012950        0.000171   \n",
       "\n",
       "            param_classifier param_classifier__penalty  \\\n",
       "0       LogisticRegression()                        l1   \n",
       "1       LogisticRegression()                        l2   \n",
       "2   RandomForestClassifier()                       NaN   \n",
       "3           SVC(gamma=0.001)                       NaN   \n",
       "4           SVC(gamma=0.001)                       NaN   \n",
       "5           SVC(gamma=0.001)                       NaN   \n",
       "6           SVC(gamma=0.001)                       NaN   \n",
       "7     KNeighborsClassifier()                       NaN   \n",
       "8     KNeighborsClassifier()                       NaN   \n",
       "9     KNeighborsClassifier()                       NaN   \n",
       "10    KNeighborsClassifier()                       NaN   \n",
       "11    KNeighborsClassifier()                       NaN   \n",
       "12    KNeighborsClassifier()                       NaN   \n",
       "13           MLPClassifier()                       NaN   \n",
       "14           MLPClassifier()                       NaN   \n",
       "15           MLPClassifier()                       NaN   \n",
       "16             BernoulliNB()                       NaN   \n",
       "17  DecisionTreeClassifier()                       NaN   \n",
       "\n",
       "   param_classifier__gamma param_classifier__kernel param_classifier__metric  \\\n",
       "0                      NaN                      NaN                      NaN   \n",
       "1                      NaN                      NaN                      NaN   \n",
       "2                      NaN                      NaN                      NaN   \n",
       "3                    0.001                      rbf                      NaN   \n",
       "4                    0.001                   linear                      NaN   \n",
       "5                   0.0001                      rbf                      NaN   \n",
       "6                   0.0001                   linear                      NaN   \n",
       "7                      NaN                      NaN                euclidean   \n",
       "8                      NaN                      NaN                euclidean   \n",
       "9                      NaN                      NaN                euclidean   \n",
       "10                     NaN                      NaN                manhattan   \n",
       "11                     NaN                      NaN                manhattan   \n",
       "12                     NaN                      NaN                manhattan   \n",
       "13                     NaN                      NaN                      NaN   \n",
       "14                     NaN                      NaN                      NaN   \n",
       "15                     NaN                      NaN                      NaN   \n",
       "16                     NaN                      NaN                      NaN   \n",
       "17                     NaN                      NaN                      NaN   \n",
       "\n",
       "   param_classifier__n_neighbors  ... param_classifier__max_depth  \\\n",
       "0                            NaN  ...                         NaN   \n",
       "1                            NaN  ...                         NaN   \n",
       "2                            NaN  ...                         NaN   \n",
       "3                            NaN  ...                         NaN   \n",
       "4                            NaN  ...                         NaN   \n",
       "5                            NaN  ...                         NaN   \n",
       "6                            NaN  ...                         NaN   \n",
       "7                              1  ...                         NaN   \n",
       "8                              3  ...                         NaN   \n",
       "9                              5  ...                         NaN   \n",
       "10                             1  ...                         NaN   \n",
       "11                             3  ...                         NaN   \n",
       "12                             5  ...                         NaN   \n",
       "13                           NaN  ...                         NaN   \n",
       "14                           NaN  ...                         NaN   \n",
       "15                           NaN  ...                         NaN   \n",
       "16                           NaN  ...                         NaN   \n",
       "17                           NaN  ...                           2   \n",
       "\n",
       "                                               params split0_test_score  \\\n",
       "0   {'classifier': LogisticRegression(), 'classifi...               NaN   \n",
       "1   {'classifier': LogisticRegression(), 'classifi...          0.808880   \n",
       "2            {'classifier': RandomForestClassifier()}          0.811151   \n",
       "3   {'classifier': SVC(gamma=0.001), 'classifier__...          0.807537   \n",
       "4   {'classifier': SVC(gamma=0.001), 'classifier__...          0.808776   \n",
       "5   {'classifier': SVC(gamma=0.001), 'classifier__...          0.781208   \n",
       "6   {'classifier': SVC(gamma=0.001), 'classifier__...          0.808776   \n",
       "7   {'classifier': KNeighborsClassifier(), 'classi...          0.741249   \n",
       "8   {'classifier': KNeighborsClassifier(), 'classi...          0.780485   \n",
       "9   {'classifier': KNeighborsClassifier(), 'classi...          0.793289   \n",
       "10  {'classifier': KNeighborsClassifier(), 'classi...          0.749510   \n",
       "11  {'classifier': KNeighborsClassifier(), 'classi...          0.785338   \n",
       "12  {'classifier': KNeighborsClassifier(), 'classi...          0.793598   \n",
       "13  {'classifier': MLPClassifier(), 'classifier__a...          0.786784   \n",
       "14  {'classifier': MLPClassifier(), 'classifier__a...          0.805576   \n",
       "15  {'classifier': MLPClassifier(), 'classifier__a...          0.807847   \n",
       "16                      {'classifier': BernoulliNB()}          0.775013   \n",
       "17  {'classifier': DecisionTreeClassifier(), 'clas...          0.794528   \n",
       "\n",
       "   split1_test_score split2_test_score split3_test_score split4_test_score  \\\n",
       "0                NaN               NaN               NaN               NaN   \n",
       "1           0.732679          0.730924          0.685151          0.806795   \n",
       "2           0.757976          0.743314          0.697233          0.812681   \n",
       "3           0.812494          0.802788          0.812164          0.802561   \n",
       "4           0.734331          0.729892          0.686803          0.802871   \n",
       "5           0.786164          0.773567          0.779223          0.776126   \n",
       "6           0.734331          0.729892          0.686803          0.802871   \n",
       "7           0.707796          0.711513          0.721809          0.766522   \n",
       "8           0.746205          0.753330          0.765386          0.799979   \n",
       "9           0.761693          0.770160          0.784800          0.804316   \n",
       "10          0.712339          0.714920          0.720673          0.758571   \n",
       "11          0.749510          0.750955          0.764457          0.793784   \n",
       "12          0.764688          0.768301          0.783767          0.803697   \n",
       "13          0.656582          0.730511          0.590975          0.793267   \n",
       "14          0.710893          0.710067          0.603160          0.797811   \n",
       "15          0.677336          0.709757          0.610492          0.795849   \n",
       "16          0.713474          0.704491          0.672346          0.779223   \n",
       "17          0.800516          0.799484          0.788620          0.793887   \n",
       "\n",
       "    mean_test_score  std_test_score  rank_test_score  \n",
       "0               NaN             NaN               18  \n",
       "1          0.752886        0.048000                9  \n",
       "2          0.764471        0.043621                8  \n",
       "3          0.807509        0.004320                1  \n",
       "4          0.752535        0.046608               10  \n",
       "5          0.779258        0.004329                5  \n",
       "6          0.752535        0.046608               10  \n",
       "7          0.729778        0.021735               13  \n",
       "8          0.769077        0.019338                6  \n",
       "9          0.782852        0.015377                3  \n",
       "10         0.731202        0.019058               12  \n",
       "11         0.768809        0.017928                7  \n",
       "12         0.782810        0.014782                4  \n",
       "13         0.711624        0.077791               17  \n",
       "14         0.725501        0.073566               15  \n",
       "15         0.720256        0.074010               16  \n",
       "16         0.728910        0.041692               14  \n",
       "17         0.795407        0.004286                2  \n",
       "\n",
       "[18 rows x 25 columns]"
      ]
     },
     "execution_count": 86,
     "metadata": {},
     "output_type": "execute_result"
    },
    {
     "data": {
      "text/plain": [
       "<Figure size 2500x1000 with 0 Axes>"
      ]
     },
     "metadata": {},
     "output_type": "display_data"
    }
   ],
   "source": [
    "fig = plt.figure(figsize=(25,10))\n",
    "results"
   ]
  },
  {
   "cell_type": "code",
   "execution_count": 93,
   "metadata": {
    "id": "FK_zetZLlOeV"
   },
   "outputs": [
    {
     "data": {
      "image/png": "[encoded data removed]",
      "text/plain": [
       "<Figure size 2500x1000 with 1 Axes>"
      ]
     },
     "metadata": {},
     "output_type": "display_data"
    }
   ],
   "source": [
    "fig = plt.figure(figsize=(25,10))\n",
    "plt.bar(list(results.index), list(results['mean_test_score']))\n",
    "plt.ylim(0.55, 0.85)\n",
    "plt.show;"
   ]
  },
  {
   "cell_type": "code",
   "execution_count": 55,
   "metadata": {
    "id": "FK_zetZLlOeV"
   },
   "outputs": [
    {
     "name": "stdout",
     "output_type": "stream",
     "text": [
      "{'classifier': SVC(gamma=0.001), 'classifier__gamma': 0.001, 'classifier__kernel': 'rbf'}\n",
      "Pipeline(steps=[('preprocessor',\n",
      "                 ColumnTransformer(transformers=[('num',\n",
      "                                                  Pipeline(steps=[('imputer',\n",
      "                                                                   SimpleImputer()),\n",
      "                                                                  ('scaler',\n",
      "                                                                   StandardScaler())]),\n",
      "                                                  ['MinTemp', 'MaxTemp',\n",
      "                                                   'Rainfall', 'WindGustSpeed',\n",
      "                                                   'RainToday',\n",
      "                                                   'HumidityChange',\n",
      "                                                   'PressureChange',\n",
      "                                                   'WindSpeedChange',\n",
      "                                                   'WindDirChange',\n",
      "                                                   'TempChange']),\n",
      "                                                 ('cat',\n",
      "                                                  Pipeline(steps=[('imputer',\n",
      "                                                                   SimpleImputer(strategy='most_frequent')),\n",
      "                                                                  ('scaler',\n",
      "                                                                   OneHotEncoder(handle_unknown='ignore'))]),\n",
      "                                                  ['Date', 'Location',\n",
      "                                                   'WindGustDir'])])),\n",
      "                ('classifier', SVC(gamma=0.001))])\n"
     ]
    }
   ],
   "source": [
    "# Access the best set of parameters\n",
    "best_params = grid.best_params_\n",
    "print(best_params)\n",
    "\n",
    "# Stores the optimum model in best_pipe\n",
    "best_pipe = grid.best_estimator_\n",
    "print(best_pipe)"
   ]
  },
  {
   "cell_type": "markdown",
   "metadata": {},
   "source": [
    "### 7. Προετοιμασία αρχείου για τη δεύτερη υποβολή στο kaggle"
   ]
  },
  {
   "cell_type": "markdown",
   "metadata": {},
   "source": [
    "7.α. Χρησιμοποιήστε **ΜΟΝΟ** το μοντέλο σας με την καλύτερη επίδοση για να κάνετε προβλέψεις χρησιμοποιώντας το δοθέν σύνολο εκπαίδευσης (test set)"
   ]
  },
  {
   "cell_type": "markdown",
   "metadata": {},
   "source": [
    "7.β. Αποθηκεύστε τις προβλέψεις από το καλύτερο μοντέλο σας σε ένα csv αρχείο. To csv αρχείο θα πρέπει να είναι περιέχει 2 στήλες: η πρώτη στήλη να περιέχει την στήλη id του test set file και η δεύτερη στήλη τις αντίστοιχες προβλέψεις που έκανε το καλύτερα εκπαιδευμένο μοντέλο σας (βήμα 7α)."
   ]
  },
  {
   "cell_type": "code",
   "execution_count": 61,
   "metadata": {
    "id": "FK_zetZLlOeV"
   },
   "outputs": [
    {
     "data": {
      "text/plain": [
       "array([0., 0., 0., ..., 0., 0., 0.])"
      ]
     },
     "execution_count": 61,
     "metadata": {},
     "output_type": "execute_result"
    }
   ],
   "source": [
    "preds = best_model.predict(test)#παίρνουμε pedictions στο test set\n",
    "preds"
   ]
  },
  {
   "cell_type": "code",
   "execution_count": 62,
   "metadata": {
    "id": "FK_zetZLlOeV"
   },
   "outputs": [
    {
     "data": {
      "text/html": [
       "<div>\n",
       "<style scoped>\n",
       "    .dataframe tbody tr th:only-of-type {\n",
       "        vertical-align: middle;\n",
       "    }\n",
       "\n",
       "    .dataframe tbody tr th {\n",
       "        vertical-align: top;\n",
       "    }\n",
       "\n",
       "    .dataframe thead th {\n",
       "        text-align: right;\n",
       "    }\n",
       "</style>\n",
       "<table border=\"1\" class=\"dataframe\">\n",
       "  <thead>\n",
       "    <tr style=\"text-align: right;\">\n",
       "      <th></th>\n",
       "      <th>0</th>\n",
       "    </tr>\n",
       "  </thead>\n",
       "  <tbody>\n",
       "    <tr>\n",
       "      <th>0</th>\n",
       "      <td>0</td>\n",
       "    </tr>\n",
       "    <tr>\n",
       "      <th>1</th>\n",
       "      <td>0</td>\n",
       "    </tr>\n",
       "    <tr>\n",
       "      <th>2</th>\n",
       "      <td>0</td>\n",
       "    </tr>\n",
       "    <tr>\n",
       "      <th>3</th>\n",
       "      <td>0</td>\n",
       "    </tr>\n",
       "    <tr>\n",
       "      <th>4</th>\n",
       "      <td>0</td>\n",
       "    </tr>\n",
       "    <tr>\n",
       "      <th>...</th>\n",
       "      <td>...</td>\n",
       "    </tr>\n",
       "    <tr>\n",
       "      <th>9674</th>\n",
       "      <td>0</td>\n",
       "    </tr>\n",
       "    <tr>\n",
       "      <th>9675</th>\n",
       "      <td>0</td>\n",
       "    </tr>\n",
       "    <tr>\n",
       "      <th>9676</th>\n",
       "      <td>0</td>\n",
       "    </tr>\n",
       "    <tr>\n",
       "      <th>9677</th>\n",
       "      <td>0</td>\n",
       "    </tr>\n",
       "    <tr>\n",
       "      <th>9678</th>\n",
       "      <td>0</td>\n",
       "    </tr>\n",
       "  </tbody>\n",
       "</table>\n",
       "<p>9679 rows × 1 columns</p>\n",
       "</div>"
      ],
      "text/plain": [
       "      0\n",
       "0     0\n",
       "1     0\n",
       "2     0\n",
       "3     0\n",
       "4     0\n",
       "...  ..\n",
       "9674  0\n",
       "9675  0\n",
       "9676  0\n",
       "9677  0\n",
       "9678  0\n",
       "\n",
       "[9679 rows x 1 columns]"
      ]
     },
     "execution_count": 62,
     "metadata": {},
     "output_type": "execute_result"
    }
   ],
   "source": [
    "preds = pd.DataFrame(preds.astype('int32'))\n",
    "preds.to_csv('submission2.csv', index=False)\n",
    "preds"
   ]
  }
 ],
 "metadata": {
  "colab": {
   "provenance": []
  },
  "kernelspec": {
   "display_name": "Python 3 (ipykernel)",
   "language": "python",
   "name": "python3"
  },
  "language_info": {
   "codemirror_mode": {
    "name": "ipython",
    "version": 3
   },
   "file_extension": ".py",
   "mimetype": "text/x-python",
   "name": "python",
   "nbconvert_exporter": "python",
   "pygments_lexer": "ipython3",
   "version": "3.10.5"
  }
 },
 "nbformat": 4,
 "nbformat_minor": 1
}
