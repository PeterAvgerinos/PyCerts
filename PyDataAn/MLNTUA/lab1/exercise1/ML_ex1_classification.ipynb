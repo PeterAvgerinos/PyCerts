{
  "nbformat": 4,
  "nbformat_minor": 0,
  "metadata": {
    "colab": {
      "provenance": []
    },
    "kernelspec": {
      "name": "python3",
      "display_name": "Python 3"
    },
    "language_info": {
      "name": "python"
    }
  },
  "cells": [
    {
      "cell_type": "markdown",
      "source": [
        "### Άσκηση ταξινόμησης"
      ],
      "metadata": {
        "id": "S5dJ6dakcgEG"
      }
    },
    {
      "cell_type": "markdown",
      "metadata": {
        "id": "vgvneoydNcsQ"
      },
      "source": [
        "Για τον πειραματισμό μας  θα χρησιμοποιήσουμε ως dataset το [Pima-Indians-diabetes](https://www.kaggle.com/datasets/uciml/pima-indians-diabetes-database). Θα φορτώσουμε το dataset και θα το χωρίσουμε σε data και σε labels."
      ]
    },
    {
      "cell_type": "code",
      "source": [],
      "metadata": {
        "id": "b9kRk446J7lE"
      },
      "execution_count": null,
      "outputs": []
    },
    {
      "cell_type": "code",
      "metadata": {
        "id": "EhR1lEjrF7wF",
        "colab": {
          "base_uri": "https://localhost:8080/"
        },
        "outputId": "2c569f98-7706-480a-e8c0-c1f81a0dc9a8"
      },
      "source": [
        "from IPython.display import Image\n",
        "from IPython.display import display\n",
        "\n",
        "import pandas as pd\n",
        "import numpy as np\n",
        "import matplotlib.pyplot as plt\n",
        "\n",
        "# inline plotting instead of popping out\n",
        "%matplotlib inline\n",
        "\n",
        "\n",
        "# e.g., plot_decision_regions()\n",
        "import os, sys\n",
        "module_path = os.path.abspath(os.path.join('.'))\n",
        "sys.path.append(module_path)\n",
        "\n",
        "\n",
        "# Load CSV using Pandas from URL\n",
        "\n",
        "url = \"https://raw.githubusercontent.com/jbrownlee/Datasets/master/pima-indians-diabetes.data.csv\"\n",
        "names = ['preg', 'plas', 'pres', 'skin', 'test', 'mass', 'pedi', 'age', 'class']\n",
        "data = pd.read_csv(url, names=names)\n",
        "print(data.shape)\n",
        "\n",
        "# separate array into input and output components\n",
        "# X: Features Y: Labels\n",
        "\n",
        "y = data['class']\n",
        "X = data.drop('class', axis=1)\n",
        "\n",
        "X.shape, y.shape"
      ],
      "execution_count": 2,
      "outputs": [
        {
          "output_type": "stream",
          "name": "stdout",
          "text": [
            "(768, 9)\n"
          ]
        },
        {
          "output_type": "execute_result",
          "data": {
            "text/plain": [
              "((768, 8), (768,))"
            ]
          },
          "metadata": {},
          "execution_count": 2
        }
      ]
    },
    {
      "cell_type": "markdown",
      "metadata": {
        "id": "nhQvXFgcPPje"
      },
      "source": [
        "1. Χωρίστε τα data kai ta labels σε training (80%) και σε testing set (20%)."
      ]
    },
    {
      "cell_type": "code",
      "metadata": {
        "id": "ovXjOIweNa-a"
      },
      "source": [
        "from sklearn.model_selection import train_test_split\n",
        "\n",
        "X_train, X_test, y_train, y_test = train_test_split(X, y, test_size=0.3, random_state=0)"
      ],
      "execution_count": 3,
      "outputs": []
    },
    {
      "cell_type": "markdown",
      "metadata": {
        "id": "FdeZ8SxzP30z"
      },
      "source": [
        "2.  Έπειτα χωρίστε το training set σε 70% και σε 30% όπου το 30% θα το χρησιμοποιήσουμε για validation."
      ]
    },
    {
      "cell_type": "code",
      "metadata": {
        "id": "kUVpllGwQABB"
      },
      "source": [
        "X_train, X_val, y_train, y_val = train_test_split(X_train, y_train, test_size=0.3, random_state=0)"
      ],
      "execution_count": 4,
      "outputs": []
    },
    {
      "cell_type": "markdown",
      "metadata": {
        "id": "TbM3wVwDS8O_"
      },
      "source": [
        "3. Για διαφορετικές υπερπαραμέτρους (n_neighbors = 1, 2, 10) να εκπαιδεύσετε έναν k-nearest neighbors classifier, χρησιμοποιώντας το training set με το \n",
        "validation set  με 5 fold cross validation και τυπώστε τα αποτελέσματα."
      ]
    },
    {
      "cell_type": "code",
      "source": [
        "from sklearn.neighbors import KNeighborsClassifier\n",
        "from sklearn.metrics import accuracy_score\n",
        "from sklearn.model_selection import cross_val_score\n",
        "from sklearn.metrics import confusion_matrix\n",
        "\n",
        "best_k, best_score = -1, -1\n",
        "clfs = {}\n",
        "\n",
        "for k in [1, 2, 10]: # experiment different hyperparameter\n",
        "    knn1 = KNeighborsClassifier(n_neighbors=k)\n",
        "    knn1.fit(X_train, y_train)\n",
        "    # K-Fold CV\n",
        "    scores = cross_val_score(knn1, X_train, y_train, cv=5)\n",
        "    print('[%d-NN]\\nValidation accuracy: %.3f %s' % (k, scores.mean(), scores))\n",
        "    if scores.mean() > best_score:\n",
        "        best_k, best_score = k, scores.mean()\n",
        "    clfs[k] = knn1"
      ],
      "metadata": {
        "id": "B23hsTdEd4nN",
        "colab": {
          "base_uri": "https://localhost:8080/"
        },
        "outputId": "dc4ee113-3979-444b-fccb-6deaa526b33a"
      },
      "execution_count": 20,
      "outputs": [
        {
          "output_type": "stream",
          "name": "stdout",
          "text": [
            "[1-NN]\n",
            "Validation accuracy: 0.683 [0.73333333 0.64       0.72       0.69333333 0.62666667]\n",
            "[2-NN]\n",
            "Validation accuracy: 0.696 [0.65333333 0.69333333 0.73333333 0.73333333 0.66666667]\n",
            "[10-NN]\n",
            "Validation accuracy: 0.707 [0.70666667 0.77333333 0.70666667 0.68       0.66666667]\n"
          ]
        }
      ]
    },
    {
      "cell_type": "markdown",
      "source": [
        "4. Επιλέξτε το καλύτερο αποτέλεσμα και εφαρμόστε αυτό το μοντέλο στα δεδομένα ελέγχου (test set)."
      ],
      "metadata": {
        "id": "yjHyFg9od441"
      }
    },
    {
      "cell_type": "code",
      "source": [
        "best_clf = clfs[best_k]\n",
        "best_clf.fit(X_train, y_train)\n",
        "\n",
        "# performance reporting\n",
        "y_pred = best_clf.predict(X_test)\n",
        "print('Test accuracy: %.2f (n_neighbors=%d selected by 5-fold CV)' % \n",
        "      (accuracy_score(y_test, y_pred), best_k))\n",
        "cnf_matrix = confusion_matrix(y_test, y_pred)\n",
        "print(cnf_matrix)"
      ],
      "metadata": {
        "id": "iAdKvdt-eip0",
        "colab": {
          "base_uri": "https://localhost:8080/"
        },
        "outputId": "cb13bfe7-5bfc-47db-afc8-3918e9075879"
      },
      "execution_count": 23,
      "outputs": [
        {
          "output_type": "stream",
          "name": "stdout",
          "text": [
            "Test accuracy: 0.73 (n_neighbors=10 selected by 5-fold CV)\n",
            "[[137  20]\n",
            " [ 42  32]]\n"
          ]
        }
      ]
    },
    {
      "cell_type": "markdown",
      "source": [
        "5. Eκπαιδεύσετε έναν  Gaussian Naive Bayes  classifier, χρησιμοποιώντας το training set με το validation set με 5 fold cross validation και τυπώστε τα αποτελέσματα. "
      ],
      "metadata": {
        "id": "OCOkG3QOeqb8"
      }
    },
    {
      "cell_type": "code",
      "source": [
        "from sklearn.naive_bayes import GaussianNB\n",
        "\n",
        "nbc = GaussianNB()\n",
        "nbc.fit(X_train,y_train)\n",
        "scores = cross_val_score(nbc, X_train, y_train, cv=5)\n",
        "print(scores, scores.mean())"
      ],
      "metadata": {
        "id": "hHcB2wxBfJdc",
        "colab": {
          "base_uri": "https://localhost:8080/"
        },
        "outputId": "e0d9360a-1919-400c-ca9d-2efeede9c12e"
      },
      "execution_count": 17,
      "outputs": [
        {
          "output_type": "stream",
          "name": "stdout",
          "text": [
            "[0.76       0.81333333 0.70666667 0.74666667 0.68      ] 0.7413333333333333\n"
          ]
        }
      ]
    },
    {
      "cell_type": "markdown",
      "source": [],
      "metadata": {
        "id": "nBq9X-OzILpH"
      }
    },
    {
      "cell_type": "markdown",
      "source": [
        "6. Eφαρμόστε το μοντέλο που εκπαιδεύσατε στα δεδομένα ελέγχου (test set)"
      ],
      "metadata": {
        "id": "9jzdIQ_ke5Ru"
      }
    },
    {
      "cell_type": "code",
      "source": [
        "y_pred = nbc.predict(X_test)\n",
        "print(accuracy_score(y_test, y_pred))\n",
        "cnf_matrix = confusion_matrix(y_test, y_pred)\n",
        "print(cnf_matrix)"
      ],
      "metadata": {
        "id": "FwMpq77te5BV",
        "colab": {
          "base_uri": "https://localhost:8080/"
        },
        "outputId": "d2b528a6-c0bb-4947-d496-e07626d003f2"
      },
      "execution_count": 24,
      "outputs": [
        {
          "output_type": "stream",
          "name": "stdout",
          "text": [
            "0.7575757575757576\n",
            "[[137  20]\n",
            " [ 36  38]]\n"
          ]
        }
      ]
    },
    {
      "cell_type": "markdown",
      "source": [
        "7. Εκτυπώστε τον confusion matrix και για τους δύο ταξινομητές που εκπαιδεύσατε και ελέγξατε.\n"
      ],
      "metadata": {
        "id": "24PEwKu8fPVt"
      }
    },
    {
      "cell_type": "code",
      "source": [],
      "metadata": {
        "id": "39h9e96Wf4FF"
      },
      "execution_count": null,
      "outputs": []
    }
  ]
}