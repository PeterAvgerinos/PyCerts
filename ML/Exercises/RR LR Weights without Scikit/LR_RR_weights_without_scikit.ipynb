{
 "cells": [
  {
   "cell_type": "code",
   "execution_count": 1,
   "id": "464d84b4",
   "metadata": {},
   "outputs": [],
   "source": [
    "import pandas as pd\n",
    "import numpy as np"
   ]
  },
  {
   "cell_type": "code",
   "execution_count": 2,
   "id": "9a1e7971",
   "metadata": {},
   "outputs": [],
   "source": [
    "df = pd.read_csv('olympic_teams.csv')"
   ]
  },
  {
   "cell_type": "code",
   "execution_count": 3,
   "id": "3289b2b2",
   "metadata": {},
   "outputs": [
    {
     "data": {
      "text/html": [
       "<div>\n",
       "<style scoped>\n",
       "    .dataframe tbody tr th:only-of-type {\n",
       "        vertical-align: middle;\n",
       "    }\n",
       "\n",
       "    .dataframe tbody tr th {\n",
       "        vertical-align: top;\n",
       "    }\n",
       "\n",
       "    .dataframe thead th {\n",
       "        text-align: right;\n",
       "    }\n",
       "</style>\n",
       "<table border=\"1\" class=\"dataframe\">\n",
       "  <thead>\n",
       "    <tr style=\"text-align: right;\">\n",
       "      <th></th>\n",
       "      <th>team</th>\n",
       "      <th>year</th>\n",
       "      <th>athletes</th>\n",
       "      <th>events</th>\n",
       "      <th>age</th>\n",
       "      <th>height</th>\n",
       "      <th>weight</th>\n",
       "      <th>prev_medals</th>\n",
       "      <th>medals</th>\n",
       "    </tr>\n",
       "  </thead>\n",
       "  <tbody>\n",
       "    <tr>\n",
       "      <th>0</th>\n",
       "      <td>AFG</td>\n",
       "      <td>1964</td>\n",
       "      <td>8</td>\n",
       "      <td>8</td>\n",
       "      <td>22.0</td>\n",
       "      <td>161.0</td>\n",
       "      <td>64.2</td>\n",
       "      <td>0.0</td>\n",
       "      <td>0</td>\n",
       "    </tr>\n",
       "    <tr>\n",
       "      <th>1</th>\n",
       "      <td>AFG</td>\n",
       "      <td>1968</td>\n",
       "      <td>5</td>\n",
       "      <td>5</td>\n",
       "      <td>23.2</td>\n",
       "      <td>170.2</td>\n",
       "      <td>70.0</td>\n",
       "      <td>0.0</td>\n",
       "      <td>0</td>\n",
       "    </tr>\n",
       "    <tr>\n",
       "      <th>2</th>\n",
       "      <td>AFG</td>\n",
       "      <td>1972</td>\n",
       "      <td>8</td>\n",
       "      <td>8</td>\n",
       "      <td>29.0</td>\n",
       "      <td>168.3</td>\n",
       "      <td>63.8</td>\n",
       "      <td>0.0</td>\n",
       "      <td>0</td>\n",
       "    </tr>\n",
       "    <tr>\n",
       "      <th>3</th>\n",
       "      <td>AFG</td>\n",
       "      <td>1980</td>\n",
       "      <td>11</td>\n",
       "      <td>11</td>\n",
       "      <td>23.6</td>\n",
       "      <td>168.4</td>\n",
       "      <td>63.2</td>\n",
       "      <td>0.0</td>\n",
       "      <td>0</td>\n",
       "    </tr>\n",
       "    <tr>\n",
       "      <th>4</th>\n",
       "      <td>AFG</td>\n",
       "      <td>2004</td>\n",
       "      <td>5</td>\n",
       "      <td>5</td>\n",
       "      <td>18.6</td>\n",
       "      <td>170.8</td>\n",
       "      <td>64.8</td>\n",
       "      <td>0.0</td>\n",
       "      <td>0</td>\n",
       "    </tr>\n",
       "    <tr>\n",
       "      <th>...</th>\n",
       "      <td>...</td>\n",
       "      <td>...</td>\n",
       "      <td>...</td>\n",
       "      <td>...</td>\n",
       "      <td>...</td>\n",
       "      <td>...</td>\n",
       "      <td>...</td>\n",
       "      <td>...</td>\n",
       "      <td>...</td>\n",
       "    </tr>\n",
       "    <tr>\n",
       "      <th>2009</th>\n",
       "      <td>ZIM</td>\n",
       "      <td>2000</td>\n",
       "      <td>26</td>\n",
       "      <td>19</td>\n",
       "      <td>25.0</td>\n",
       "      <td>179.0</td>\n",
       "      <td>71.1</td>\n",
       "      <td>0.0</td>\n",
       "      <td>0</td>\n",
       "    </tr>\n",
       "    <tr>\n",
       "      <th>2010</th>\n",
       "      <td>ZIM</td>\n",
       "      <td>2004</td>\n",
       "      <td>14</td>\n",
       "      <td>11</td>\n",
       "      <td>25.1</td>\n",
       "      <td>177.8</td>\n",
       "      <td>70.5</td>\n",
       "      <td>0.0</td>\n",
       "      <td>3</td>\n",
       "    </tr>\n",
       "    <tr>\n",
       "      <th>2011</th>\n",
       "      <td>ZIM</td>\n",
       "      <td>2008</td>\n",
       "      <td>16</td>\n",
       "      <td>15</td>\n",
       "      <td>26.1</td>\n",
       "      <td>171.9</td>\n",
       "      <td>63.7</td>\n",
       "      <td>3.0</td>\n",
       "      <td>4</td>\n",
       "    </tr>\n",
       "    <tr>\n",
       "      <th>2012</th>\n",
       "      <td>ZIM</td>\n",
       "      <td>2012</td>\n",
       "      <td>9</td>\n",
       "      <td>8</td>\n",
       "      <td>27.3</td>\n",
       "      <td>174.4</td>\n",
       "      <td>65.2</td>\n",
       "      <td>4.0</td>\n",
       "      <td>0</td>\n",
       "    </tr>\n",
       "    <tr>\n",
       "      <th>2013</th>\n",
       "      <td>ZIM</td>\n",
       "      <td>2016</td>\n",
       "      <td>31</td>\n",
       "      <td>13</td>\n",
       "      <td>27.5</td>\n",
       "      <td>167.8</td>\n",
       "      <td>62.2</td>\n",
       "      <td>0.0</td>\n",
       "      <td>0</td>\n",
       "    </tr>\n",
       "  </tbody>\n",
       "</table>\n",
       "<p>2014 rows × 9 columns</p>\n",
       "</div>"
      ],
      "text/plain": [
       "     team  year  athletes  events   age  height  weight  prev_medals  medals\n",
       "0     AFG  1964         8       8  22.0   161.0    64.2          0.0       0\n",
       "1     AFG  1968         5       5  23.2   170.2    70.0          0.0       0\n",
       "2     AFG  1972         8       8  29.0   168.3    63.8          0.0       0\n",
       "3     AFG  1980        11      11  23.6   168.4    63.2          0.0       0\n",
       "4     AFG  2004         5       5  18.6   170.8    64.8          0.0       0\n",
       "...   ...   ...       ...     ...   ...     ...     ...          ...     ...\n",
       "2009  ZIM  2000        26      19  25.0   179.0    71.1          0.0       0\n",
       "2010  ZIM  2004        14      11  25.1   177.8    70.5          0.0       3\n",
       "2011  ZIM  2008        16      15  26.1   171.9    63.7          3.0       4\n",
       "2012  ZIM  2012         9       8  27.3   174.4    65.2          4.0       0\n",
       "2013  ZIM  2016        31      13  27.5   167.8    62.2          0.0       0\n",
       "\n",
       "[2014 rows x 9 columns]"
      ]
     },
     "execution_count": 3,
     "metadata": {},
     "output_type": "execute_result"
    }
   ],
   "source": [
    "df"
   ]
  },
  {
   "cell_type": "code",
   "execution_count": 4,
   "id": "3d47d65d",
   "metadata": {},
   "outputs": [
    {
     "data": {
      "text/plain": [
       "<bound method NDFrame._add_numeric_operations.<locals>.mean of      team  year  athletes  events   age  height  weight  prev_medals  medals\n",
       "0     AFG  1964         8       8  22.0   161.0    64.2          0.0       0\n",
       "1     AFG  1968         5       5  23.2   170.2    70.0          0.0       0\n",
       "2     AFG  1972         8       8  29.0   168.3    63.8          0.0       0\n",
       "3     AFG  1980        11      11  23.6   168.4    63.2          0.0       0\n",
       "4     AFG  2004         5       5  18.6   170.8    64.8          0.0       0\n",
       "...   ...   ...       ...     ...   ...     ...     ...          ...     ...\n",
       "2009  ZIM  2000        26      19  25.0   179.0    71.1          0.0       0\n",
       "2010  ZIM  2004        14      11  25.1   177.8    70.5          0.0       3\n",
       "2011  ZIM  2008        16      15  26.1   171.9    63.7          3.0       4\n",
       "2012  ZIM  2012         9       8  27.3   174.4    65.2          4.0       0\n",
       "2013  ZIM  2016        31      13  27.5   167.8    62.2          0.0       0\n",
       "\n",
       "[2014 rows x 9 columns]>"
      ]
     },
     "execution_count": 4,
     "metadata": {},
     "output_type": "execute_result"
    }
   ],
   "source": [
    "df.mean"
   ]
  },
  {
   "cell_type": "code",
   "execution_count": 5,
   "id": "b69467fe",
   "metadata": {},
   "outputs": [],
   "source": [
    "x1 = df['athletes']\n",
    "x2 = df['events']\n",
    "y = df['medals']"
   ]
  },
  {
   "cell_type": "code",
   "execution_count": 6,
   "id": "f9f79bfd",
   "metadata": {},
   "outputs": [
    {
     "data": {
      "text/plain": [
       "10.990069513406157"
      ]
     },
     "execution_count": 6,
     "metadata": {},
     "output_type": "execute_result"
    }
   ],
   "source": [
    "y.mean()"
   ]
  },
  {
   "cell_type": "code",
   "execution_count": 7,
   "id": "bca472ee",
   "metadata": {},
   "outputs": [
    {
     "data": {
      "text/plain": [
       "442"
      ]
     },
     "execution_count": 7,
     "metadata": {},
     "output_type": "execute_result"
    }
   ],
   "source": [
    "y.max()"
   ]
  },
  {
   "cell_type": "code",
   "execution_count": 8,
   "id": "e5c823bd",
   "metadata": {},
   "outputs": [
    {
     "data": {
      "text/plain": [
       "0"
      ]
     },
     "execution_count": 8,
     "metadata": {},
     "output_type": "execute_result"
    }
   ],
   "source": [
    "y.min()"
   ]
  },
  {
   "cell_type": "code",
   "execution_count": 9,
   "id": "100e608a",
   "metadata": {},
   "outputs": [
    {
     "data": {
      "text/html": [
       "<div>\n",
       "<style scoped>\n",
       "    .dataframe tbody tr th:only-of-type {\n",
       "        vertical-align: middle;\n",
       "    }\n",
       "\n",
       "    .dataframe tbody tr th {\n",
       "        vertical-align: top;\n",
       "    }\n",
       "\n",
       "    .dataframe thead th {\n",
       "        text-align: right;\n",
       "    }\n",
       "</style>\n",
       "<table border=\"1\" class=\"dataframe\">\n",
       "  <thead>\n",
       "    <tr style=\"text-align: right;\">\n",
       "      <th></th>\n",
       "      <th>team</th>\n",
       "      <th>year</th>\n",
       "      <th>athletes</th>\n",
       "      <th>events</th>\n",
       "      <th>age</th>\n",
       "      <th>height</th>\n",
       "      <th>weight</th>\n",
       "      <th>prev_medals</th>\n",
       "      <th>medals</th>\n",
       "    </tr>\n",
       "  </thead>\n",
       "  <tbody>\n",
       "    <tr>\n",
       "      <th>1905</th>\n",
       "      <td>URS</td>\n",
       "      <td>1980</td>\n",
       "      <td>660</td>\n",
       "      <td>202</td>\n",
       "      <td>23.7</td>\n",
       "      <td>176.5</td>\n",
       "      <td>72.6</td>\n",
       "      <td>286.0</td>\n",
       "      <td>442</td>\n",
       "    </tr>\n",
       "  </tbody>\n",
       "</table>\n",
       "</div>"
      ],
      "text/plain": [
       "     team  year  athletes  events   age  height  weight  prev_medals  medals\n",
       "1905  URS  1980       660     202  23.7   176.5    72.6        286.0     442"
      ]
     },
     "execution_count": 9,
     "metadata": {},
     "output_type": "execute_result"
    }
   ],
   "source": [
    "df[df['medals'] == y.max()]"
   ]
  },
  {
   "cell_type": "code",
   "execution_count": 10,
   "id": "1bbb49cd",
   "metadata": {},
   "outputs": [
    {
     "data": {
      "text/html": [
       "<div>\n",
       "<style scoped>\n",
       "    .dataframe tbody tr th:only-of-type {\n",
       "        vertical-align: middle;\n",
       "    }\n",
       "\n",
       "    .dataframe tbody tr th {\n",
       "        vertical-align: top;\n",
       "    }\n",
       "\n",
       "    .dataframe thead th {\n",
       "        text-align: right;\n",
       "    }\n",
       "</style>\n",
       "<table border=\"1\" class=\"dataframe\">\n",
       "  <thead>\n",
       "    <tr style=\"text-align: right;\">\n",
       "      <th></th>\n",
       "      <th>team</th>\n",
       "      <th>year</th>\n",
       "      <th>athletes</th>\n",
       "      <th>events</th>\n",
       "      <th>age</th>\n",
       "      <th>height</th>\n",
       "      <th>weight</th>\n",
       "      <th>prev_medals</th>\n",
       "      <th>medals</th>\n",
       "    </tr>\n",
       "  </thead>\n",
       "  <tbody>\n",
       "    <tr>\n",
       "      <th>0</th>\n",
       "      <td>AFG</td>\n",
       "      <td>1964</td>\n",
       "      <td>8</td>\n",
       "      <td>8</td>\n",
       "      <td>22.0</td>\n",
       "      <td>161.0</td>\n",
       "      <td>64.2</td>\n",
       "      <td>0.0</td>\n",
       "      <td>0</td>\n",
       "    </tr>\n",
       "    <tr>\n",
       "      <th>1</th>\n",
       "      <td>AFG</td>\n",
       "      <td>1968</td>\n",
       "      <td>5</td>\n",
       "      <td>5</td>\n",
       "      <td>23.2</td>\n",
       "      <td>170.2</td>\n",
       "      <td>70.0</td>\n",
       "      <td>0.0</td>\n",
       "      <td>0</td>\n",
       "    </tr>\n",
       "    <tr>\n",
       "      <th>2</th>\n",
       "      <td>AFG</td>\n",
       "      <td>1972</td>\n",
       "      <td>8</td>\n",
       "      <td>8</td>\n",
       "      <td>29.0</td>\n",
       "      <td>168.3</td>\n",
       "      <td>63.8</td>\n",
       "      <td>0.0</td>\n",
       "      <td>0</td>\n",
       "    </tr>\n",
       "    <tr>\n",
       "      <th>3</th>\n",
       "      <td>AFG</td>\n",
       "      <td>1980</td>\n",
       "      <td>11</td>\n",
       "      <td>11</td>\n",
       "      <td>23.6</td>\n",
       "      <td>168.4</td>\n",
       "      <td>63.2</td>\n",
       "      <td>0.0</td>\n",
       "      <td>0</td>\n",
       "    </tr>\n",
       "    <tr>\n",
       "      <th>4</th>\n",
       "      <td>AFG</td>\n",
       "      <td>2004</td>\n",
       "      <td>5</td>\n",
       "      <td>5</td>\n",
       "      <td>18.6</td>\n",
       "      <td>170.8</td>\n",
       "      <td>64.8</td>\n",
       "      <td>0.0</td>\n",
       "      <td>0</td>\n",
       "    </tr>\n",
       "    <tr>\n",
       "      <th>...</th>\n",
       "      <td>...</td>\n",
       "      <td>...</td>\n",
       "      <td>...</td>\n",
       "      <td>...</td>\n",
       "      <td>...</td>\n",
       "      <td>...</td>\n",
       "      <td>...</td>\n",
       "      <td>...</td>\n",
       "      <td>...</td>\n",
       "    </tr>\n",
       "    <tr>\n",
       "      <th>2009</th>\n",
       "      <td>ZIM</td>\n",
       "      <td>2000</td>\n",
       "      <td>26</td>\n",
       "      <td>19</td>\n",
       "      <td>25.0</td>\n",
       "      <td>179.0</td>\n",
       "      <td>71.1</td>\n",
       "      <td>0.0</td>\n",
       "      <td>0</td>\n",
       "    </tr>\n",
       "    <tr>\n",
       "      <th>2010</th>\n",
       "      <td>ZIM</td>\n",
       "      <td>2004</td>\n",
       "      <td>14</td>\n",
       "      <td>11</td>\n",
       "      <td>25.1</td>\n",
       "      <td>177.8</td>\n",
       "      <td>70.5</td>\n",
       "      <td>0.0</td>\n",
       "      <td>3</td>\n",
       "    </tr>\n",
       "    <tr>\n",
       "      <th>2011</th>\n",
       "      <td>ZIM</td>\n",
       "      <td>2008</td>\n",
       "      <td>16</td>\n",
       "      <td>15</td>\n",
       "      <td>26.1</td>\n",
       "      <td>171.9</td>\n",
       "      <td>63.7</td>\n",
       "      <td>3.0</td>\n",
       "      <td>4</td>\n",
       "    </tr>\n",
       "    <tr>\n",
       "      <th>2012</th>\n",
       "      <td>ZIM</td>\n",
       "      <td>2012</td>\n",
       "      <td>9</td>\n",
       "      <td>8</td>\n",
       "      <td>27.3</td>\n",
       "      <td>174.4</td>\n",
       "      <td>65.2</td>\n",
       "      <td>4.0</td>\n",
       "      <td>0</td>\n",
       "    </tr>\n",
       "    <tr>\n",
       "      <th>2013</th>\n",
       "      <td>ZIM</td>\n",
       "      <td>2016</td>\n",
       "      <td>31</td>\n",
       "      <td>13</td>\n",
       "      <td>27.5</td>\n",
       "      <td>167.8</td>\n",
       "      <td>62.2</td>\n",
       "      <td>0.0</td>\n",
       "      <td>0</td>\n",
       "    </tr>\n",
       "  </tbody>\n",
       "</table>\n",
       "<p>2014 rows × 9 columns</p>\n",
       "</div>"
      ],
      "text/plain": [
       "     team  year  athletes  events   age  height  weight  prev_medals  medals\n",
       "0     AFG  1964         8       8  22.0   161.0    64.2          0.0       0\n",
       "1     AFG  1968         5       5  23.2   170.2    70.0          0.0       0\n",
       "2     AFG  1972         8       8  29.0   168.3    63.8          0.0       0\n",
       "3     AFG  1980        11      11  23.6   168.4    63.2          0.0       0\n",
       "4     AFG  2004         5       5  18.6   170.8    64.8          0.0       0\n",
       "...   ...   ...       ...     ...   ...     ...     ...          ...     ...\n",
       "2009  ZIM  2000        26      19  25.0   179.0    71.1          0.0       0\n",
       "2010  ZIM  2004        14      11  25.1   177.8    70.5          0.0       3\n",
       "2011  ZIM  2008        16      15  26.1   171.9    63.7          3.0       4\n",
       "2012  ZIM  2012         9       8  27.3   174.4    65.2          4.0       0\n",
       "2013  ZIM  2016        31      13  27.5   167.8    62.2          0.0       0\n",
       "\n",
       "[2014 rows x 9 columns]"
      ]
     },
     "execution_count": 10,
     "metadata": {},
     "output_type": "execute_result"
    }
   ],
   "source": [
    "df"
   ]
  },
  {
   "cell_type": "code",
   "execution_count": 11,
   "id": "088a5721",
   "metadata": {},
   "outputs": [
    {
     "data": {
      "text/plain": [
       "33.62752788400896"
      ]
     },
     "execution_count": 11,
     "metadata": {},
     "output_type": "execute_result"
    }
   ],
   "source": [
    "y.std()"
   ]
  },
  {
   "cell_type": "code",
   "execution_count": 12,
   "id": "45bfb521",
   "metadata": {},
   "outputs": [
    {
     "data": {
      "text/plain": [
       "10.990069513406157"
      ]
     },
     "execution_count": 12,
     "metadata": {},
     "output_type": "execute_result"
    }
   ],
   "source": [
    "y.mean()"
   ]
  },
  {
   "cell_type": "code",
   "execution_count": 13,
   "id": "73558c46",
   "metadata": {},
   "outputs": [
    {
     "data": {
      "text/html": [
       "<div>\n",
       "<style scoped>\n",
       "    .dataframe tbody tr th:only-of-type {\n",
       "        vertical-align: middle;\n",
       "    }\n",
       "\n",
       "    .dataframe tbody tr th {\n",
       "        vertical-align: top;\n",
       "    }\n",
       "\n",
       "    .dataframe thead th {\n",
       "        text-align: right;\n",
       "    }\n",
       "</style>\n",
       "<table border=\"1\" class=\"dataframe\">\n",
       "  <thead>\n",
       "    <tr style=\"text-align: right;\">\n",
       "      <th></th>\n",
       "      <th>athletes</th>\n",
       "      <th>events</th>\n",
       "      <th>medals</th>\n",
       "    </tr>\n",
       "  </thead>\n",
       "  <tbody>\n",
       "    <tr>\n",
       "      <th>0</th>\n",
       "      <td>8</td>\n",
       "      <td>8</td>\n",
       "      <td>0</td>\n",
       "    </tr>\n",
       "    <tr>\n",
       "      <th>1</th>\n",
       "      <td>5</td>\n",
       "      <td>5</td>\n",
       "      <td>0</td>\n",
       "    </tr>\n",
       "    <tr>\n",
       "      <th>2</th>\n",
       "      <td>8</td>\n",
       "      <td>8</td>\n",
       "      <td>0</td>\n",
       "    </tr>\n",
       "    <tr>\n",
       "      <th>3</th>\n",
       "      <td>11</td>\n",
       "      <td>11</td>\n",
       "      <td>0</td>\n",
       "    </tr>\n",
       "    <tr>\n",
       "      <th>4</th>\n",
       "      <td>5</td>\n",
       "      <td>5</td>\n",
       "      <td>0</td>\n",
       "    </tr>\n",
       "    <tr>\n",
       "      <th>...</th>\n",
       "      <td>...</td>\n",
       "      <td>...</td>\n",
       "      <td>...</td>\n",
       "    </tr>\n",
       "    <tr>\n",
       "      <th>2009</th>\n",
       "      <td>26</td>\n",
       "      <td>19</td>\n",
       "      <td>0</td>\n",
       "    </tr>\n",
       "    <tr>\n",
       "      <th>2010</th>\n",
       "      <td>14</td>\n",
       "      <td>11</td>\n",
       "      <td>3</td>\n",
       "    </tr>\n",
       "    <tr>\n",
       "      <th>2011</th>\n",
       "      <td>16</td>\n",
       "      <td>15</td>\n",
       "      <td>4</td>\n",
       "    </tr>\n",
       "    <tr>\n",
       "      <th>2012</th>\n",
       "      <td>9</td>\n",
       "      <td>8</td>\n",
       "      <td>0</td>\n",
       "    </tr>\n",
       "    <tr>\n",
       "      <th>2013</th>\n",
       "      <td>31</td>\n",
       "      <td>13</td>\n",
       "      <td>0</td>\n",
       "    </tr>\n",
       "  </tbody>\n",
       "</table>\n",
       "<p>2014 rows × 3 columns</p>\n",
       "</div>"
      ],
      "text/plain": [
       "      athletes  events  medals\n",
       "0            8       8       0\n",
       "1            5       5       0\n",
       "2            8       8       0\n",
       "3           11      11       0\n",
       "4            5       5       0\n",
       "...        ...     ...     ...\n",
       "2009        26      19       0\n",
       "2010        14      11       3\n",
       "2011        16      15       4\n",
       "2012         9       8       0\n",
       "2013        31      13       0\n",
       "\n",
       "[2014 rows x 3 columns]"
      ]
     },
     "execution_count": 13,
     "metadata": {},
     "output_type": "execute_result"
    }
   ],
   "source": [
    "X = pd.DataFrame([x1, x2, y])\n",
    "X = X.transpose()\n",
    "X"
   ]
  },
  {
   "cell_type": "code",
   "execution_count": 14,
   "id": "9dcb4937",
   "metadata": {},
   "outputs": [
    {
     "data": {
      "text/html": [
       "<div>\n",
       "<style scoped>\n",
       "    .dataframe tbody tr th:only-of-type {\n",
       "        vertical-align: middle;\n",
       "    }\n",
       "\n",
       "    .dataframe tbody tr th {\n",
       "        vertical-align: top;\n",
       "    }\n",
       "\n",
       "    .dataframe thead th {\n",
       "        text-align: right;\n",
       "    }\n",
       "</style>\n",
       "<table border=\"1\" class=\"dataframe\">\n",
       "  <thead>\n",
       "    <tr style=\"text-align: right;\">\n",
       "      <th></th>\n",
       "      <th>athletes</th>\n",
       "      <th>events</th>\n",
       "      <th>medals</th>\n",
       "    </tr>\n",
       "  </thead>\n",
       "  <tbody>\n",
       "    <tr>\n",
       "      <th>count</th>\n",
       "      <td>2014.000000</td>\n",
       "      <td>2014.000000</td>\n",
       "      <td>2014.000000</td>\n",
       "    </tr>\n",
       "    <tr>\n",
       "      <th>mean</th>\n",
       "      <td>76.329692</td>\n",
       "      <td>36.877855</td>\n",
       "      <td>10.990070</td>\n",
       "    </tr>\n",
       "    <tr>\n",
       "      <th>std</th>\n",
       "      <td>129.799427</td>\n",
       "      <td>50.130877</td>\n",
       "      <td>33.627528</td>\n",
       "    </tr>\n",
       "    <tr>\n",
       "      <th>min</th>\n",
       "      <td>1.000000</td>\n",
       "      <td>1.000000</td>\n",
       "      <td>0.000000</td>\n",
       "    </tr>\n",
       "    <tr>\n",
       "      <th>25%</th>\n",
       "      <td>7.000000</td>\n",
       "      <td>6.000000</td>\n",
       "      <td>0.000000</td>\n",
       "    </tr>\n",
       "    <tr>\n",
       "      <th>50%</th>\n",
       "      <td>21.000000</td>\n",
       "      <td>14.000000</td>\n",
       "      <td>0.000000</td>\n",
       "    </tr>\n",
       "    <tr>\n",
       "      <th>75%</th>\n",
       "      <td>74.750000</td>\n",
       "      <td>47.000000</td>\n",
       "      <td>5.000000</td>\n",
       "    </tr>\n",
       "    <tr>\n",
       "      <th>max</th>\n",
       "      <td>839.000000</td>\n",
       "      <td>270.000000</td>\n",
       "      <td>442.000000</td>\n",
       "    </tr>\n",
       "  </tbody>\n",
       "</table>\n",
       "</div>"
      ],
      "text/plain": [
       "          athletes       events       medals\n",
       "count  2014.000000  2014.000000  2014.000000\n",
       "mean     76.329692    36.877855    10.990070\n",
       "std     129.799427    50.130877    33.627528\n",
       "min       1.000000     1.000000     0.000000\n",
       "25%       7.000000     6.000000     0.000000\n",
       "50%      21.000000    14.000000     0.000000\n",
       "75%      74.750000    47.000000     5.000000\n",
       "max     839.000000   270.000000   442.000000"
      ]
     },
     "execution_count": 14,
     "metadata": {},
     "output_type": "execute_result"
    }
   ],
   "source": [
    "X.describe()"
   ]
  },
  {
   "cell_type": "code",
   "execution_count": 15,
   "id": "1d703c01",
   "metadata": {},
   "outputs": [
    {
     "data": {
      "text/html": [
       "<div>\n",
       "<style scoped>\n",
       "    .dataframe tbody tr th:only-of-type {\n",
       "        vertical-align: middle;\n",
       "    }\n",
       "\n",
       "    .dataframe tbody tr th {\n",
       "        vertical-align: top;\n",
       "    }\n",
       "\n",
       "    .dataframe thead th {\n",
       "        text-align: right;\n",
       "    }\n",
       "</style>\n",
       "<table border=\"1\" class=\"dataframe\">\n",
       "  <thead>\n",
       "    <tr style=\"text-align: right;\">\n",
       "      <th></th>\n",
       "      <th>athletes</th>\n",
       "      <th>events</th>\n",
       "      <th>medals</th>\n",
       "    </tr>\n",
       "  </thead>\n",
       "  <tbody>\n",
       "    <tr>\n",
       "      <th>0</th>\n",
       "      <td>8</td>\n",
       "      <td>8</td>\n",
       "      <td>0</td>\n",
       "    </tr>\n",
       "    <tr>\n",
       "      <th>1</th>\n",
       "      <td>5</td>\n",
       "      <td>5</td>\n",
       "      <td>0</td>\n",
       "    </tr>\n",
       "    <tr>\n",
       "      <th>2</th>\n",
       "      <td>8</td>\n",
       "      <td>8</td>\n",
       "      <td>0</td>\n",
       "    </tr>\n",
       "    <tr>\n",
       "      <th>3</th>\n",
       "      <td>11</td>\n",
       "      <td>11</td>\n",
       "      <td>0</td>\n",
       "    </tr>\n",
       "    <tr>\n",
       "      <th>4</th>\n",
       "      <td>5</td>\n",
       "      <td>5</td>\n",
       "      <td>0</td>\n",
       "    </tr>\n",
       "    <tr>\n",
       "      <th>...</th>\n",
       "      <td>...</td>\n",
       "      <td>...</td>\n",
       "      <td>...</td>\n",
       "    </tr>\n",
       "    <tr>\n",
       "      <th>2009</th>\n",
       "      <td>26</td>\n",
       "      <td>19</td>\n",
       "      <td>0</td>\n",
       "    </tr>\n",
       "    <tr>\n",
       "      <th>2010</th>\n",
       "      <td>14</td>\n",
       "      <td>11</td>\n",
       "      <td>3</td>\n",
       "    </tr>\n",
       "    <tr>\n",
       "      <th>2011</th>\n",
       "      <td>16</td>\n",
       "      <td>15</td>\n",
       "      <td>4</td>\n",
       "    </tr>\n",
       "    <tr>\n",
       "      <th>2012</th>\n",
       "      <td>9</td>\n",
       "      <td>8</td>\n",
       "      <td>0</td>\n",
       "    </tr>\n",
       "    <tr>\n",
       "      <th>2013</th>\n",
       "      <td>31</td>\n",
       "      <td>13</td>\n",
       "      <td>0</td>\n",
       "    </tr>\n",
       "  </tbody>\n",
       "</table>\n",
       "<p>2014 rows × 3 columns</p>\n",
       "</div>"
      ],
      "text/plain": [
       "      athletes  events  medals\n",
       "0            8       8       0\n",
       "1            5       5       0\n",
       "2            8       8       0\n",
       "3           11      11       0\n",
       "4            5       5       0\n",
       "...        ...     ...     ...\n",
       "2009        26      19       0\n",
       "2010        14      11       3\n",
       "2011        16      15       4\n",
       "2012         9       8       0\n",
       "2013        31      13       0\n",
       "\n",
       "[2014 rows x 3 columns]"
      ]
     },
     "execution_count": 15,
     "metadata": {},
     "output_type": "execute_result"
    }
   ],
   "source": [
    "X.astype('int32')"
   ]
  },
  {
   "cell_type": "code",
   "execution_count": 16,
   "id": "21aed8b3",
   "metadata": {
    "scrolled": true
   },
   "outputs": [],
   "source": [
    "import matplotlib.pyplot as plt"
   ]
  },
  {
   "cell_type": "code",
   "execution_count": 17,
   "id": "cc47efff",
   "metadata": {},
   "outputs": [],
   "source": [
    "#Κανονικοποίηση\n",
    "\n",
    "for column in X.columns:\n",
    "    X[column] = (X[column] - X[column].mean()) / X[column].std() "
   ]
  },
  {
   "cell_type": "code",
   "execution_count": 18,
   "id": "e55abb6e",
   "metadata": {
    "scrolled": true
   },
   "outputs": [
    {
     "data": {
      "text/html": [
       "<div>\n",
       "<style scoped>\n",
       "    .dataframe tbody tr th:only-of-type {\n",
       "        vertical-align: middle;\n",
       "    }\n",
       "\n",
       "    .dataframe tbody tr th {\n",
       "        vertical-align: top;\n",
       "    }\n",
       "\n",
       "    .dataframe thead th {\n",
       "        text-align: right;\n",
       "    }\n",
       "</style>\n",
       "<table border=\"1\" class=\"dataframe\">\n",
       "  <thead>\n",
       "    <tr style=\"text-align: right;\">\n",
       "      <th></th>\n",
       "      <th>athletes</th>\n",
       "      <th>events</th>\n",
       "      <th>medals</th>\n",
       "    </tr>\n",
       "  </thead>\n",
       "  <tbody>\n",
       "    <tr>\n",
       "      <th>count</th>\n",
       "      <td>2.014000e+03</td>\n",
       "      <td>2.014000e+03</td>\n",
       "      <td>2.014000e+03</td>\n",
       "    </tr>\n",
       "    <tr>\n",
       "      <th>mean</th>\n",
       "      <td>-7.056035e-18</td>\n",
       "      <td>4.233621e-17</td>\n",
       "      <td>-5.292026e-18</td>\n",
       "    </tr>\n",
       "    <tr>\n",
       "      <th>std</th>\n",
       "      <td>1.000000e+00</td>\n",
       "      <td>1.000000e+00</td>\n",
       "      <td>1.000000e+00</td>\n",
       "    </tr>\n",
       "    <tr>\n",
       "      <th>min</th>\n",
       "      <td>-5.803546e-01</td>\n",
       "      <td>-7.156838e-01</td>\n",
       "      <td>-3.268176e-01</td>\n",
       "    </tr>\n",
       "    <tr>\n",
       "      <th>25%</th>\n",
       "      <td>-5.341294e-01</td>\n",
       "      <td>-6.159448e-01</td>\n",
       "      <td>-3.268176e-01</td>\n",
       "    </tr>\n",
       "    <tr>\n",
       "      <th>50%</th>\n",
       "      <td>-4.262707e-01</td>\n",
       "      <td>-4.563626e-01</td>\n",
       "      <td>-3.268176e-01</td>\n",
       "    </tr>\n",
       "    <tr>\n",
       "      <th>75%</th>\n",
       "      <td>-1.217026e-02</td>\n",
       "      <td>2.019144e-01</td>\n",
       "      <td>-1.781299e-01</td>\n",
       "    </tr>\n",
       "    <tr>\n",
       "      <th>max</th>\n",
       "      <td>5.875760e+00</td>\n",
       "      <td>4.650271e+00</td>\n",
       "      <td>1.281718e+01</td>\n",
       "    </tr>\n",
       "  </tbody>\n",
       "</table>\n",
       "</div>"
      ],
      "text/plain": [
       "           athletes        events        medals\n",
       "count  2.014000e+03  2.014000e+03  2.014000e+03\n",
       "mean  -7.056035e-18  4.233621e-17 -5.292026e-18\n",
       "std    1.000000e+00  1.000000e+00  1.000000e+00\n",
       "min   -5.803546e-01 -7.156838e-01 -3.268176e-01\n",
       "25%   -5.341294e-01 -6.159448e-01 -3.268176e-01\n",
       "50%   -4.262707e-01 -4.563626e-01 -3.268176e-01\n",
       "75%   -1.217026e-02  2.019144e-01 -1.781299e-01\n",
       "max    5.875760e+00  4.650271e+00  1.281718e+01"
      ]
     },
     "execution_count": 18,
     "metadata": {},
     "output_type": "execute_result"
    }
   ],
   "source": [
    "X.describe()"
   ]
  },
  {
   "cell_type": "code",
   "execution_count": 19,
   "id": "5cc5b064",
   "metadata": {},
   "outputs": [
    {
     "data": {
      "text/plain": [
       "array([[-0.32681765],\n",
       "       [-0.32681765],\n",
       "       [-0.32681765],\n",
       "       ...,\n",
       "       [-0.20786748],\n",
       "       [-0.32681765],\n",
       "       [-0.32681765]])"
      ]
     },
     "execution_count": 19,
     "metadata": {},
     "output_type": "execute_result"
    }
   ],
   "source": [
    "x1 = X['athletes']\n",
    "x2 = X['events']\n",
    "y = X['medals']\n",
    "x1 = pd.DataFrame(x1)\n",
    "x2 = pd.DataFrame(x2)\n",
    "y = pd.DataFrame(y)\n",
    "x1n = x1.to_numpy()\n",
    "x1nT = x1n.transpose()\n",
    "x2n = x2.to_numpy()\n",
    "x2nT = x2n.transpose()\n",
    "yn = y.to_numpy()\n",
    "ynT = yn.transpose()\n",
    "yn"
   ]
  },
  {
   "cell_type": "code",
   "execution_count": 20,
   "id": "f6b9bb80",
   "metadata": {},
   "outputs": [
    {
     "data": {
      "text/plain": [
       "array([[-0.52642522],\n",
       "       [-0.5495378 ],\n",
       "       [-0.52642522],\n",
       "       ...,\n",
       "       [-0.46479167],\n",
       "       [-0.51872103],\n",
       "       [-0.34922875]])"
      ]
     },
     "execution_count": 20,
     "metadata": {},
     "output_type": "execute_result"
    }
   ],
   "source": [
    "x1n"
   ]
  },
  {
   "cell_type": "code",
   "execution_count": 21,
   "id": "82d65b57",
   "metadata": {},
   "outputs": [],
   "source": [
    "X.drop(['medals'], axis=1, inplace=True)"
   ]
  },
  {
   "cell_type": "code",
   "execution_count": 22,
   "id": "bcfbaf8c",
   "metadata": {},
   "outputs": [
    {
     "data": {
      "text/plain": [
       "array([[-0.52642522, -0.57604927],\n",
       "       [-0.5495378 , -0.63589263],\n",
       "       [-0.52642522, -0.57604927],\n",
       "       ...,\n",
       "       [-0.46479167, -0.43641477],\n",
       "       [-0.51872103, -0.57604927],\n",
       "       [-0.34922875, -0.47631034]])"
      ]
     },
     "execution_count": 22,
     "metadata": {},
     "output_type": "execute_result"
    }
   ],
   "source": [
    "Xn = X.to_numpy()\n",
    "XnT = Xn.transpose()\n",
    "Xn"
   ]
  },
  {
   "cell_type": "code",
   "execution_count": 23,
   "id": "b2f766b3",
   "metadata": {},
   "outputs": [
    {
     "data": {
      "text/html": [
       "<div>\n",
       "<style scoped>\n",
       "    .dataframe tbody tr th:only-of-type {\n",
       "        vertical-align: middle;\n",
       "    }\n",
       "\n",
       "    .dataframe tbody tr th {\n",
       "        vertical-align: top;\n",
       "    }\n",
       "\n",
       "    .dataframe thead th {\n",
       "        text-align: right;\n",
       "    }\n",
       "</style>\n",
       "<table border=\"1\" class=\"dataframe\">\n",
       "  <thead>\n",
       "    <tr style=\"text-align: right;\">\n",
       "      <th></th>\n",
       "      <th>athletes</th>\n",
       "      <th>events</th>\n",
       "    </tr>\n",
       "  </thead>\n",
       "  <tbody>\n",
       "    <tr>\n",
       "      <th>athletes</th>\n",
       "      <td>1.000000</td>\n",
       "      <td>0.976563</td>\n",
       "    </tr>\n",
       "    <tr>\n",
       "      <th>events</th>\n",
       "      <td>0.976563</td>\n",
       "      <td>1.000000</td>\n",
       "    </tr>\n",
       "  </tbody>\n",
       "</table>\n",
       "</div>"
      ],
      "text/plain": [
       "          athletes    events\n",
       "athletes  1.000000  0.976563\n",
       "events    0.976563  1.000000"
      ]
     },
     "execution_count": 23,
     "metadata": {},
     "output_type": "execute_result"
    }
   ],
   "source": [
    "X.corr()"
   ]
  },
  {
   "cell_type": "code",
   "execution_count": 24,
   "id": "8ca3c9a3",
   "metadata": {},
   "outputs": [
    {
     "data": {
      "text/plain": [
       "0.9765633245334642"
      ]
     },
     "execution_count": 24,
     "metadata": {},
     "output_type": "execute_result"
    }
   ],
   "source": [
    "X.corr()['events'].iloc[0]"
   ]
  },
  {
   "cell_type": "code",
   "execution_count": 25,
   "id": "b79d0fd8",
   "metadata": {},
   "outputs": [
    {
     "data": {
      "image/png": "[encoded data removed]",
      "text/plain": [
       "<Figure size 640x480 with 2 Axes>"
      ]
     },
     "metadata": {},
     "output_type": "display_data"
    }
   ],
   "source": [
    "import seaborn as sns\n",
    "corr = sns.heatmap(X.corr(), cmap=\"YlGnBu\", annot=True)"
   ]
  },
  {
   "cell_type": "code",
   "execution_count": 26,
   "id": "92734011",
   "metadata": {},
   "outputs": [
    {
     "data": {
      "image/png": "[encoded data removed]",
      "text/plain": [
       "<Figure size 640x480 with 1 Axes>"
      ]
     },
     "metadata": {},
     "output_type": "display_data"
    }
   ],
   "source": [
    "X.plot(kind='scatter', x='athletes', y='events');"
   ]
  },
  {
   "cell_type": "code",
   "execution_count": 27,
   "id": "ff8a99ed",
   "metadata": {},
   "outputs": [
    {
     "data": {
      "text/plain": [
       "array([[ 1.88506854],\n",
       "       [-1.07024266]])"
      ]
     },
     "execution_count": 27,
     "metadata": {},
     "output_type": "execute_result"
    }
   ],
   "source": [
    "#ελαχιστοποιώ το w0 με τη χρήση ελαχίστων τετραγώνων, επομένως θα έχω μόνο w1, w2\n",
    "\n",
    "w1 = np.matmul(np.linalg.inv(np.matmul(XnT, Xn)),np.matmul(XnT,yn))\n",
    "w1nT = w1.transpose()\n",
    "#w1 και w2\n",
    "w1"
   ]
  },
  {
   "cell_type": "code",
   "execution_count": 28,
   "id": "88945f0a",
   "metadata": {},
   "outputs": [
    {
     "data": {
      "text/plain": [
       "[array([[ 1.85429543],\n",
       "        [-1.0396743 ]]),\n",
       " array([[ 1.62561648],\n",
       "        [-0.81283338]]),\n",
       " array([[ 0.87108806],\n",
       "        [-0.07623917]])]"
      ]
     },
     "execution_count": 28,
     "metadata": {},
     "output_type": "execute_result"
    }
   ],
   "source": [
    "#ελαχιστοποιώ το w0 με τη χρήση ελαχίστων τετραγώνων, επομένως θα έχω μόνο w1, w2\n",
    "\n",
    "xtx = np.matmul(XnT, Xn)\n",
    "xty = np.matmul(XnT, yn)\n",
    "yoda = np.identity(2, dtype='int32')\n",
    "el = [1, 10, 100]\n",
    "w2 = []\n",
    "for i in el:\n",
    "    w2.append(np.matmul(np.linalg.inv(xtx + i*yoda),np.matmul(XnT,yn)))\n",
    "w2"
   ]
  },
  {
   "cell_type": "code",
   "execution_count": 29,
   "id": "85a46ecb",
   "metadata": {},
   "outputs": [
    {
     "data": {
      "text/plain": [
       "array([[ 1.88506854, -1.07024266]])"
      ]
     },
     "execution_count": 29,
     "metadata": {},
     "output_type": "execute_result"
    }
   ],
   "source": [
    "#Επαλήθευση για Linear\n",
    "\n",
    "from sklearn import linear_model\n",
    "reg = linear_model.LinearRegression()\n",
    "reg.fit(X, y)\n",
    "reg.coef_"
   ]
  },
  {
   "cell_type": "code",
   "execution_count": 30,
   "id": "b64a711f",
   "metadata": {},
   "outputs": [
    {
     "data": {
      "text/html": [
       "<style>#sk-container-id-1 {color: black;background-color: white;}#sk-container-id-1 pre{padding: 0;}#sk-container-id-1 div.sk-toggleable {background-color: white;}#sk-container-id-1 label.sk-toggleable__label {cursor: pointer;display: block;width: 100%;margin-bottom: 0;padding: 0.3em;box-sizing: border-box;text-align: center;}#sk-container-id-1 label.sk-toggleable__label-arrow:before {content: \"▸\";float: left;margin-right: 0.25em;color: #696969;}#sk-container-id-1 label.sk-toggleable__label-arrow:hover:before {color: black;}#sk-container-id-1 div.sk-estimator:hover label.sk-toggleable__label-arrow:before {color: black;}#sk-container-id-1 div.sk-toggleable__content {max-height: 0;max-width: 0;overflow: hidden;text-align: left;background-color: #f0f8ff;}#sk-container-id-1 div.sk-toggleable__content pre {margin: 0.2em;color: black;border-radius: 0.25em;background-color: #f0f8ff;}#sk-container-id-1 input.sk-toggleable__control:checked~div.sk-toggleable__content {max-height: 200px;max-width: 100%;overflow: auto;}#sk-container-id-1 input.sk-toggleable__control:checked~label.sk-toggleable__label-arrow:before {content: \"▾\";}#sk-container-id-1 div.sk-estimator input.sk-toggleable__control:checked~label.sk-toggleable__label {background-color: #d4ebff;}#sk-container-id-1 div.sk-label input.sk-toggleable__control:checked~label.sk-toggleable__label {background-color: #d4ebff;}#sk-container-id-1 input.sk-hidden--visually {border: 0;clip: rect(1px 1px 1px 1px);clip: rect(1px, 1px, 1px, 1px);height: 1px;margin: -1px;overflow: hidden;padding: 0;position: absolute;width: 1px;}#sk-container-id-1 div.sk-estimator {font-family: monospace;background-color: #f0f8ff;border: 1px dotted black;border-radius: 0.25em;box-sizing: border-box;margin-bottom: 0.5em;}#sk-container-id-1 div.sk-estimator:hover {background-color: #d4ebff;}#sk-container-id-1 div.sk-parallel-item::after {content: \"\";width: 100%;border-bottom: 1px solid gray;flex-grow: 1;}#sk-container-id-1 div.sk-label:hover label.sk-toggleable__label {background-color: #d4ebff;}#sk-container-id-1 div.sk-serial::before {content: \"\";position: absolute;border-left: 1px solid gray;box-sizing: border-box;top: 0;bottom: 0;left: 50%;z-index: 0;}#sk-container-id-1 div.sk-serial {display: flex;flex-direction: column;align-items: center;background-color: white;padding-right: 0.2em;padding-left: 0.2em;position: relative;}#sk-container-id-1 div.sk-item {position: relative;z-index: 1;}#sk-container-id-1 div.sk-parallel {display: flex;align-items: stretch;justify-content: center;background-color: white;position: relative;}#sk-container-id-1 div.sk-item::before, #sk-container-id-1 div.sk-parallel-item::before {content: \"\";position: absolute;border-left: 1px solid gray;box-sizing: border-box;top: 0;bottom: 0;left: 50%;z-index: -1;}#sk-container-id-1 div.sk-parallel-item {display: flex;flex-direction: column;z-index: 1;position: relative;background-color: white;}#sk-container-id-1 div.sk-parallel-item:first-child::after {align-self: flex-end;width: 50%;}#sk-container-id-1 div.sk-parallel-item:last-child::after {align-self: flex-start;width: 50%;}#sk-container-id-1 div.sk-parallel-item:only-child::after {width: 0;}#sk-container-id-1 div.sk-dashed-wrapped {border: 1px dashed gray;margin: 0 0.4em 0.5em 0.4em;box-sizing: border-box;padding-bottom: 0.4em;background-color: white;}#sk-container-id-1 div.sk-label label {font-family: monospace;font-weight: bold;display: inline-block;line-height: 1.2em;}#sk-container-id-1 div.sk-label-container {text-align: center;}#sk-container-id-1 div.sk-container {/* jupyter's `normalize.less` sets `[hidden] { display: none; }` but bootstrap.min.css set `[hidden] { display: none !important; }` so we also need the `!important` here to be able to override the default hidden behavior on the sphinx rendered scikit-learn.org. See: https://github.com/scikit-learn/scikit-learn/issues/21755 */display: inline-block !important;position: relative;}#sk-container-id-1 div.sk-text-repr-fallback {display: none;}</style><div id=\"sk-container-id-1\" class=\"sk-top-container\"><div class=\"sk-text-repr-fallback\"><pre>Ridge(alpha=100.0)</pre><b>In a Jupyter environment, please rerun this cell to show the HTML representation or trust the notebook. <br />On GitHub, the HTML representation is unable to render, please try loading this page with nbviewer.org.</b></div><div class=\"sk-container\" hidden><div class=\"sk-item\"><div class=\"sk-estimator sk-toggleable\"><input class=\"sk-toggleable__control sk-hidden--visually\" id=\"sk-estimator-id-1\" type=\"checkbox\" checked><label for=\"sk-estimator-id-1\" class=\"sk-toggleable__label sk-toggleable__label-arrow\">Ridge</label><div class=\"sk-toggleable__content\"><pre>Ridge(alpha=100.0)</pre></div></div></div></div></div>"
      ],
      "text/plain": [
       "Ridge(alpha=100.0)"
      ]
     },
     "execution_count": 30,
     "metadata": {},
     "output_type": "execute_result"
    }
   ],
   "source": [
    "#Επαλήθευση για Ridge\n",
    "\n",
    "from sklearn.linear_model import Ridge\n",
    "clf = Ridge(alpha=1.0)\n",
    "clf1 = Ridge(alpha=10.0)\n",
    "clf2 = Ridge(alpha=100.0)\n",
    "clf.fit(X, y)\n",
    "clf1.fit(X, y)\n",
    "clf2.fit(X, y)"
   ]
  },
  {
   "cell_type": "code",
   "execution_count": 31,
   "id": "861c9941",
   "metadata": {},
   "outputs": [
    {
     "data": {
      "text/plain": [
       "array([[ 1.85429543, -1.0396743 ]])"
      ]
     },
     "execution_count": 31,
     "metadata": {},
     "output_type": "execute_result"
    }
   ],
   "source": [
    "clf.coef_"
   ]
  },
  {
   "cell_type": "code",
   "execution_count": 32,
   "id": "acbad480",
   "metadata": {},
   "outputs": [
    {
     "data": {
      "text/plain": [
       "array([[ 1.62561648, -0.81283338]])"
      ]
     },
     "execution_count": 32,
     "metadata": {},
     "output_type": "execute_result"
    }
   ],
   "source": [
    "clf1.coef_"
   ]
  },
  {
   "cell_type": "code",
   "execution_count": 33,
   "id": "e06f60e2",
   "metadata": {},
   "outputs": [
    {
     "data": {
      "text/plain": [
       "array([[ 0.87108806, -0.07623917]])"
      ]
     },
     "execution_count": 33,
     "metadata": {},
     "output_type": "execute_result"
    }
   ],
   "source": [
    "clf2.coef_"
   ]
  },
  {
   "cell_type": "code",
   "execution_count": 34,
   "id": "6d00ec12",
   "metadata": {},
   "outputs": [
    {
     "data": {
      "text/plain": [
       "(2014, 2)"
      ]
     },
     "execution_count": 34,
     "metadata": {},
     "output_type": "execute_result"
    }
   ],
   "source": [
    "X.shape"
   ]
  },
  {
   "cell_type": "code",
   "execution_count": 35,
   "id": "e4eaf285",
   "metadata": {},
   "outputs": [],
   "source": [
    "predsLR = float(w1[0])*x1n + float(w1[1])*x2n"
   ]
  },
  {
   "cell_type": "code",
   "execution_count": 36,
   "id": "fbb46698",
   "metadata": {},
   "outputs": [
    {
     "data": {
      "text/plain": [
       "array([[-0.37583512],\n",
       "       [-0.35535701],\n",
       "       [-0.37583512],\n",
       "       ...,\n",
       "       [-0.40909444],\n",
       "       [-0.36131218],\n",
       "       [-0.14855249]])"
      ]
     },
     "execution_count": 36,
     "metadata": {},
     "output_type": "execute_result"
    }
   ],
   "source": [
    "predsLR"
   ]
  },
  {
   "cell_type": "code",
   "execution_count": 37,
   "id": "7baf7052",
   "metadata": {},
   "outputs": [
    {
     "data": {
      "text/plain": [
       "[array([[-0.37724426],\n",
       "        [-0.35788422],\n",
       "        [-0.37724426],\n",
       "        ...,\n",
       "        [-0.40813185],\n",
       "        [-0.36295841],\n",
       "        [-0.15236566]]),\n",
       " array([[-0.38753344],\n",
       "        [-0.37646296],\n",
       "        [-0.38753344],\n",
       "        ...,\n",
       "        [-0.4008405 ],\n",
       "        [-0.37500938],\n",
       "        [-0.18055107]]),\n",
       " array([[-0.4146452 ],\n",
       "        [-0.43021589],\n",
       "        [-0.4146452 ],\n",
       "        ...,\n",
       "        [-0.37160257],\n",
       "        [-0.40793417],\n",
       "        [-0.26789549]])]"
      ]
     },
     "execution_count": 37,
     "metadata": {},
     "output_type": "execute_result"
    }
   ],
   "source": [
    "predsRR = []\n",
    "for i in range(0, 3):\n",
    "        predsRR.append(float(w2[i][0])*x1n + float(w2[i][1])*x2n)\n",
    "predsRR"
   ]
  },
  {
   "cell_type": "code",
   "execution_count": 38,
   "id": "1299ff52",
   "metadata": {},
   "outputs": [
    {
     "data": {
      "text/plain": [
       "array([[ 1.48983015e-01],\n",
       "       [-2.97080105e-01],\n",
       "       [ 1.48983015e-01],\n",
       "       [-3.26817646e-01],\n",
       "       [-3.26817646e-01],\n",
       "       [-3.26817646e-01],\n",
       "       [-3.26817646e-01],\n",
       "       [-3.26817646e-01],\n",
       "       [-3.26817646e-01],\n",
       "       [-3.26817646e-01],\n",
       "       [-3.26817646e-01],\n",
       "       [-3.26817646e-01],\n",
       "       [-3.26817646e-01],\n",
       "       [-3.26817646e-01],\n",
       "       [-3.26817646e-01],\n",
       "       [-3.26817646e-01],\n",
       "       [-3.26817646e-01],\n",
       "       [-3.26817646e-01],\n",
       "       [-3.26817646e-01],\n",
       "       [-2.97080105e-01],\n",
       "       [-3.26817646e-01],\n",
       "       [-3.26817646e-01],\n",
       "       [-3.26817646e-01],\n",
       "       [-3.26817646e-01],\n",
       "       [-3.26817646e-01],\n",
       "       [-3.26817646e-01],\n",
       "       [-3.26817646e-01],\n",
       "       [-3.26817646e-01],\n",
       "       [ 1.78720556e-01],\n",
       "       [-3.26817646e-01],\n",
       "       [-3.26817646e-01],\n",
       "       [-3.26817646e-01],\n",
       "       [-3.26817646e-01],\n",
       "       [-3.26817646e-01],\n",
       "       [-3.26817646e-01],\n",
       "       [-3.26817646e-01],\n",
       "       [-3.26817646e-01],\n",
       "       [-2.97080105e-01],\n",
       "       [ 3.00328496e-02],\n",
       "       [-2.97080105e-01],\n",
       "       [-3.26817646e-01],\n",
       "       [-3.26817646e-01],\n",
       "       [-3.26817646e-01],\n",
       "       [-3.26817646e-01],\n",
       "       [-3.26817646e-01],\n",
       "       [-3.26817646e-01],\n",
       "       [-2.97080105e-01],\n",
       "       [-3.26817646e-01],\n",
       "       [-3.26817646e-01],\n",
       "       [-3.26817646e-01],\n",
       "       [-3.26817646e-01],\n",
       "       [-2.97080105e-01],\n",
       "       [-2.97080105e-01],\n",
       "       [-2.97080105e-01],\n",
       "       [-3.26817646e-01],\n",
       "       [-3.26817646e-01],\n",
       "       [-3.26817646e-01],\n",
       "       [-3.26817646e-01],\n",
       "       [-2.97080105e-01],\n",
       "       [-3.26817646e-01],\n",
       "       [-3.26817646e-01],\n",
       "       [-3.26817646e-01],\n",
       "       [-3.26817646e-01],\n",
       "       [-3.26817646e-01],\n",
       "       [-3.26817646e-01],\n",
       "       [-3.26817646e-01],\n",
       "       [-3.26817646e-01],\n",
       "       [-3.26817646e-01],\n",
       "       [-3.26817646e-01],\n",
       "       [-3.26817646e-01],\n",
       "       [-3.26817646e-01],\n",
       "       [-3.26817646e-01],\n",
       "       [-3.26817646e-01],\n",
       "       [-3.26817646e-01],\n",
       "       [-3.26817646e-01],\n",
       "       [-3.26817646e-01],\n",
       "       [-3.26817646e-01],\n",
       "       [ 1.04110925e+00],\n",
       "       [ 7.73471383e-01],\n",
       "       [ 1.04110925e+00],\n",
       "       [ 1.84402287e+00],\n",
       "       [ 1.16005942e+00],\n",
       "       [ 2.97670721e-01],\n",
       "       [ 1.04110925e+00],\n",
       "       [ 3.27408263e-01],\n",
       "       [ 3.86883345e-01],\n",
       "       [ 3.00328496e-02],\n",
       "       [ 2.67933180e-01],\n",
       "       [ 3.00328496e-02],\n",
       "       [ 1.48983015e-01],\n",
       "       [-3.26817646e-01],\n",
       "       [-3.26817646e-01],\n",
       "       [-3.26817646e-01],\n",
       "       [-2.67342564e-01],\n",
       "       [-3.26817646e-01],\n",
       "       [-2.37605022e-01],\n",
       "       [-2.97080105e-01],\n",
       "       [-3.26817646e-01],\n",
       "       [-2.37605022e-01],\n",
       "       [-2.67342564e-01],\n",
       "       [-2.37605022e-01],\n",
       "       [-2.67342564e-01],\n",
       "       [-2.67342564e-01],\n",
       "       [-2.97080105e-01],\n",
       "       [-2.67342564e-01],\n",
       "       [-1.78129940e-01],\n",
       "       [-2.94422331e-02],\n",
       "       [-1.78129940e-01],\n",
       "       [-2.07867481e-01],\n",
       "       [-1.78129940e-01],\n",
       "       [-1.48392398e-01],\n",
       "       [-1.48392398e-01],\n",
       "       [-1.18654857e-01],\n",
       "       [-3.26817646e-01],\n",
       "       [-3.26817646e-01],\n",
       "       [-3.26817646e-01],\n",
       "       [-2.97080105e-01],\n",
       "       [-3.26817646e-01],\n",
       "       [-2.67342564e-01],\n",
       "       [-3.26817646e-01],\n",
       "       [-2.97080105e-01],\n",
       "       [-2.97080105e-01],\n",
       "       [-3.26817646e-01],\n",
       "       [-3.26817646e-01],\n",
       "       [-3.26817646e-01],\n",
       "       [-2.67342564e-01],\n",
       "       [-2.97080105e-01],\n",
       "       [-3.26817646e-01],\n",
       "       [-2.97080105e-01],\n",
       "       [-3.26817646e-01],\n",
       "       [-2.97080105e-01],\n",
       "       [-3.26817646e-01],\n",
       "       [-3.26817646e-01],\n",
       "       [-2.67342564e-01],\n",
       "       [-2.97080105e-01],\n",
       "       [ 1.48983015e-01],\n",
       "       [ 3.57145804e-01],\n",
       "       [ 8.62684007e-01],\n",
       "       [ 1.30874713e+00],\n",
       "       [ 1.69533516e+00],\n",
       "       [ 2.82536173e+00],\n",
       "       [ 1.39795975e+00],\n",
       "       [ 1.24927204e+00],\n",
       "       [ 8.03208924e-01],\n",
       "       [ 1.04110925e+00],\n",
       "       [ 8.32946465e-01],\n",
       "       [ 3.27408263e-01],\n",
       "       [ 1.48983015e-01],\n",
       "       [ 1.48983015e-01],\n",
       "       [-2.37605022e-01],\n",
       "       [-1.78129940e-01],\n",
       "       [-1.78129940e-01],\n",
       "       [-2.94422331e-02],\n",
       "       [-2.97080105e-01],\n",
       "       [-5.91797744e-02],\n",
       "       [ 3.57145804e-01],\n",
       "       [ 3.09299961e+00],\n",
       "       [ 5.23410258e+00],\n",
       "       [ 5.29357766e+00],\n",
       "       [ 3.89591322e+00],\n",
       "       [ 3.83643814e+00],\n",
       "       [ 3.09299961e+00],\n",
       "       [-3.26817646e-01],\n",
       "       [-3.26817646e-01],\n",
       "       [-3.26817646e-01],\n",
       "       [-3.26817646e-01],\n",
       "       [-3.26817646e-01],\n",
       "       [-3.26817646e-01],\n",
       "       [-3.26817646e-01],\n",
       "       [-3.26817646e-01],\n",
       "       [-3.26817646e-01],\n",
       "       [-3.26817646e-01],\n",
       "       [-3.26817646e-01],\n",
       "       [-3.26817646e-01],\n",
       "       [-3.26817646e-01],\n",
       "       [-3.26817646e-01],\n",
       "       [-3.26817646e-01],\n",
       "       [ 4.16620887e-01],\n",
       "       [ 5.97703909e-02],\n",
       "       [-3.26817646e-01],\n",
       "       [-3.26817646e-01],\n",
       "       [-3.26817646e-01],\n",
       "       [-3.26817646e-01],\n",
       "       [-3.26817646e-01],\n",
       "       [-2.97080105e-01],\n",
       "       [-3.26817646e-01],\n",
       "       [-3.26817646e-01],\n",
       "       [-3.26817646e-01],\n",
       "       [-3.26817646e-01],\n",
       "       [-3.26817646e-01],\n",
       "       [-3.26817646e-01],\n",
       "       [-3.26817646e-01],\n",
       "       [-3.26817646e-01],\n",
       "       [-3.26817646e-01],\n",
       "       [-3.26817646e-01],\n",
       "       [-3.26817646e-01],\n",
       "       [-3.26817646e-01],\n",
       "       [-3.26817646e-01],\n",
       "       [-3.26817646e-01],\n",
       "       [-3.26817646e-01],\n",
       "       [-3.26817646e-01],\n",
       "       [-3.26817646e-01],\n",
       "       [-3.26817646e-01],\n",
       "       [-3.26817646e-01],\n",
       "       [-3.26817646e-01],\n",
       "       [-3.26817646e-01],\n",
       "       [-3.26817646e-01],\n",
       "       [-3.26817646e-01],\n",
       "       [-3.26817646e-01],\n",
       "       [-2.37605022e-01],\n",
       "       [-2.07867481e-01],\n",
       "       [-2.97080105e-01],\n",
       "       [-3.26817646e-01],\n",
       "       [-3.26817646e-01],\n",
       "       [-3.26817646e-01],\n",
       "       [-3.26817646e-01],\n",
       "       [-3.26817646e-01],\n",
       "       [-3.26817646e-01],\n",
       "       [-3.26817646e-01],\n",
       "       [-3.26817646e-01],\n",
       "       [-3.26817646e-01],\n",
       "       [-3.26817646e-01],\n",
       "       [-3.26817646e-01],\n",
       "       [-3.26817646e-01],\n",
       "       [-3.26817646e-01],\n",
       "       [-3.26817646e-01],\n",
       "       [-2.67342564e-01],\n",
       "       [-2.37605022e-01],\n",
       "       [-1.78129940e-01],\n",
       "       [-1.78129940e-01],\n",
       "       [-1.78129940e-01],\n",
       "       [-2.07867481e-01],\n",
       "       [-3.26817646e-01],\n",
       "       [-3.26817646e-01],\n",
       "       [-3.26817646e-01],\n",
       "       [-3.26817646e-01],\n",
       "       [-3.26817646e-01],\n",
       "       [-3.26817646e-01],\n",
       "       [-3.26817646e-01],\n",
       "       [-3.26817646e-01],\n",
       "       [-3.26817646e-01],\n",
       "       [-3.26817646e-01],\n",
       "       [-3.26817646e-01],\n",
       "       [-3.26817646e-01],\n",
       "       [-3.26817646e-01],\n",
       "       [-3.26817646e-01],\n",
       "       [-3.26817646e-01],\n",
       "       [-3.26817646e-01],\n",
       "       [-3.26817646e-01],\n",
       "       [-3.26817646e-01],\n",
       "       [-3.26817646e-01],\n",
       "       [-3.26817646e-01],\n",
       "       [-3.26817646e-01],\n",
       "       [-3.26817646e-01],\n",
       "       [-3.26817646e-01],\n",
       "       [-3.26817646e-01],\n",
       "       [-3.26817646e-01],\n",
       "       [ 1.19245474e-01],\n",
       "       [ 1.48983015e-01],\n",
       "       [ 1.27900959e+00],\n",
       "       [-3.26817646e-01],\n",
       "       [-3.26817646e-01],\n",
       "       [-3.26817646e-01],\n",
       "       [-3.26817646e-01],\n",
       "       [-3.26817646e-01],\n",
       "       [-3.26817646e-01],\n",
       "       [-3.26817646e-01],\n",
       "       [-3.26817646e-01],\n",
       "       [-2.97080105e-01],\n",
       "       [-3.26817646e-01],\n",
       "       [-3.26817646e-01],\n",
       "       [-3.26817646e-01],\n",
       "       [-3.26817646e-01],\n",
       "       [-3.26817646e-01],\n",
       "       [-3.26817646e-01],\n",
       "       [-3.26817646e-01],\n",
       "       [-3.26817646e-01],\n",
       "       [-3.26817646e-01],\n",
       "       [-3.26817646e-01],\n",
       "       [-3.26817646e-01],\n",
       "       [-3.26817646e-01],\n",
       "       [-3.26817646e-01],\n",
       "       [-3.26817646e-01],\n",
       "       [-3.26817646e-01],\n",
       "       [-3.26817646e-01],\n",
       "       [-3.26817646e-01],\n",
       "       [-2.97080105e-01],\n",
       "       [-3.26817646e-01],\n",
       "       [-3.26817646e-01],\n",
       "       [-1.48392398e-01],\n",
       "       [ 5.97703909e-02],\n",
       "       [-8.89173157e-02],\n",
       "       [-2.94422331e-02],\n",
       "       [-2.67342564e-01],\n",
       "       [ 5.97703909e-02],\n",
       "       [-8.89173157e-02],\n",
       "       [-2.97080105e-01],\n",
       "       [ 2.95308255e-04],\n",
       "       [ 8.95079322e-02],\n",
       "       [-1.18654857e-01],\n",
       "       [ 2.95308255e-04],\n",
       "       [-2.07867481e-01],\n",
       "       [ 2.95308255e-04],\n",
       "       [-3.26817646e-01],\n",
       "       [-3.26817646e-01],\n",
       "       [-3.26817646e-01],\n",
       "       [-2.97080105e-01],\n",
       "       [-2.97080105e-01],\n",
       "       [-3.26817646e-01],\n",
       "       [-3.26817646e-01],\n",
       "       [-3.26817646e-01],\n",
       "       [-3.26817646e-01],\n",
       "       [-3.26817646e-01],\n",
       "       [-3.26817646e-01],\n",
       "       [-1.48392398e-01],\n",
       "       [-2.94422331e-02],\n",
       "       [-2.94422331e-02],\n",
       "       [-1.78129940e-01],\n",
       "       [-8.89173157e-02],\n",
       "       [ 1.19245474e-01],\n",
       "       [-5.91797744e-02],\n",
       "       [ 3.27408263e-01],\n",
       "       [-2.94422331e-02],\n",
       "       [ 2.67933180e-01],\n",
       "       [ 6.84258759e-01],\n",
       "       [ 1.48983015e-01],\n",
       "       [ 7.13996300e-01],\n",
       "       [ 5.95046135e-01],\n",
       "       [ 6.24783676e-01],\n",
       "       [ 3.00328496e-02],\n",
       "       [-1.18654857e-01],\n",
       "       [ 3.27408263e-01],\n",
       "       [ 5.05833511e-01],\n",
       "       [-3.26817646e-01],\n",
       "       [-3.26817646e-01],\n",
       "       [-3.26817646e-01],\n",
       "       [-3.26817646e-01],\n",
       "       [-3.26817646e-01],\n",
       "       [-3.26817646e-01],\n",
       "       [-3.26817646e-01],\n",
       "       [-3.26817646e-01],\n",
       "       [-3.26817646e-01],\n",
       "       [-3.26817646e-01],\n",
       "       [-2.97080105e-01],\n",
       "       [-3.26817646e-01],\n",
       "       [-3.26817646e-01],\n",
       "       [-2.97080105e-01],\n",
       "       [-3.26817646e-01],\n",
       "       [-2.97080105e-01],\n",
       "       [-3.26817646e-01],\n",
       "       [-3.26817646e-01],\n",
       "       [-3.26817646e-01],\n",
       "       [-3.26817646e-01],\n",
       "       [-3.26817646e-01],\n",
       "       [-2.67342564e-01],\n",
       "       [-3.26817646e-01],\n",
       "       [-3.26817646e-01],\n",
       "       [-3.26817646e-01],\n",
       "       [-3.26817646e-01],\n",
       "       [-3.26817646e-01],\n",
       "       [-3.26817646e-01],\n",
       "       [-3.26817646e-01],\n",
       "       [-3.26817646e-01],\n",
       "       [-3.26817646e-01],\n",
       "       [ 1.27900959e+00],\n",
       "       [ 5.35571052e-01],\n",
       "       [ 5.35571052e-01],\n",
       "       [ 1.19245474e-01],\n",
       "       [ 1.18979696e+00],\n",
       "       [-2.94422331e-02],\n",
       "       [-8.89173157e-02],\n",
       "       [-3.26817646e-01],\n",
       "       [-2.97080105e-01],\n",
       "       [-3.26817646e-01],\n",
       "       [-3.26817646e-01],\n",
       "       [-3.26817646e-01],\n",
       "       [-3.26817646e-01],\n",
       "       [-3.26817646e-01],\n",
       "       [-3.26817646e-01],\n",
       "       [-3.26817646e-01],\n",
       "       [-3.26817646e-01],\n",
       "       [-2.97080105e-01],\n",
       "       [-2.97080105e-01],\n",
       "       [-2.97080105e-01],\n",
       "       [-2.97080105e-01],\n",
       "       [-2.67342564e-01],\n",
       "       [-2.37605022e-01],\n",
       "       [-8.89173157e-02],\n",
       "       [-2.07867481e-01],\n",
       "       [-2.37605022e-01],\n",
       "       [-1.48392398e-01],\n",
       "       [-3.26817646e-01],\n",
       "       [-3.26817646e-01],\n",
       "       [-2.67342564e-01],\n",
       "       [-2.97080105e-01],\n",
       "       [-2.97080105e-01],\n",
       "       [-3.26817646e-01],\n",
       "       [-3.26817646e-01],\n",
       "       [-3.26817646e-01],\n",
       "       [-3.26817646e-01],\n",
       "       [-3.26817646e-01],\n",
       "       [-3.26817646e-01],\n",
       "       [-3.26817646e-01],\n",
       "       [-3.26817646e-01],\n",
       "       [-3.26817646e-01],\n",
       "       [-3.26817646e-01],\n",
       "       [-3.26817646e-01],\n",
       "       [-3.26817646e-01],\n",
       "       [-3.26817646e-01],\n",
       "       [-3.26817646e-01],\n",
       "       [-2.97080105e-01],\n",
       "       [-3.26817646e-01],\n",
       "       [-3.26817646e-01],\n",
       "       [-3.26817646e-01],\n",
       "       [-2.97080105e-01],\n",
       "       [-3.26817646e-01],\n",
       "       [-2.97080105e-01],\n",
       "       [-3.26817646e-01],\n",
       "       [ 2.67933180e-01],\n",
       "       [-2.97080105e-01],\n",
       "       [-1.78129940e-01],\n",
       "       [-5.91797744e-02],\n",
       "       [-2.07867481e-01],\n",
       "       [-2.67342564e-01],\n",
       "       [-1.78129940e-01],\n",
       "       [-1.48392398e-01],\n",
       "       [-3.26817646e-01],\n",
       "       [-3.26817646e-01],\n",
       "       [-2.97080105e-01],\n",
       "       [-3.26817646e-01],\n",
       "       [-3.26817646e-01],\n",
       "       [-3.26817646e-01],\n",
       "       [-3.26817646e-01],\n",
       "       [-2.67342564e-01],\n",
       "       [-2.67342564e-01],\n",
       "       [-2.97080105e-01],\n",
       "       [-1.48392398e-01],\n",
       "       [-2.94422331e-02],\n",
       "       [-2.97080105e-01],\n",
       "       [-2.67342564e-01],\n",
       "       [-2.67342564e-01],\n",
       "       [-2.97080105e-01],\n",
       "       [-3.26817646e-01],\n",
       "       [-3.26817646e-01],\n",
       "       [-3.26817646e-01],\n",
       "       [-3.26817646e-01],\n",
       "       [-2.97080105e-01],\n",
       "       [-3.26817646e-01],\n",
       "       [-3.26817646e-01],\n",
       "       [-2.97080105e-01],\n",
       "       [-2.37605022e-01],\n",
       "       [-2.37605022e-01],\n",
       "       [-1.48392398e-01],\n",
       "       [-2.67342564e-01],\n",
       "       [-2.97080105e-01],\n",
       "       [-3.26817646e-01],\n",
       "       [-2.37605022e-01],\n",
       "       [-2.67342564e-01],\n",
       "       [-1.48392398e-01],\n",
       "       [-1.48392398e-01],\n",
       "       [-1.78129940e-01],\n",
       "       [ 2.95308255e-04],\n",
       "       [-1.18654857e-01],\n",
       "       [-1.78129940e-01],\n",
       "       [-8.89173157e-02],\n",
       "       [-3.26817646e-01],\n",
       "       [-3.26817646e-01],\n",
       "       [-3.26817646e-01],\n",
       "       [-3.26817646e-01],\n",
       "       [-3.26817646e-01],\n",
       "       [-2.97080105e-01],\n",
       "       [-3.26817646e-01],\n",
       "       [-3.26817646e-01],\n",
       "       [-2.97080105e-01],\n",
       "       [-3.26817646e-01],\n",
       "       [-2.67342564e-01],\n",
       "       [-2.67342564e-01],\n",
       "       [-2.97080105e-01],\n",
       "       [-3.26817646e-01],\n",
       "       [-3.26817646e-01],\n",
       "       [-3.26817646e-01],\n",
       "       [-2.97080105e-01],\n",
       "       [-3.26817646e-01],\n",
       "       [-3.26817646e-01],\n",
       "       [-3.26817646e-01],\n",
       "       [-2.97080105e-01],\n",
       "       [-3.26817646e-01],\n",
       "       [ 7.13996300e-01],\n",
       "       [ 1.07084680e+00],\n",
       "       [ 5.95046135e-01],\n",
       "       [ 4.46358428e-01],\n",
       "       [ 1.19245474e-01],\n",
       "       [ 4.84751454e+00],\n",
       "       [ 5.38279029e+00],\n",
       "       [ 6.03701620e+00],\n",
       "       [ 8.17811917e+00],\n",
       "       [ 1.28171756e+01],\n",
       "       [ 8.59444475e+00],\n",
       "       [-2.97080105e-01],\n",
       "       [-3.26817646e-01],\n",
       "       [-3.26817646e-01],\n",
       "       [-3.26817646e-01],\n",
       "       [-3.26817646e-01],\n",
       "       [-3.26817646e-01],\n",
       "       [-3.26817646e-01],\n",
       "       [-3.26817646e-01],\n",
       "       [-2.97080105e-01],\n",
       "       [-3.26817646e-01],\n",
       "       [-3.26817646e-01],\n",
       "       [-3.26817646e-01],\n",
       "       [-3.26817646e-01],\n",
       "       [ 4.69882684e+00],\n",
       "       [ 4.60961421e+00],\n",
       "       [ 4.75830192e+00],\n",
       "       [ 4.55013913e+00],\n",
       "       [ 1.01407969e+01],\n",
       "       [ 5.82885341e+00],\n",
       "       [ 6.33439161e+00],\n",
       "       [ 7.37520556e+00],\n",
       "       [ 6.86966735e+00],\n",
       "       [ 7.49415572e+00],\n",
       "       [ 9.09998295e+00],\n",
       "       [ 7.04809260e+00],\n",
       "       [ 7.52389326e+00],\n",
       "       [-2.07867481e-01],\n",
       "       [-1.78129940e-01],\n",
       "       [-1.48392398e-01],\n",
       "       [-2.37605022e-01],\n",
       "       [ 5.97703909e-02],\n",
       "       [-3.26817646e-01],\n",
       "       [-3.26817646e-01],\n",
       "       [-3.26817646e-01],\n",
       "       [-3.26817646e-01],\n",
       "       [-3.26817646e-01],\n",
       "       [-3.26817646e-01],\n",
       "       [-3.26817646e-01],\n",
       "       [-3.26817646e-01],\n",
       "       [-2.97080105e-01],\n",
       "       [-3.26817646e-01],\n",
       "       [-2.97080105e-01],\n",
       "       [-2.97080105e-01],\n",
       "       [-2.37605022e-01],\n",
       "       [-3.26817646e-01],\n",
       "       [-3.26817646e-01],\n",
       "       [-3.26817646e-01],\n",
       "       [-3.26817646e-01],\n",
       "       [-2.67342564e-01],\n",
       "       [-2.97080105e-01],\n",
       "       [-2.97080105e-01],\n",
       "       [-2.37605022e-01],\n",
       "       [-3.26817646e-01],\n",
       "       [-3.26817646e-01],\n",
       "       [-3.26817646e-01],\n",
       "       [-2.97080105e-01],\n",
       "       [-3.26817646e-01],\n",
       "       [-2.97080105e-01],\n",
       "       [-3.26817646e-01],\n",
       "       [-2.67342564e-01],\n",
       "       [-3.26817646e-01],\n",
       "       [-3.26817646e-01],\n",
       "       [-3.26817646e-01],\n",
       "       [-3.26817646e-01],\n",
       "       [-3.26817646e-01],\n",
       "       [-3.26817646e-01],\n",
       "       [-3.26817646e-01],\n",
       "       [-3.26817646e-01],\n",
       "       [-3.26817646e-01],\n",
       "       [-3.26817646e-01],\n",
       "       [-3.26817646e-01],\n",
       "       [-3.26817646e-01],\n",
       "       [-3.26817646e-01],\n",
       "       [-3.26817646e-01],\n",
       "       [-3.26817646e-01],\n",
       "       [-3.26817646e-01],\n",
       "       [-3.26817646e-01],\n",
       "       [ 1.19245474e-01],\n",
       "       [ 5.35571052e-01],\n",
       "       [ 2.08458098e-01],\n",
       "       [ 2.38195639e-01],\n",
       "       [ 1.36822221e+00],\n",
       "       [ 2.26034845e+00],\n",
       "       [ 1.54664746e+00],\n",
       "       [-3.26817646e-01],\n",
       "       [-3.26817646e-01],\n",
       "       [-3.26817646e-01],\n",
       "       [-2.97080105e-01],\n",
       "       [-3.26817646e-01],\n",
       "       [-3.26817646e-01],\n",
       "       [-2.97080105e-01],\n",
       "       [-3.26817646e-01],\n",
       "       [-3.26817646e-01],\n",
       "       [-3.26817646e-01],\n",
       "       [-3.26817646e-01],\n",
       "       [-3.26817646e-01],\n",
       "       [-3.26817646e-01],\n",
       "       [ 1.19245474e-01],\n",
       "       [-3.26817646e-01],\n",
       "       [-3.26817646e-01],\n",
       "       [-3.26817646e-01],\n",
       "       [-3.26817646e-01],\n",
       "       [-3.26817646e-01],\n",
       "       [-2.37605022e-01],\n",
       "       [-2.07867481e-01],\n",
       "       [-3.26817646e-01],\n",
       "       [-3.26817646e-01]])"
      ]
     },
     "execution_count": 38,
     "metadata": {},
     "output_type": "execute_result"
    }
   ],
   "source": [
    "import math\n",
    "\n",
    "split = 0.7\n",
    "n_train = math.floor(split * X.shape[0])\n",
    "n_test = math.ceil((1-split) * X.shape[0])\n",
    "X_train = X[:n_train]\n",
    "y_train = y[:n_train]\n",
    "X_test = X[n_train:]\n",
    "y_test = y[n_train:]\n",
    "y_train_n = y_train.to_numpy()\n",
    "y_test_n = y_test.to_numpy()\n",
    "y_test_n"
   ]
  },
  {
   "cell_type": "code",
   "execution_count": 39,
   "id": "b9eea806",
   "metadata": {},
   "outputs": [
    {
     "data": {
      "text/plain": [
       "array([[-0.32681765],\n",
       "       [-0.32681765],\n",
       "       [-0.32681765],\n",
       "       ...,\n",
       "       [-0.20786748],\n",
       "       [-0.32681765],\n",
       "       [-0.32681765]])"
      ]
     },
     "execution_count": 39,
     "metadata": {},
     "output_type": "execute_result"
    }
   ],
   "source": [
    "yn"
   ]
  },
  {
   "cell_type": "code",
   "execution_count": 40,
   "id": "1596e67e",
   "metadata": {},
   "outputs": [
    {
     "name": "stdout",
     "output_type": "stream",
     "text": [
      "Root Mean Square Error:\n",
      "0.41976832472134085\n"
     ]
    }
   ],
   "source": [
    "#RMSE LR for train\n",
    "MSE = np.square(np.subtract(y_train_n,predsLR[:n_train])).mean()\n",
    " \n",
    "RMSE = math.sqrt(MSE)\n",
    "print('Root Mean Square Error:')\n",
    "print(RMSE)"
   ]
  },
  {
   "cell_type": "code",
   "execution_count": 41,
   "id": "375c8474",
   "metadata": {},
   "outputs": [
    {
     "name": "stdout",
     "output_type": "stream",
     "text": [
      "Root Mean Square Error:\n",
      "0.6270109382540898\n"
     ]
    }
   ],
   "source": [
    "#RMSE LR for test\n",
    "MSE = np.square(np.subtract(y_test_n,predsLR[n_train:])).mean()\n",
    " \n",
    "RMSE = math.sqrt(MSE)\n",
    "print('Root Mean Square Error:')\n",
    "print(RMSE)"
   ]
  },
  {
   "cell_type": "code",
   "execution_count": 42,
   "id": "ffa38135",
   "metadata": {},
   "outputs": [
    {
     "name": "stdout",
     "output_type": "stream",
     "text": [
      "λ = 1\n",
      "Root Mean Square Error:\n",
      "0.41806351874997777\n",
      "\n",
      "\n",
      "λ = 10\n",
      "Root Mean Square Error:\n",
      "0.4078453813202535\n",
      "\n",
      "\n",
      "λ = 100\n",
      "Root Mean Square Error:\n",
      "0.40398542898311507\n",
      "\n",
      "\n"
     ]
    }
   ],
   "source": [
    "#RMSE RR for train\n",
    "for i in range(0, 3):\n",
    "    MSE = np.square(np.subtract(y_train_n,predsRR[i][:n_train])).mean()\n",
    "\n",
    "    RMSE = math.sqrt(MSE)\n",
    "    print(f'λ = {el[i]}')\n",
    "    print('Root Mean Square Error:')\n",
    "    print(RMSE)\n",
    "    print('\\n')"
   ]
  },
  {
   "cell_type": "code",
   "execution_count": 43,
   "id": "d0cf0553",
   "metadata": {
    "scrolled": true
   },
   "outputs": [
    {
     "name": "stdout",
     "output_type": "stream",
     "text": [
      "λ = 1\n",
      "Root Mean Square Error:\n",
      "0.6297746143624603\n",
      "\n",
      "\n",
      "λ = 10\n",
      "Root Mean Square Error:\n",
      "0.6531105279177137\n",
      "\n",
      "\n",
      "λ = 100\n",
      "Root Mean Square Error:\n",
      "0.762851210296512\n",
      "\n",
      "\n"
     ]
    }
   ],
   "source": [
    "#RMSE RR for test\n",
    "for i in range(0, 3):\n",
    "    MSE = np.square(np.subtract(y_test_n,predsRR[i][n_train:])).mean()\n",
    "\n",
    "    RMSE = math.sqrt(MSE)\n",
    "    print(f'λ = {el[i]}')\n",
    "    print('Root Mean Square Error:')\n",
    "    print(RMSE)\n",
    "    print('\\n')"
   ]
  },
  {
   "cell_type": "code",
   "execution_count": 44,
   "id": "b7b092c9",
   "metadata": {},
   "outputs": [
    {
     "data": {
      "text/plain": [
       "0.41976832472134085"
      ]
     },
     "execution_count": 44,
     "metadata": {},
     "output_type": "execute_result"
    }
   ],
   "source": [
    "#Επαλήθευση για LR for train\n",
    "from sklearn.metrics import mean_squared_error\n",
    "math.sqrt(mean_squared_error(y_train_n, predsLR[:n_train]))"
   ]
  },
  {
   "cell_type": "code",
   "execution_count": 45,
   "id": "76af91d0",
   "metadata": {
    "scrolled": true
   },
   "outputs": [
    {
     "data": {
      "text/plain": [
       "0.6270109382540898"
      ]
     },
     "execution_count": 45,
     "metadata": {},
     "output_type": "execute_result"
    }
   ],
   "source": [
    "#Επαλήθευση για LR for test\n",
    "math.sqrt(mean_squared_error(y_test_n, predsLR[n_train:]))"
   ]
  },
  {
   "cell_type": "code",
   "execution_count": 46,
   "id": "a243f327",
   "metadata": {},
   "outputs": [
    {
     "name": "stdout",
     "output_type": "stream",
     "text": [
      "0.41806351874997777\n",
      "0.4078453813202535\n",
      "0.40398542898311507\n"
     ]
    }
   ],
   "source": [
    "#Επαλήθευση για RR for train\n",
    "for i in range(0, 3):\n",
    "    print(math.sqrt(mean_squared_error(y_train_n, predsRR[i][:n_train])))"
   ]
  },
  {
   "cell_type": "code",
   "execution_count": 47,
   "id": "f64453a4",
   "metadata": {},
   "outputs": [
    {
     "name": "stdout",
     "output_type": "stream",
     "text": [
      "0.6297746143624603\n",
      "0.6531105279177137\n",
      "0.762851210296512\n"
     ]
    }
   ],
   "source": [
    "#Επαλήθευση για RR for test\n",
    "for i in range(0, 3):\n",
    "    print(math.sqrt(mean_squared_error(y_test_n, predsRR[i][n_train:])))"
   ]
  }
 ],
 "metadata": {
  "kernelspec": {
   "display_name": "Python 3 (ipykernel)",
   "language": "python",
   "name": "python3"
  },
  "language_info": {
   "codemirror_mode": {
    "name": "ipython",
    "version": 3
   },
   "file_extension": ".py",
   "mimetype": "text/x-python",
   "name": "python",
   "nbconvert_exporter": "python",
   "pygments_lexer": "ipython3",
   "version": "3.10.5"
  }
 },
 "nbformat": 4,
 "nbformat_minor": 5
}
